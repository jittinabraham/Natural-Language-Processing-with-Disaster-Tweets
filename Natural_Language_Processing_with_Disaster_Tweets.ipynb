{
  "nbformat": 4,
  "nbformat_minor": 0,
  "metadata": {
    "colab": {
      "provenance": [],
      "authorship_tag": "ABX9TyP2u5ex661WsoFd9Lhfoogs",
      "include_colab_link": true
    },
    "kernelspec": {
      "name": "python3",
      "display_name": "Python 3"
    },
    "language_info": {
      "name": "python"
    }
  },
  "cells": [
    {
      "cell_type": "markdown",
      "metadata": {
        "id": "view-in-github",
        "colab_type": "text"
      },
      "source": [
        "<a href=\"https://colab.research.google.com/github/jittinabraham/Natural-Language-Processing-with-Disaster-Tweets/blob/main/Natural_Language_Processing_with_Disaster_Tweets.ipynb\" target=\"_parent\"><img src=\"https://colab.research.google.com/assets/colab-badge.svg\" alt=\"Open In Colab\"/></a>"
      ]
    },
    {
      "cell_type": "code",
      "execution_count": 16,
      "metadata": {
        "colab": {
          "base_uri": "https://localhost:8080/"
        },
        "id": "cXsXetDIT_Ay",
        "outputId": "299f38c0-c6d6-4c78-a215-7885c448a2f8"
      },
      "outputs": [
        {
          "output_type": "stream",
          "name": "stdout",
          "text": [
            "Archive:  /content/nlp-getting-started.zip\n",
            "  inflating: sample_submission.csv   \n",
            "  inflating: test.csv                \n",
            "  inflating: train.csv               \n"
          ]
        }
      ],
      "source": [
        "!unzip '/content/nlp-getting-started.zip'"
      ]
    },
    {
      "cell_type": "code",
      "source": [
        "import pandas as pd\n",
        "train_df=pd.read_csv('train.csv')\n",
        "test_df=pd.read_csv('test.csv')\n",
        "train_df.head(1000)"
      ],
      "metadata": {
        "colab": {
          "base_uri": "https://localhost:8080/",
          "height": 580
        },
        "id": "OqmDts6gUlc6",
        "outputId": "2cb31232-e1d7-406c-e244-ddc4bf57ae03"
      },
      "execution_count": 17,
      "outputs": [
        {
          "output_type": "execute_result",
          "data": {
            "text/plain": [
              "       id         keyword                               location  \\\n",
              "0       1             NaN                                    NaN   \n",
              "1       4             NaN                                    NaN   \n",
              "2       5             NaN                                    NaN   \n",
              "3       6             NaN                                    NaN   \n",
              "4       7             NaN                                    NaN   \n",
              "..    ...             ...                                    ...   \n",
              "995  1445  body%20bagging                                    NaN   \n",
              "996  1447  body%20bagging                 PURPLE BOOTH STUDIOã¢   \n",
              "997  1448  body%20bagging                                Cloud 9   \n",
              "998  1449  body%20bagging                                    NaN   \n",
              "999  1450  body%20bagging  Former Yugoslav Republic of Macedonia   \n",
              "\n",
              "                                                  text  target  \n",
              "0    Our Deeds are the Reason of this #earthquake M...       1  \n",
              "1               Forest fire near La Ronge Sask. Canada       1  \n",
              "2    All residents asked to 'shelter in place' are ...       1  \n",
              "3    13,000 people receive #wildfires evacuation or...       1  \n",
              "4    Just got sent this photo from Ruby #Alaska as ...       1  \n",
              "..                                                 ...     ...  \n",
              "995   Body Bagging Bitches ???? http://t.co/aFssGPnZWi       0  \n",
              "996  No better feeling than seeing and being on sta...       0  \n",
              "997  Mopheme and Bigstar Johnson are a problem in t...       0  \n",
              "998  I was body Bagging on the ????Today...4got to ...       0  \n",
              "999  @editaxohaze then let the bagging body's begin...       0  \n",
              "\n",
              "[1000 rows x 5 columns]"
            ],
            "text/html": [
              "\n",
              "  <div id=\"df-c2b676ac-b290-4657-a96f-8cceef881898\" class=\"colab-df-container\">\n",
              "    <div>\n",
              "<style scoped>\n",
              "    .dataframe tbody tr th:only-of-type {\n",
              "        vertical-align: middle;\n",
              "    }\n",
              "\n",
              "    .dataframe tbody tr th {\n",
              "        vertical-align: top;\n",
              "    }\n",
              "\n",
              "    .dataframe thead th {\n",
              "        text-align: right;\n",
              "    }\n",
              "</style>\n",
              "<table border=\"1\" class=\"dataframe\">\n",
              "  <thead>\n",
              "    <tr style=\"text-align: right;\">\n",
              "      <th></th>\n",
              "      <th>id</th>\n",
              "      <th>keyword</th>\n",
              "      <th>location</th>\n",
              "      <th>text</th>\n",
              "      <th>target</th>\n",
              "    </tr>\n",
              "  </thead>\n",
              "  <tbody>\n",
              "    <tr>\n",
              "      <th>0</th>\n",
              "      <td>1</td>\n",
              "      <td>NaN</td>\n",
              "      <td>NaN</td>\n",
              "      <td>Our Deeds are the Reason of this #earthquake M...</td>\n",
              "      <td>1</td>\n",
              "    </tr>\n",
              "    <tr>\n",
              "      <th>1</th>\n",
              "      <td>4</td>\n",
              "      <td>NaN</td>\n",
              "      <td>NaN</td>\n",
              "      <td>Forest fire near La Ronge Sask. Canada</td>\n",
              "      <td>1</td>\n",
              "    </tr>\n",
              "    <tr>\n",
              "      <th>2</th>\n",
              "      <td>5</td>\n",
              "      <td>NaN</td>\n",
              "      <td>NaN</td>\n",
              "      <td>All residents asked to 'shelter in place' are ...</td>\n",
              "      <td>1</td>\n",
              "    </tr>\n",
              "    <tr>\n",
              "      <th>3</th>\n",
              "      <td>6</td>\n",
              "      <td>NaN</td>\n",
              "      <td>NaN</td>\n",
              "      <td>13,000 people receive #wildfires evacuation or...</td>\n",
              "      <td>1</td>\n",
              "    </tr>\n",
              "    <tr>\n",
              "      <th>4</th>\n",
              "      <td>7</td>\n",
              "      <td>NaN</td>\n",
              "      <td>NaN</td>\n",
              "      <td>Just got sent this photo from Ruby #Alaska as ...</td>\n",
              "      <td>1</td>\n",
              "    </tr>\n",
              "    <tr>\n",
              "      <th>...</th>\n",
              "      <td>...</td>\n",
              "      <td>...</td>\n",
              "      <td>...</td>\n",
              "      <td>...</td>\n",
              "      <td>...</td>\n",
              "    </tr>\n",
              "    <tr>\n",
              "      <th>995</th>\n",
              "      <td>1445</td>\n",
              "      <td>body%20bagging</td>\n",
              "      <td>NaN</td>\n",
              "      <td>Body Bagging Bitches ???? http://t.co/aFssGPnZWi</td>\n",
              "      <td>0</td>\n",
              "    </tr>\n",
              "    <tr>\n",
              "      <th>996</th>\n",
              "      <td>1447</td>\n",
              "      <td>body%20bagging</td>\n",
              "      <td>PURPLE BOOTH STUDIOã¢</td>\n",
              "      <td>No better feeling than seeing and being on sta...</td>\n",
              "      <td>0</td>\n",
              "    </tr>\n",
              "    <tr>\n",
              "      <th>997</th>\n",
              "      <td>1448</td>\n",
              "      <td>body%20bagging</td>\n",
              "      <td>Cloud 9</td>\n",
              "      <td>Mopheme and Bigstar Johnson are a problem in t...</td>\n",
              "      <td>0</td>\n",
              "    </tr>\n",
              "    <tr>\n",
              "      <th>998</th>\n",
              "      <td>1449</td>\n",
              "      <td>body%20bagging</td>\n",
              "      <td>NaN</td>\n",
              "      <td>I was body Bagging on the ????Today...4got to ...</td>\n",
              "      <td>0</td>\n",
              "    </tr>\n",
              "    <tr>\n",
              "      <th>999</th>\n",
              "      <td>1450</td>\n",
              "      <td>body%20bagging</td>\n",
              "      <td>Former Yugoslav Republic of Macedonia</td>\n",
              "      <td>@editaxohaze then let the bagging body's begin...</td>\n",
              "      <td>0</td>\n",
              "    </tr>\n",
              "  </tbody>\n",
              "</table>\n",
              "<p>1000 rows × 5 columns</p>\n",
              "</div>\n",
              "    <div class=\"colab-df-buttons\">\n",
              "\n",
              "  <div class=\"colab-df-container\">\n",
              "    <button class=\"colab-df-convert\" onclick=\"convertToInteractive('df-c2b676ac-b290-4657-a96f-8cceef881898')\"\n",
              "            title=\"Convert this dataframe to an interactive table.\"\n",
              "            style=\"display:none;\">\n",
              "\n",
              "  <svg xmlns=\"http://www.w3.org/2000/svg\" height=\"24px\" viewBox=\"0 -960 960 960\">\n",
              "    <path d=\"M120-120v-720h720v720H120Zm60-500h600v-160H180v160Zm220 220h160v-160H400v160Zm0 220h160v-160H400v160ZM180-400h160v-160H180v160Zm440 0h160v-160H620v160ZM180-180h160v-160H180v160Zm440 0h160v-160H620v160Z\"/>\n",
              "  </svg>\n",
              "    </button>\n",
              "\n",
              "  <style>\n",
              "    .colab-df-container {\n",
              "      display:flex;\n",
              "      gap: 12px;\n",
              "    }\n",
              "\n",
              "    .colab-df-convert {\n",
              "      background-color: #E8F0FE;\n",
              "      border: none;\n",
              "      border-radius: 50%;\n",
              "      cursor: pointer;\n",
              "      display: none;\n",
              "      fill: #1967D2;\n",
              "      height: 32px;\n",
              "      padding: 0 0 0 0;\n",
              "      width: 32px;\n",
              "    }\n",
              "\n",
              "    .colab-df-convert:hover {\n",
              "      background-color: #E2EBFA;\n",
              "      box-shadow: 0px 1px 2px rgba(60, 64, 67, 0.3), 0px 1px 3px 1px rgba(60, 64, 67, 0.15);\n",
              "      fill: #174EA6;\n",
              "    }\n",
              "\n",
              "    .colab-df-buttons div {\n",
              "      margin-bottom: 4px;\n",
              "    }\n",
              "\n",
              "    [theme=dark] .colab-df-convert {\n",
              "      background-color: #3B4455;\n",
              "      fill: #D2E3FC;\n",
              "    }\n",
              "\n",
              "    [theme=dark] .colab-df-convert:hover {\n",
              "      background-color: #434B5C;\n",
              "      box-shadow: 0px 1px 3px 1px rgba(0, 0, 0, 0.15);\n",
              "      filter: drop-shadow(0px 1px 2px rgba(0, 0, 0, 0.3));\n",
              "      fill: #FFFFFF;\n",
              "    }\n",
              "  </style>\n",
              "\n",
              "    <script>\n",
              "      const buttonEl =\n",
              "        document.querySelector('#df-c2b676ac-b290-4657-a96f-8cceef881898 button.colab-df-convert');\n",
              "      buttonEl.style.display =\n",
              "        google.colab.kernel.accessAllowed ? 'block' : 'none';\n",
              "\n",
              "      async function convertToInteractive(key) {\n",
              "        const element = document.querySelector('#df-c2b676ac-b290-4657-a96f-8cceef881898');\n",
              "        const dataTable =\n",
              "          await google.colab.kernel.invokeFunction('convertToInteractive',\n",
              "                                                    [key], {});\n",
              "        if (!dataTable) return;\n",
              "\n",
              "        const docLinkHtml = 'Like what you see? Visit the ' +\n",
              "          '<a target=\"_blank\" href=https://colab.research.google.com/notebooks/data_table.ipynb>data table notebook</a>'\n",
              "          + ' to learn more about interactive tables.';\n",
              "        element.innerHTML = '';\n",
              "        dataTable['output_type'] = 'display_data';\n",
              "        await google.colab.output.renderOutput(dataTable, element);\n",
              "        const docLink = document.createElement('div');\n",
              "        docLink.innerHTML = docLinkHtml;\n",
              "        element.appendChild(docLink);\n",
              "      }\n",
              "    </script>\n",
              "  </div>\n",
              "\n",
              "\n",
              "<div id=\"df-c540e8ea-4f27-4a7f-92b3-522426fd5052\">\n",
              "  <button class=\"colab-df-quickchart\" onclick=\"quickchart('df-c540e8ea-4f27-4a7f-92b3-522426fd5052')\"\n",
              "            title=\"Suggest charts\"\n",
              "            style=\"display:none;\">\n",
              "\n",
              "<svg xmlns=\"http://www.w3.org/2000/svg\" height=\"24px\"viewBox=\"0 0 24 24\"\n",
              "     width=\"24px\">\n",
              "    <g>\n",
              "        <path d=\"M19 3H5c-1.1 0-2 .9-2 2v14c0 1.1.9 2 2 2h14c1.1 0 2-.9 2-2V5c0-1.1-.9-2-2-2zM9 17H7v-7h2v7zm4 0h-2V7h2v10zm4 0h-2v-4h2v4z\"/>\n",
              "    </g>\n",
              "</svg>\n",
              "  </button>\n",
              "\n",
              "<style>\n",
              "  .colab-df-quickchart {\n",
              "      --bg-color: #E8F0FE;\n",
              "      --fill-color: #1967D2;\n",
              "      --hover-bg-color: #E2EBFA;\n",
              "      --hover-fill-color: #174EA6;\n",
              "      --disabled-fill-color: #AAA;\n",
              "      --disabled-bg-color: #DDD;\n",
              "  }\n",
              "\n",
              "  [theme=dark] .colab-df-quickchart {\n",
              "      --bg-color: #3B4455;\n",
              "      --fill-color: #D2E3FC;\n",
              "      --hover-bg-color: #434B5C;\n",
              "      --hover-fill-color: #FFFFFF;\n",
              "      --disabled-bg-color: #3B4455;\n",
              "      --disabled-fill-color: #666;\n",
              "  }\n",
              "\n",
              "  .colab-df-quickchart {\n",
              "    background-color: var(--bg-color);\n",
              "    border: none;\n",
              "    border-radius: 50%;\n",
              "    cursor: pointer;\n",
              "    display: none;\n",
              "    fill: var(--fill-color);\n",
              "    height: 32px;\n",
              "    padding: 0;\n",
              "    width: 32px;\n",
              "  }\n",
              "\n",
              "  .colab-df-quickchart:hover {\n",
              "    background-color: var(--hover-bg-color);\n",
              "    box-shadow: 0 1px 2px rgba(60, 64, 67, 0.3), 0 1px 3px 1px rgba(60, 64, 67, 0.15);\n",
              "    fill: var(--button-hover-fill-color);\n",
              "  }\n",
              "\n",
              "  .colab-df-quickchart-complete:disabled,\n",
              "  .colab-df-quickchart-complete:disabled:hover {\n",
              "    background-color: var(--disabled-bg-color);\n",
              "    fill: var(--disabled-fill-color);\n",
              "    box-shadow: none;\n",
              "  }\n",
              "\n",
              "  .colab-df-spinner {\n",
              "    border: 2px solid var(--fill-color);\n",
              "    border-color: transparent;\n",
              "    border-bottom-color: var(--fill-color);\n",
              "    animation:\n",
              "      spin 1s steps(1) infinite;\n",
              "  }\n",
              "\n",
              "  @keyframes spin {\n",
              "    0% {\n",
              "      border-color: transparent;\n",
              "      border-bottom-color: var(--fill-color);\n",
              "      border-left-color: var(--fill-color);\n",
              "    }\n",
              "    20% {\n",
              "      border-color: transparent;\n",
              "      border-left-color: var(--fill-color);\n",
              "      border-top-color: var(--fill-color);\n",
              "    }\n",
              "    30% {\n",
              "      border-color: transparent;\n",
              "      border-left-color: var(--fill-color);\n",
              "      border-top-color: var(--fill-color);\n",
              "      border-right-color: var(--fill-color);\n",
              "    }\n",
              "    40% {\n",
              "      border-color: transparent;\n",
              "      border-right-color: var(--fill-color);\n",
              "      border-top-color: var(--fill-color);\n",
              "    }\n",
              "    60% {\n",
              "      border-color: transparent;\n",
              "      border-right-color: var(--fill-color);\n",
              "    }\n",
              "    80% {\n",
              "      border-color: transparent;\n",
              "      border-right-color: var(--fill-color);\n",
              "      border-bottom-color: var(--fill-color);\n",
              "    }\n",
              "    90% {\n",
              "      border-color: transparent;\n",
              "      border-bottom-color: var(--fill-color);\n",
              "    }\n",
              "  }\n",
              "</style>\n",
              "\n",
              "  <script>\n",
              "    async function quickchart(key) {\n",
              "      const quickchartButtonEl =\n",
              "        document.querySelector('#' + key + ' button');\n",
              "      quickchartButtonEl.disabled = true;  // To prevent multiple clicks.\n",
              "      quickchartButtonEl.classList.add('colab-df-spinner');\n",
              "      try {\n",
              "        const charts = await google.colab.kernel.invokeFunction(\n",
              "            'suggestCharts', [key], {});\n",
              "      } catch (error) {\n",
              "        console.error('Error during call to suggestCharts:', error);\n",
              "      }\n",
              "      quickchartButtonEl.classList.remove('colab-df-spinner');\n",
              "      quickchartButtonEl.classList.add('colab-df-quickchart-complete');\n",
              "    }\n",
              "    (() => {\n",
              "      let quickchartButtonEl =\n",
              "        document.querySelector('#df-c540e8ea-4f27-4a7f-92b3-522426fd5052 button');\n",
              "      quickchartButtonEl.style.display =\n",
              "        google.colab.kernel.accessAllowed ? 'block' : 'none';\n",
              "    })();\n",
              "  </script>\n",
              "</div>\n",
              "    </div>\n",
              "  </div>\n"
            ],
            "application/vnd.google.colaboratory.intrinsic+json": {
              "type": "dataframe",
              "variable_name": "train_df",
              "summary": "{\n  \"name\": \"train_df\",\n  \"rows\": 7613,\n  \"fields\": [\n    {\n      \"column\": \"id\",\n      \"properties\": {\n        \"dtype\": \"number\",\n        \"std\": 3137,\n        \"min\": 1,\n        \"max\": 10873,\n        \"num_unique_values\": 7613,\n        \"samples\": [\n          3796,\n          3185,\n          7769\n        ],\n        \"semantic_type\": \"\",\n        \"description\": \"\"\n      }\n    },\n    {\n      \"column\": \"keyword\",\n      \"properties\": {\n        \"dtype\": \"category\",\n        \"num_unique_values\": 221,\n        \"samples\": [\n          \"injury\",\n          \"nuclear%20reactor\",\n          \"engulfed\"\n        ],\n        \"semantic_type\": \"\",\n        \"description\": \"\"\n      }\n    },\n    {\n      \"column\": \"location\",\n      \"properties\": {\n        \"dtype\": \"category\",\n        \"num_unique_values\": 3341,\n        \"samples\": [\n          \"Oklahoma\",\n          \"Starling City\",\n          \"Trinidad and Tobago\"\n        ],\n        \"semantic_type\": \"\",\n        \"description\": \"\"\n      }\n    },\n    {\n      \"column\": \"text\",\n      \"properties\": {\n        \"dtype\": \"string\",\n        \"num_unique_values\": 7503,\n        \"samples\": [\n          \"Three Homes Demolished in Unrecognized Arab Village - International Middle East Media Center http://t.co/ik8m4Yi9T4\",\n          \"Reid Lake fire prompts campground evacuation order http://t.co/jBODKM6rBU\",\n          \"FAAN orders evacuation of abandoned aircraft at MMA http://t.co/dEvYbnVXGQ via @todayng\"\n        ],\n        \"semantic_type\": \"\",\n        \"description\": \"\"\n      }\n    },\n    {\n      \"column\": \"target\",\n      \"properties\": {\n        \"dtype\": \"number\",\n        \"std\": 0,\n        \"min\": 0,\n        \"max\": 1,\n        \"num_unique_values\": 2,\n        \"samples\": [\n          0,\n          1\n        ],\n        \"semantic_type\": \"\",\n        \"description\": \"\"\n      }\n    }\n  ]\n}"
            }
          },
          "metadata": {},
          "execution_count": 17
        }
      ]
    },
    {
      "cell_type": "code",
      "source": [
        "import nltk\n",
        "nltk.download('stopwords')\n",
        "nltk.download('punkt')\n",
        "from nltk.corpus import stopwords\n",
        "from nltk.tokenize import word_tokenize\n",
        "nltk.download('wordnet')\n",
        "from nltk.stem import WordNetLemmatizer\n",
        "import pandas as pd\n",
        "import re\n",
        "import joblib\n",
        "import pickle\n",
        "import tensorflow\n",
        "import string"
      ],
      "metadata": {
        "colab": {
          "base_uri": "https://localhost:8080/"
        },
        "id": "_RSd2YaPXoPC",
        "outputId": "cf3722fb-45eb-4732-a0b3-aa5a2cc31f9c"
      },
      "execution_count": 18,
      "outputs": [
        {
          "output_type": "stream",
          "name": "stderr",
          "text": [
            "[nltk_data] Downloading package stopwords to /root/nltk_data...\n",
            "[nltk_data]   Package stopwords is already up-to-date!\n",
            "[nltk_data] Downloading package punkt to /root/nltk_data...\n",
            "[nltk_data]   Package punkt is already up-to-date!\n",
            "[nltk_data] Downloading package wordnet to /root/nltk_data...\n",
            "[nltk_data]   Package wordnet is already up-to-date!\n"
          ]
        }
      ]
    },
    {
      "cell_type": "code",
      "source": [
        "def clean_and_tokenize(text):\n",
        "    text = text.lower()\n",
        "    text = text.translate(str.maketrans('', '', string.punctuation))\n",
        "    tokens = word_tokenize(text)\n",
        "    stop_words = set(stopwords.words('english'))\n",
        "    tokens = [token for token in tokens if token not in stop_words]\n",
        "    lemmatizer = WordNetLemmatizer()\n",
        "    tokens = [lemmatizer.lemmatize(token) for token in tokens]\n",
        "    return tokens"
      ],
      "metadata": {
        "id": "_Gs0jsd2YYTn"
      },
      "execution_count": 19,
      "outputs": []
    },
    {
      "cell_type": "code",
      "source": [
        "train_df['text tokens'] = train_df['text'].apply(clean_and_tokenize)"
      ],
      "metadata": {
        "id": "W1JRc9hVYj5H"
      },
      "execution_count": 20,
      "outputs": []
    },
    {
      "cell_type": "code",
      "source": [
        "train_df['text tokens'].head(100)\n",
        "labels=train_df['target'].astype(int)\n",
        "texts=train_df['text tokens']"
      ],
      "metadata": {
        "id": "HxtDSLGkZHgL"
      },
      "execution_count": 26,
      "outputs": []
    },
    {
      "cell_type": "code",
      "source": [
        "print(labels)"
      ],
      "metadata": {
        "colab": {
          "base_uri": "https://localhost:8080/"
        },
        "id": "DmZ84KP_alkD",
        "outputId": "f40d99a5-0845-4183-91ec-81b7364005e5"
      },
      "execution_count": 24,
      "outputs": [
        {
          "output_type": "stream",
          "name": "stdout",
          "text": [
            "0       1\n",
            "1       1\n",
            "2       1\n",
            "3       1\n",
            "4       1\n",
            "       ..\n",
            "7608    1\n",
            "7609    1\n",
            "7610    1\n",
            "7611    1\n",
            "7612    1\n",
            "Name: target, Length: 7613, dtype: int64\n"
          ]
        }
      ]
    },
    {
      "cell_type": "code",
      "source": [
        "from sklearn.model_selection import train_test_split\n",
        "from sklearn.feature_extraction.text import TfidfVectorizer\n",
        "\n",
        "train_texts_joined = [' '.join(text) for text in texts]\n",
        "# Split data into training and testing sets\n",
        "train_texts, test_texts, train_labels, test_labels = train_test_split(train_texts_joined , labels, test_size=0.2, random_state=42)\n",
        "\n",
        "# Create TF-IDF vectorizer\n",
        "tfidf_vectorizer = TfidfVectorizer()\n",
        "\n",
        "# Fit and transform the training data\n",
        "tfidf_train = tfidf_vectorizer.fit_transform(train_texts)\n",
        "\n",
        "# Transform the testing data\n",
        "tfidf_test = tfidf_vectorizer.transform(test_texts)\n",
        "\n",
        "# Display the TF-IDF matrix (sparse representation)\n",
        "print(\"TF-IDF matrix shape (train):\", tfidf_train.shape)\n",
        "print(\"TF-IDF matrix shape (test):\", tfidf_test.shape)\n"
      ],
      "metadata": {
        "colab": {
          "base_uri": "https://localhost:8080/"
        },
        "id": "Y1GUajdparrT",
        "outputId": "7384bd6a-a854-468b-d2d4-a7ca2084365e"
      },
      "execution_count": 58,
      "outputs": [
        {
          "output_type": "stream",
          "name": "stdout",
          "text": [
            "TF-IDF matrix shape (train): (6090, 17971)\n",
            "TF-IDF matrix shape (test): (1523, 17971)\n"
          ]
        }
      ]
    },
    {
      "cell_type": "code",
      "source": [
        "from sklearn.linear_model import SGDClassifier\n",
        "from sklearn.metrics import accuracy_score\n",
        "\n",
        "# Create an SGD classifier\n",
        "sgd_classifier = SGDClassifier(loss='log', random_state=42)\n",
        "\n",
        "# Train the classifier on the word2vec vectors\n",
        "sgd_classifier.fit(tfidf_train, train_labels)\n",
        "\n",
        "# Predict on the testing data\n",
        "predictions = sgd_classifier.predict(tfidf_test)\n",
        "\n",
        "# Calculate accuracy\n",
        "accuracy = accuracy_score(test_labels, predictions)\n",
        "print(\"Accuracy:\", accuracy)\n"
      ],
      "metadata": {
        "colab": {
          "base_uri": "https://localhost:8080/"
        },
        "id": "IOP9jJl6mpZH",
        "outputId": "35f53e6b-1e2c-42a7-caaf-bb9b6e624404"
      },
      "execution_count": 61,
      "outputs": [
        {
          "output_type": "stream",
          "name": "stdout",
          "text": [
            "Accuracy: 0.8010505581089954\n"
          ]
        },
        {
          "output_type": "stream",
          "name": "stderr",
          "text": [
            "/usr/local/lib/python3.10/dist-packages/sklearn/linear_model/_stochastic_gradient.py:163: FutureWarning: The loss 'log' was deprecated in v1.1 and will be removed in version 1.3. Use `loss='log_loss'` which is equivalent.\n",
            "  warnings.warn(\n"
          ]
        }
      ]
    },
    {
      "cell_type": "code",
      "source": [
        "from sklearn.svm import SVC\n",
        "from sklearn.metrics import accuracy_score\n",
        "\n",
        "# Create an SVM classifier\n",
        "svm_classifier = SVC(kernel='rbf', random_state=42)\n",
        "\n",
        "# Train the classifier on the TF-IDF vectors\n",
        "svm_classifier.fit(tfidf_train, train_labels)\n",
        "\n",
        "# Predict on the testing data\n",
        "predictions = svm_classifier.predict(tfidf_test)\n",
        "\n",
        "# Calculate accuracy\n",
        "accuracy = accuracy_score(test_labels, predictions)\n",
        "print(\"Accuracy:\", accuracy)\n"
      ],
      "metadata": {
        "colab": {
          "base_uri": "https://localhost:8080/"
        },
        "id": "2Xt_XViVnH4q",
        "outputId": "10d505a3-d36a-4ff6-9c74-1823bb6223fb"
      },
      "execution_count": 65,
      "outputs": [
        {
          "output_type": "stream",
          "name": "stdout",
          "text": [
            "Accuracy: 0.7984241628365069\n"
          ]
        }
      ]
    },
    {
      "cell_type": "code",
      "source": [
        "from sklearn.tree import DecisionTreeClassifier\n",
        "from sklearn.metrics import accuracy_score\n",
        "\n",
        "# Create a Decision Tree classifier\n",
        "decision_tree_classifier = DecisionTreeClassifier(random_state=42)\n",
        "\n",
        "# Train the classifier on the training data\n",
        "decision_tree_classifier.fit(tfidf_train, train_labels)\n",
        "\n",
        "# Predict on the testing data\n",
        "predictions = decision_tree_classifier.predict(tfidf_test)\n",
        "\n",
        "# Calculate accuracy\n",
        "accuracy = accuracy_score(test_labels, predictions)\n",
        "print(\"Accuracy:\", accuracy)\n"
      ],
      "metadata": {
        "colab": {
          "base_uri": "https://localhost:8080/"
        },
        "id": "hRK4QJUqn85h",
        "outputId": "7c1aa998-647d-4608-ba31-364540d45217"
      },
      "execution_count": 66,
      "outputs": [
        {
          "output_type": "stream",
          "name": "stdout",
          "text": [
            "Accuracy: 0.7156927117531189\n"
          ]
        }
      ]
    },
    {
      "cell_type": "code",
      "source": [
        "!pip install gensim"
      ],
      "metadata": {
        "colab": {
          "base_uri": "https://localhost:8080/"
        },
        "id": "Y-9DPstMdIGA",
        "outputId": "73956a7c-51aa-4d7f-c094-6d34c50f805d"
      },
      "execution_count": 33,
      "outputs": [
        {
          "output_type": "stream",
          "name": "stdout",
          "text": [
            "Requirement already satisfied: gensim in /usr/local/lib/python3.10/dist-packages (4.3.2)\n",
            "Requirement already satisfied: numpy>=1.18.5 in /usr/local/lib/python3.10/dist-packages (from gensim) (1.25.2)\n",
            "Requirement already satisfied: scipy>=1.7.0 in /usr/local/lib/python3.10/dist-packages (from gensim) (1.11.4)\n",
            "Requirement already satisfied: smart-open>=1.8.1 in /usr/local/lib/python3.10/dist-packages (from gensim) (6.4.0)\n"
          ]
        }
      ]
    },
    {
      "cell_type": "code",
      "source": [
        "from gensim.models import Word2Vec\n",
        "from sklearn.feature_extraction.text import CountVectorizer\n",
        "import numpy as np\n",
        "word2vec_model = Word2Vec(sentences=train_texts_joined , vector_size=50, window=3, min_count=2)\n",
        "\n",
        "# Function to transform text to word vectors\n",
        "def text_to_word_vectors(text, model):\n",
        "    word_vectors = []\n",
        "    for word in text.split():\n",
        "        if word in model.wv:\n",
        "            word_vectors.append(model.wv[word])\n",
        "    if not word_vectors:\n",
        "        # If no word vectors found, return zero vector\n",
        "        return np.zeros(model.vector_size)\n",
        "    return np.mean(word_vectors, axis=0)\n",
        "\n",
        "# Transform training data\n",
        "word2vec_train = np.array([text_to_word_vectors(text, word2vec_model) for text in train_texts])\n",
        "\n",
        "# Transform testing data\n",
        "word2vec_test = np.array([text_to_word_vectors(text, word2vec_model) for text in test_texts])\n",
        "\n",
        "# Display the Word2Vec matrix\n",
        "print(\"Word2Vec matrix shape (train):\", word2vec_train.shape)\n",
        "print(\"Word2Vec matrix shape (test):\", word2vec_test.shape)"
      ],
      "metadata": {
        "colab": {
          "base_uri": "https://localhost:8080/"
        },
        "id": "UakEbaZgc7hA",
        "outputId": "e3ffa676-fb8e-44ec-8f70-d963af5a46d2"
      },
      "execution_count": 67,
      "outputs": [
        {
          "output_type": "stream",
          "name": "stderr",
          "text": [
            "WARNING:gensim.models.word2vec:Each 'sentences' item should be a list of words (usually unicode strings). First item here is instead plain <class 'str'>.\n"
          ]
        },
        {
          "output_type": "stream",
          "name": "stdout",
          "text": [
            "Word2Vec matrix shape (train): (6090, 50)\n",
            "Word2Vec matrix shape (test): (1523, 50)\n"
          ]
        }
      ]
    },
    {
      "cell_type": "code",
      "source": [
        "from sklearn.ensemble import RandomForestClassifier\n",
        "from sklearn.metrics import accuracy_score\n",
        "\n",
        "# Create a Random Forest classifier\n",
        "rf_classifier = RandomForestClassifier(n_estimators=100, random_state=42)\n",
        "\n",
        "# Train the classifier on the TF-IDF vectors\n",
        "rf_classifier.fit(tfidf_train, train_labels)\n",
        "\n",
        "# Predict on the testing data\n",
        "predictions = rf_classifier.predict(tfidf_test)\n",
        "\n",
        "# Calculate accuracy\n",
        "accuracy = accuracy_score(test_labels, predictions)\n",
        "print(\"Accuracy:\", accuracy)\n"
      ],
      "metadata": {
        "colab": {
          "base_uri": "https://localhost:8080/"
        },
        "id": "7sgWmvUjcGzV",
        "outputId": "2641d2b1-4788-4a2b-ba6b-50a3d16224ef"
      },
      "execution_count": 30,
      "outputs": [
        {
          "output_type": "stream",
          "name": "stdout",
          "text": [
            "Accuracy: 0.7839789888378201\n"
          ]
        }
      ]
    },
    {
      "cell_type": "code",
      "source": [
        "from sklearn.ensemble import RandomForestClassifier\n",
        "from sklearn.metrics import accuracy_score\n",
        "\n",
        "# Create a Random Forest classifier\n",
        "rf_classifier = RandomForestClassifier(n_estimators=100, random_state=42)\n",
        "\n",
        "# Train the classifier on the TF-IDF vectors\n",
        "rf_classifier.fit(word2vec_train, train_labels)\n",
        "\n",
        "# Predict on the testing data\n",
        "predictions = rf_classifier.predict(word2vec_test)\n",
        "\n",
        "# Calculate accuracy\n",
        "accuracy = accuracy_score(test_labels, predictions)\n",
        "print(\"Accuracy:\", accuracy)"
      ],
      "metadata": {
        "colab": {
          "base_uri": "https://localhost:8080/"
        },
        "id": "pF138fXleQU5",
        "outputId": "2f4a3aa6-b77f-4f20-fb19-3f9266c0dc6f"
      },
      "execution_count": 68,
      "outputs": [
        {
          "output_type": "stream",
          "name": "stdout",
          "text": [
            "Accuracy: 0.5712409717662508\n"
          ]
        }
      ]
    },
    {
      "cell_type": "code",
      "source": [
        "from sklearn.naive_bayes import MultinomialNB\n",
        "from sklearn.metrics import accuracy_score\n",
        "\n",
        "# Create a Multinomial Naive Bayes classifier\n",
        "nb_classifier = MultinomialNB()\n",
        "\n",
        "# Train the classifier on the TF-IDF vectors\n",
        "nb_classifier.fit(tfidf_train, train_labels)\n",
        "\n",
        "# Predict on the testing data\n",
        "predictions = nb_classifier.predict(tfidf_test)\n",
        "\n",
        "# Calculate accuracy\n",
        "accuracy = accuracy_score(test_labels, predictions)\n",
        "print(\"Accuracy:\", accuracy)\n"
      ],
      "metadata": {
        "colab": {
          "base_uri": "https://localhost:8080/"
        },
        "id": "0TmhAuBicuFN",
        "outputId": "eebe748c-affc-4d3d-d99b-5334742e63a5"
      },
      "execution_count": 31,
      "outputs": [
        {
          "output_type": "stream",
          "name": "stdout",
          "text": [
            "Accuracy: 0.7951411687458962\n"
          ]
        }
      ]
    },
    {
      "cell_type": "code",
      "source": [
        "from tensorflow.keras.preprocessing.text import Tokenizer\n",
        "from keras.preprocessing.sequence import pad_sequences\n",
        "MAX_LEN=40\n",
        "tokenizer_obj=Tokenizer()\n",
        "tokenizer_obj.fit_on_texts(texts)\n",
        "sequences=tokenizer_obj.texts_to_sequences(texts)\n",
        "\n",
        "tweet_pad=pad_sequences(sequences,maxlen=MAX_LEN,truncating='post',padding='post')\n",
        "\n",
        "word_index=tokenizer_obj.word_index\n",
        "\n",
        "num_words=len(word_index)+1\n",
        "embedding_matrix=np.zeros((num_words,300))"
      ],
      "metadata": {
        "id": "a3bYh9uthIBx"
      },
      "execution_count": 47,
      "outputs": []
    },
    {
      "cell_type": "code",
      "source": [
        "from tqdm import tqdm\n",
        "import gensim.downloader as api\n",
        "model_fasttext = api.load(\"glove-wiki-gigaword-300\")\n",
        "known_words = []\n",
        "unknown_words = []\n",
        "for word,i in tqdm(word_index.items()):\n",
        "    if i > num_words:\n",
        "        continue\n",
        "\n",
        "    if word in model_fasttext:\n",
        "        known_words.append(word)\n",
        "        embedding_matrix[i] = model_fasttext[word]\n",
        "    else:\n",
        "        unknown_words.append(word)"
      ],
      "metadata": {
        "colab": {
          "base_uri": "https://localhost:8080/"
        },
        "id": "ZWrgL1EWfn0b",
        "outputId": "274723ea-a728-4161-d482-5b0c6f38a05c"
      },
      "execution_count": 49,
      "outputs": [
        {
          "output_type": "stream",
          "name": "stdout",
          "text": [
            "[==================================================] 100.0% 376.1/376.1MB downloaded\n"
          ]
        },
        {
          "output_type": "stream",
          "name": "stderr",
          "text": [
            "100%|██████████| 21271/21271 [00:00<00:00, 146867.30it/s]\n"
          ]
        }
      ]
    },
    {
      "cell_type": "code",
      "source": [
        "print(len(unknown_words))\n",
        "print(len(known_words))\n",
        ""
      ],
      "metadata": {
        "colab": {
          "base_uri": "https://localhost:8080/"
        },
        "id": "NeS5pIJjjsUh",
        "outputId": "1357e528-8e93-4bb7-f7c9-f8ff3cc0fad0"
      },
      "execution_count": 50,
      "outputs": [
        {
          "output_type": "stream",
          "name": "stdout",
          "text": [
            "10314\n",
            "10957\n"
          ]
        }
      ]
    },
    {
      "cell_type": "code",
      "source": [
        "print(unknown_words)"
      ],
      "metadata": {
        "colab": {
          "base_uri": "https://localhost:8080/"
        },
        "id": "YYJEGUKUmU2G",
        "outputId": "2c6b1aff-6b1b-459e-9070-247377afe17b"
      },
      "execution_count": 57,
      "outputs": [
        {
          "output_type": "stream",
          "name": "stdout",
          "text": [
            "['mh370', '\\x89û', '\\x89ûò', 'prebreak', '16yr', 're\\x89û', '\\x89ûó', 'nowplaying', 'typhoondevastated', 'bestnaijamade', '11yearold', 'gbbo', 'disea', 'reddits', 'funtenna', 'subreddits', 'lmao', 'don\\x89ûªt', 'gtgt', 'utc20150805', 'sensorsenso', '\\x89ûïwhen', 'arianagrande', 'selfimage', 'sismo', 'time20150806', 'yyc', 'worldnews', 'directioners', 'spos', 'irandeal', 'shouldnt', 'trfc', 'httptcoqew4c5m1xd', 'abstorm', 'beyhive', 'rea\\x89û', 'o784', 'justinbieber', 'it\\x89ûªs', 'hwo', 'mediterran', 'youve', 'icemoon', 'djicemoon', 'trapmusic', 'ices\\x89û', 'tcot', 'lt3', 'mhtw4fnet', 'rì©union', 'freakiest', '53inch', '300w', 'okwx', 'linkury', 'animalrescue', 'china\\x89ûªs', 'you\\x89ûªve', 'can\\x89ûªt', 'let\\x89ûªs', 'httptcoq2eblokeve', 'httptcoencmhz6y34', 'mtvhottest', 'chicagoarea', 'read\\x89û', 'mikeparractor', 'wheavenly', 'tubestrike', 'standuser', 'i\\x89ûªm', 'prophetmuhammad', 'by\\x89û', 'meatloving', 'httptcoksawlyux02', 'be\\x89û', 'igers', 'theyve', 'i77', 'viralspell', 'gtgtgt', '\\x89û÷politics', 'grief\\x89ûª', 'usagov', 'everyones', 'bb17', 'idk', 'werent', 'theyll', 'wouldve', 'collisionno', 'fwy', 'summerfate', 'here\\x89ûªs', 'abcnews', 'strategicpatience', 'httptcocybksxhf7d', 'of\\x89û', 'explosionproof', 'socialnews', 'america\\x89ûªs', 'injuryi495', '97georgia', 'youngheroesid', 'pantherattack', 'httptcovvplfqv58p', 'darude', 'nasahurricane', 'kerricktrial', 'rockyfire', '29072015', 'votejkt48id', 'pbban', 'temporary300', 'httptconnmqlz91o9', 'httptcoo91f3cyy0r', 'httptcothoyhrhkfj', 'httptcowvj39a3bgm', 'localarsonist', 'breakingnews', 'lonewolffur', 'theyd', 'httptcozujwuiomb3', 'beforeitsnews', 'kurtschlichter', 'michael5sos', '\\x89ûïwe', 'mitt\\x89û\\x9d', 'omfg', '\\x89ûïthe', 'åè', 'åê', 'selfie', 'ebike', '852015', 'worstsummerjob', 'fettilootch', 'slanglucci', 'httpstcomoll5vd8yd', 'abbswinston', 'realdonaldtrump', 'unsuckdcmetro', 'i\\x89û', 'i\\x89ûªve', 'httpstcorqwuoy1fm4', 'clev', 'time20150805', 'm194', '6aug', '\\x89ûïa', 'otrametlife', 'itll', 'zouma', '2pcs', 's\\x89û', 'tripledigit', 'httptcolvlh3w3awo', 'httptcoviwxy1xdyk', 'raynbowaffair', 'diamondkesawn', 'ramag', 'lulgzimbestpicts', '\\x89û÷extremely', 'offensive\\x89ûª', 'specif', 'whao', 'carryi', '360wisenews', 'detectado', 'japìn', 'selfies', 'rexyy', '010401', '150401', 'karymsky', 'idfire', 'nsfw', 'yugvani', 'tilnow', 'gilbert23', 'httpstcoe8dl1lncvu', 'trubgme', 'ultimalucha', 'newsintweets', 'latimes', '\\x89ûïhatchet', 'control\\x89û\\x9d', 'rickperry', 'gopdebate', 'scoopit', '90blksamp8whts', 'hostageamp2', 'wbioterrorismampuse', 'lglorg', 'listenlive', 'blizzarddraco', '5sos', 'amirite', 'daesh', 'nbcnews', 'australia\\x89ûªs', 'btwn', 'icymi', 'blacklivesmatter', 'that\\x89ûªs', 'retweet', 'washingtonpost', 'propertycasualty', 'calum5sos', 'weathernetwork', 'sharethis', 'savebees', 'dorrets', '300000', 'harrybecareful', 'local\\x89û', 'collision1141', 'enrt', 'i405', '2us', 'jimmyfallon', 'apch', 'navbl', 'claytonbryant', 'artistsunited', 'omars', 'cecilthelion', 'accionempresa', 'gerenciatodos', 'å¨', 'just\\x89û', 'saddlebrooke', 'davidvonderhaar', 'fkn', 'yahoonews', 'modiministry', 'httptcocedcugeuws', 'demonstratio', 'tinyjecht', 'spinningbot', 'connectorconnecto', 'waterresistant', 'tab\\x89û', '\\x89ûïrichmond', 'sitting\\x89û', 'latestnews', 'the\\x89û', 'ihhen', 'gamergate', 'httptco9nwajli9cr', 'httptcov3azwoamzk', 'at\\x89û', 'bbcnews', 'tflbusalerts', 'koin6news', 'hahaha', 'sigalert', 'mnpdnashville', 'hatcap', 'silvergray', 'a\\x89û', 'arwx', 'harmkid', 'httptco0wratka2jl', 'foodscare', 'offers2go', 'nestleindia', 'magginoodle', 'humanconsumption', 'humaza', 'ianhellfire', '0day', 'wedaug5th', 'bluedio', 'clearedincident', 'faroeislands', 'gunsense', 'barackobama', 'dorret', 'httptcobbdpnj8xsx', 'rworldnews', 'bb4sp', 'onlinecommunities', 'offensiveåêcontent', 'robotrainstorm', 'zakbagans', 'nickcannon', 'listenbuy', 'realmandyrain', 'itunesmusic', 'httpstcodehmym5lpk', 'blowmandyup', '150foot', 'aoms', 'ibooklove', 'bookboost', 'metrofmtalk', '1030pm', 'usnwsgov', 'cbcca', 'ptsdchat', 'godslove', 'thanku', 'soudelors', 'dannyonpc', 'throwingknifes', 'cafire', 'mufc', 'httptcoroi2nsmejj', 'httptco3tj8zjin21', 'httptcoyduixefipe', 'httptcolxtjc87kls', 'us101', 'cadfyi', 'rdhorndale', 'aftershockdelo', 'scuf', 'httptcovam5podgyw', 'httptcozevakjapcz', 'xb1', 'httptcothyzomvwu0', 'httptco83joo0xk29', 'wedn', 'fouseytube', 'hahahah', 'ltlt', 'and\\x89û', 'trancy', 'h\\x89û', 'tomcatarts', 'httptcopyehwodwun', 'dieplease', 'petitiontake', 'wildhorses', 'popularmmos', '211023', 'httptcoxpfmr368uf', 'doublecups', 'httpstcolfkmtzaekk', 'thisizbwright', 'ouvindo', 'rtrrt', 'rohnertparkdps', 'prepper', '5sosfam', 'videoveranomtv', 'countynews', 'theadvocatemag', 'arsonistmusic', 'diamorfiend', 'casperrmg', 'tonight\\x89ûªs', 'isil', 'envw98', 'nickcocofree', 'juliedicaro', 'jdabe80', 'b\\x89û', 'cbsbigbrother', 'postbattle', 'foxnew\\x89û', 'cdcgov', 'weekold', 'socialmedia', 'fire\\x89û', 'vibez', 'dmpl', 'gtfo', 'retweeted', 'magisters', 'anellatulip', 'ashayo', 'vods', 'new\\x89û', 's2g', 'lmfaoooo', 'httptcouoozxaus26', 'en\\x89û', 'meekmill', 'ovofest', 'bodybagging', '2k15', 'scottwalker', 'you\\x89ûªll', 'hatchetwielding', 'shouldve', 'abubaraa1', 'teamstream', 'schedule\\x89û', 'generalnews', 'dambisa', 'prosyn', 'ameenshaikh3', 'httptcolwwojxttiv', 'engvaus', 'mmmmmm', 'oooooohhhh', 'themagickidraps', 'minimehh', 'cjoyner', 'fewmoretweets', 'infosec', 'strikesstrikes', 'httptcophixznv1yn', 'rockbottomradfm', 'wwwcbplawyers', 'tweetlikeitsseptember11th2001', 'in\\x89û', '3alarm', 'wmur9', 'loseit', 'myfitnesspal', 'hermancranston', 'letsfootball', 'skanndtyagi', 'fatburning', '201516', 'lightningcaused', 'you\\x89ûªre', 'jamaicaobserver', 'cnewslive', 'standwithpp', 'state\\x89û', 'greenharvard', 'httptcom203ul6o7p', 'pjnet', 'megynkelly', 'peterjukes', 'newyorker', 'jamesmelville', 'åç', 'davidcameron', 'cnnbrk', 'httptcoskqpwsnoin', 'northwestern\\x89û', 'ruebs', '4500feet', 'roh3', 'wattpad', 'ptbo', 'emerg', 'lifethreatening', '18wheeler', 'hadnt', 'walerga', 'i95', 'techesback', 'i580', 'twovehicle', 'httptcoct9ejxolpu', '\\x89ûïyou', 'meinlcymbals', 'so\\x89û', 'muzzamil', 'offr', 'mi17', 'sportwatch', 'nikeplus', '0306', 'jhaustin', 'wordpressdotcom', '\\x89ûïhannaph\\x89û\\x9d', 'httptcoafmkcfn1tl', '429cj', 'bradleybrad47', 'blizzheroes', 'cawx', 'jones94kyle', 'askcharley', 'samesex', 'screamqueens', 'katherines', 'kowing', 'beclearoncancer', 'billneelynbc', 'favs', 'mishacollins', 'hahah', 'i\\x89ûªd', 'salvis', '\\x89û¢åêdemolition', '233liveonline', 'httptcoio7kuug1uq', 'alllivesmatter', 'identitytheft', 'timkaine', '\\x89û÷it\\x89ûªs', 'followback', 'httptconmfsgkf1za', 'indiannews', 'ttes', 'topstories', 'corleonedaboss', 'abuseddesolateamplost', 'redeemeth', 'comingsoon', 'photoset', 'httpt\\x89û', 'shantae', 'zaynmalik', 'donå', '3942', 'abomb', 'thisiswhywecanthavenicethings', 'marquei', 'bancodeseries', 'apollobrown', 'ks94', 'beckarnley', 'losdelsonido', 'ivanberroa', 'httptcomg5eajelul', 'pmharper', 'mì¼sica', 'httptcosdgoutwntb', 'httptcocgf61fpmr0', '12news', 'httptcodydfvz7amj', 'gofundme', 'have\\x89û', 'scwx', 'gawx', 'florida\\x89û', 'couldve', 'newzsacramento', '60mph', '005225', '175225', '23km', '235409', '015025', '8615', '10401', 'httptconjd28pg9xv', '001116', '161116', '06jst', 'emsc', 'danisnotonfire', 'weallheartonedirection', 'wouldn\\x89ûªt', 'any1', 'pakistannews', 'i65', 'protectdenaliwolves', 'batfanuk', 'cityofcalgary', 'incase', 'missionhills', 'efak', 'fifa16', '9newsgoldcoast', 'liveonk2', 'httptcosqsyueh4yi', 'httptco199t7nd0pm', 'hahahaha', 'glink', 'httptcoeysvvza7qm', 'katunews', 'httptcoedyfo6e2pu', 'httptcom5kxlpkfa1', 'shizune', 'schwarber', 'versethe', 'gmmbc', 'timelapse', 'kindermorgan', 'climatechange', 'stagetwo', 'httptcovxvfaeey0q', 'hiroshima70', 'fatalityus', 'vgbootcamp', 'vabengal', 'growingupblack', 'p\\x89û', 'politifiact', 'njturnpike', 'infoorder', 'sms087809233445', 'luchaunderground', 'linerless', 'jkl', '72w', '27w', 'insubcontinent', 'lowlying', 'm\\x89û', 'routecomplex', 'sweet2young', 'riversiskiyou', 'area\\x89û', 'japton', 'kotaweather', 'yycstorm', 'jamaicaplain', 'londonfire', 'dlh', 'multidimensi', 'pdx911', 'greatbritishbakeoff', '\\x89û÷plot', 'dijk\\x89ûª', 'httptcopvmr38lnva', 'cmon', 'notexplained', 'httptcojlzk2hdetg', 'softenza', '\\x89û÷good', 'samaritans\\x89ûª', '20150805', 'pmarca', 'minhazmerchant', 'janaq', 'hurricanedolce', 'meteoearth', 'httptcomfckpvzfv8', 'pattonoswalt', 'suryaray', 'renew911health', 'forsure', 'lamha', 'daytoday', 'lovedup', 'martinmj22', '8pin', 'rpics', 'httptcoidmhswewqw', 'samanthaturne19', 'noahanyname', 'httptcoc1h7jecfrv', 'royalcarribean', 'debatequestionswewanttohear', 'dickhead', 'massmurderer', 'hannemans', 'itsjustinstuart', 'alexbelloli', '4playthursdays', 'nosurrender', 'ushanka', 'teamhendrick', 'britishbakeoff', 'icelandreview', 'bakeofffriends', 'raì¼l', 'fukushimatepco', 'rtamerica', 'jonvoyage', 'michelebachman', 'globalwarming', 'httptcojhpdssvhve', 'httptco7hanpcr5rk', 'tgirl', 'douchebag', 'montetjwitter11', 'policerun', 'amageddon', 'freespeech', 'zippednews', 'justmarried', 'httptcopo19h8ycnd', 'httpstcowudlkq7ncx', 'httpstcois2idc3ubj', 'c4news', 'migrants\\x89û', 'noonancindynoonanheartbreak', 'yahistorical', 'undergroundrailraod', 'blutz10', 'chonce', 'camilacabello97', 'sa15t', 'httptcobtdjgwekqx', 'sixmeter', 'yonews', 'weyreygidi', 'fevwarrior', 'southdowns', 'treeporn', '3inspired', 'pllolz', '\\x89ûïstretcher', 'deck\\x89û\\x9d', 'rightways', 'httptcovz1irh0nmm', 'rightwaystan', 'suicidebombing', 'suruì¤', 'httptcoiikssjgbdn', 'suruc', 'narendramodi', 'autoinsurance', 'httptcoydetwgribk', 'redhanded', 'httptcoj5mkcbkcov', 'originalfunko', '1038pm', 'oklahomaok', 'livingsafely', 'for\\x89û', 'eudrylantiqua', 'zarry', 'lavenderpoetrycafe', 'tsunamiesh', '1061thetwister', 'ferguson\\x89ûªs', 'thegame', 'diageos', 'stormchase', 'httptco3sicroaanz', 'httptcoi27oa0hisp', 'httptcoxssgedsbh4', 'nasasolarsystem', 'raung', 'aogashima', 'diaporama', 'sixpenceee', 'volcanoåêinåêrussia', 'gtii', 'fieg', 'utc5km', 'httptcozdtoyd8ebj', 'thuggin', 'rapidcity', 'ariaahrary', 'thetawniest', '2082676773', 'wocowae', 'ushed', 'chesttorso', 'jonathanferrell', 'httptcosaf9mosksn', 'fvck', 'tampabay', 'goooooooaaaaaal', 'looooool', 'wayi', 'cooool', 'bbcmtd', 'httptcolhyxeohy6c', 'httptcoyao1e0xngw', 'africanbaze', 'newsnigeria', 'httptco2nndbgwyei', 'httptcoqqsmshaj3n', 'phdsquares', 'httptco3imaomknna', 'superintende', 'httptcowdueaj8q4j', 'southridgelife', 'httptcoo9qknbfofx', 'httptcotiyulif5c6', 'httptcovl5tbr3wbr', 'httptcogwnrhmso8k', 'httptcoev1ahoucza', 'httptcovplr5hka2u', 'httptcosxhw2tnnlf', 'carolinaåêablaze', 'httptcopcxarbh9an', 'elbestia', 'alexissanchez', 'httptcouc4j4jhvgr', 'httptco4izfdyc3cg', 'httptco8kscqkfkkf', 'httpstcocyompz1a0z', 'httptcoicsjgz9te1', 'httptco9fxmn0l0bd', 'gtxrwm', 'httptco9fxpixqujt', '2k13', 'httpstco7mlmsuzv1z', 'navista7', 'news24680', 'httptcoav2jsjfftc', 'nxwestmidlands', 'httptcorwzbfvnxer', 'i24', 'nashvilletraffic', 'httpstco0ghk693egj', 'santaclara', 'bayarea', 'httptcopmlohzurwr', 'httptcogkye6gjtk5', 'personalinjury', 'otleyhour', 'stlouis', 'caraccidentlawyer', 'httpstcok4zomof319', 'httpstcos2kxvm0cba', 'tee\\x89û', 'httptcoybjezkurw1', 'bigrigradio', 'sleepjunkies', 'httptco7s9nm1fict', 'httpstcoysxun5vceh', 'hwymagellan', '080615', '110358', 'accidentwho', 'truckcrash', 'fortworth', 'httptcors22lj4qfp', 'crashgthttptcold0uniyw4k', 'httptcohylmo0wgfi', 'i540', 'httptcop18lzrlmy6', 'damagenhs999', 'naayf', 'chandanee', 'conf\\x89û', 'nh3a', 'httptcooia5fxi4gm', 'damagewpd1600', '862015209', '2781', 'httptcovckit6edev', 'nearfatal', 'httptco6otfp31lqw', 'httpstcobptmlf4p10', 'southaccident', 'rdconsider', 'your4state', 'whag', 'flowri', 'marinading', 'norwaymfa', 'httpstcogfjfgtodad', 'measuresarrestpastornganga', 'httptcoynxnvvkcda', 'httptcoweqpesenku', 'growingupspoiled', 'httpstcoxmwodfmtui', 'httptcom4jdzmgjow', 'httptcon0uhasfkbv', 'httptcoe14epzhoth', 'httptco22a9d5do6q', 'kjfordays', 'wisdomwed', 'lifehacks', 'httptcotbm9fqb8cw', 'wiedemer', 'httptcowztz4hgmvq', '\\x89ã¢', 'full\\x89ã¢', 'httptcovve3usesgf', 'httptcof6ntuc734z', 'esquireattire', 'wdyouth', 'biblestudy', 'httpstcoujk0e5gbcc', 'onfireanders', 'httpstcojv8ppkhjy7', 'cod8sandscrims', 'empirikgaming', 'codawscrims', '4tpkotc', '4tpfa', 'aftershockorg', 'httptcoyvvpznzmxg', 'httptco6cz3bohrd4', 'crobscarla', '8015', 'httptcobkpfpogysi', 'alexalltimelow', 'mhmmm', 'httptcotyjxrfd3st', 'httptcoi7kztevb2v', 'watchthevideo', 'httptcop64xrvgjik', 'httptcolsmx2vwr3j', 'wednesday\\x89û', 'mbataweel', 'mickinyman', 'theatlantic', 'httptcotagzbcxfj0', 'freaky\\x89û', 'httpstcocezhq7czll', 'airplaneåê29072015', 'httptcowq3wjsgphl', 'httptcotfcdronra6', 'httpstcokq9ae6ap2b', 'carfest', 'httptcogibyqhhkpk', 'httptcom9ig3wq8lq', 'httptcov4smaeslk5', '\\x89ûïairplane\\x89û\\x9d', 'httptco6ffylajwps', 'httptcoxdxdprcpns', 'jetengine', 'httptcokxxnszp6nk', 'httpstcozhjlflbhzl', 'httpstcoiecc1jdoub', 'httptcokz35rgngjf', 'rodkiai', 'httptcoay6zzcupnz', 'httptcosc9dns41mc', 'httptco9pfeaqeski', 'httptcofntg70rnkx', 'emsne\\x89û', 'httptcomdnugvubwn', 'httptcomj2jq2psv6', 'aberystwythshrewsbury', 'httptcoxum8ylcb4q', 'httptco4evttqpeia', 'httptcohfy5v3slbb', '20skyhawkmm20', 'traplord29', 'fredosantana300', 'lilreese300', 'justsaying', 'randomthought', 'httptcobfes5twbzt', 'httptco7xglah10zl', 'httptcothmblaatzp', 'tanslash', 'httptcozsberqnn9n', 'httptcoq8ivrzojzv', 'httptco8e7ry8ebmf', 'thenissonian', 'rejectdcartoons', 'ems1', '\\x89û÷minimum', 'wage\\x89ûª', 'httptco4oa6swlxmr', 'httptcofcqmkffflw', 'httptcovayaymbngu', 'httptco3brme6sn4t', 'httptcoujrx9kgawp', 'httptcokp2lf4aute', 'kiwikaryn', 'httptcohpvodud7ip', 'httptcoshzpyiqok5', 'httptcopwwpum6rbj', 'httptcoyspon4d6qo', '\\x89ûïleoblakecarter', 'httptcomg1lpgr0rm\\x89û\\x9dnatasharideout', 'httpstcosek6mq6njf', 'httptcofuerk0gwui', 'httptcomv7ggglmvc', 'httptcox5yeuylt1x', 'httptco2ugrmd1z1n', 'httptcoth9ywbbeet', 'httptcox2qsjod40u', 'medic914', 'aaceorg', 'httptcoj8tyt1xrrk', 'httptco9d4nazoi94', 'jwalk', 'freiza', 'petebests', 'dessicated', 'marksmaponyane', 'heysundowns', 'celticindeed', 'volfan326', 'tneazzy', 'muschamps', 'httptco1xpw292tje', 'eovm', 'httptcoe0pi0c54ff', 'acarewornheart', 'httptcothrhkhogcuåê', 'httptcotzszmf2qxe', 'httptcoc0nkgp6w03åê', 'httptcoimwmfdjssn', 'httpstcoirfcn71szv', 'amirkingkhan', 'floydmayweather', 'suregod', 'butthe', 'wnukes', 'httpstcoxn09mx6sxy', 'violentfeminazi', 'httptcoyangeqbuqw', 'httptcojq2eh5kglt', 'philipduncan', 'breakfastone', 'uptotheminute', 'zrnf', 'stormbeard', 'steellord', 'fantasticfourfant4sticwhatever', 'sirbrandonknt', 'lesnarcena', 'httptcof1bakpnyn6åê', 'httptcolzxwoaye4x', '\\x89û÷alloosh', 'httptco7rakhp3bwm', 'thatdes', 'kebabtahinipickles', 'wfries', 'happyhour', 'httptco4jno677zkv', 'juanny', 'rvfriedmann', 'lodisilverado', 'ritzyjewels', 'evildead', 'httptcospfke5kqu4', 'httptco6lojoorouk', 'httptcopb2n77nskz', 'starmade', 'httptcoi2hhviumtm', 'httpstcom8mvdspjp7', 'httpstcosw1sbua3mn', 'kimkardashian', 'httptco3tssxphufe', 'httptcokpqk0c4g0m', 'theellenshow', '54000', 'signatureschange', 'withåêannihilation', 'httptcoc1qxjweqqu', 'httptcozhp0sowxry', 'calfreedommom', 'steph93065', 'willienelson', 'httpstcomatijwkzbh', 'barbitwins', 'helphorses', 'whippenz', 'tantonationalforest', 'rollingstones', 'httptcowm5l8pj2iy', 'httptcowvobvvtxkg', 'sonofbaldwin', 'bookslast', 'checkedhe', 'httpstcox2wn7o2a3w', 'saltriverwildhorses', 'httptcoikuayuseqt', 'httptcobqbhuyfme9', 'httptco8jxql8cv8z', 'httpstco0fekgyby5f', 'httptcosb5r7shccj', 'fukurodani', 'bokuto', 'ppor', 'janenelson097', 'stephenscifi', 'sciencefiction', '0802pm', 'httptcocf9e6tu3g7', 'internetradio', 'collegeradi\\x89û', 'honeybunzgem', 'primalkitchen', 'httpstcomy8q1uwijn', 'warmbodies', 'fittscott', 'httptcomul1j9aeux', 'vi\\x89û', 'ourmothermary', 'candylit', 'httptcoxizkjfff29', 'zonewolf123', 'httptcou66kyg11zd', 'mo\\x89û', 'alexandrapullin', 'xmen', 'httpstcofs012trudg', 'yahootv', 'httptcotngye2fklv', 'pierc', 'httptcoejdhvlkxaf', 'geekapocalypse', 'httptcotngpshnl87', 'httptcoimzlnzltf5', 'etcpb', 'httptcohuthxlkyxy', 'bryansinger', 'alexshipppp', 'httptcooqw8jx6rts', 'httptcov8aftd9zez', 'liveaction', 'httptcoki1ykrs9fi', 'avysss', 'russaky89', 'httptcoqouxigdtbz', 'httptcoypbvs1ijya', 'httptco9dflv6ynqr', 'katiekatcubs', 'ophiuchus2613', '1008pla\\x89û', 'afflecki', 'wifekids', 'eonlinechat', 'httptcoqycw5jjaj1', 'hyiderghost2', 'rtrrtcoach', '1008planet\\x89û', 'fighterdena', 'startrek', 'httptcoa2e6dcsk88', 'httpstcoucsudk3q1d', 'aberdeenfc', 'aberdeenfanpage', 'paddytomlinson1', '20yrs', 'httptcogbxafy1m1c', 'httptco8hgcbxukz0', 'httptco4kopkcyvtt', 'brucewillis', 'httptcocxdjapzxmp', 'httpstcohkbxxvd9iw', 'karnythia', 'preppers', 'shtf', 'preppertalk', 'httptcovpqtgeqlma', 'erker', 'ahamedis', 'dajaal', 'httptcostftjcrjea', 'samihonkonen', 'fitba', 'cufi', 'httpstco4arwwrzpsr', 'httptcomkjq9yfmp8', 'preseasonworkouts', '\\x89ûïleejasper', 'interestraterise\\x89û\\x9d', 'httptcovhcxtvcinr', 'httptconvfkzv5fex', 'thereal', 'httpstco4i0rjc9rqu', 'x1402', 'httptcoj6wseptxga', 'httptcoqwgiwc9w7z', '22beyonce', '17beyonce', 'x1411', 'whitewalkers', 'httpsyoutu', 'lzktjnox', 'httptcozz0cewew64', 'rally\\x89û', 'httptcordjpor3azg', 'fanarmyfaceoff', 'httptcokgtxnnbj7y', 'httptcokaccpk85wf', 'httptconnixodhigc', 'x1392', 'httptcohep9k0xghb', 'httptco80ebvglmra', 'x1441', '241487', 'httptcoyfy3nkkcoh', 'httptcoknehvvohvk', 'drayesha4', 'indiakomuntorjawabdo', 'ki\\x89û', 'httptcowjljq3ya4g', 'httptcoqchv3jqovk', 'httptcogc0udfnfgg', 'ìñ1', 'x1386', 'mtvsummerstar', 'httptcoy9wvqkgbbi', 'httptcos5f9fcomp8', 'httptco0wbecdmhqo', 'httptcof9j3l2yjl4', 'httptcomwwwowcayo', '7beyonce', '6beyonce', 'httptcovdukcv7yjy', 'httptcoqumce7w2ty', 'httptcoktkg2sdhhl', 'httptcoobfd7e4qcp', 'httptcoyazje5owvk', 'x1434', 'httptcoimhfdaowrd', 'httptco4ftzjk94dt', 'historicchurch', 'httptcoieksnfsby7', 'httptcovwcf3slkrw', 'httptcoqbs2k01wzk', 'httptcomvlziysgll', 'httptcobvckd9pdti', 'httptco66obqmximb', 'httptcoxwms1aww8m', 'httptcote2yerugsi', 'httptcoeug6zhciun', 'httptcokkbxiblah7', 'httptcomyhohvrhil', 'httpstcotm5hthfdo0', 'httptcouavfrtlfs4', 'httptco85g1pcccxg', 'httptcoej2ghnafhy', 'httptcowftcrlz32p', 'httptcookvsimogic', 'httptcom5sbfrrsn7', 'httptco3gz5zqqthe', 'relaxinpr', 'miprv', 'httptcoylhayfaoou', 'httptcowf8itk2kvx', 'huffpostrelig', 'httptco0tslqjokvh', 'saynae', 'httptco5bdrfu1duo', 'httptcoq4l7dg56jm', 'httptco2y9dnp5vtg', 'httpstco6xul6dcosh', 'httptcoubfr1urafc', 'httpstcoalnv51d95x', 'httptcogbluhrrlto', 'httptcozpxe3fmyng', 'httptcownuqqatttp', 'arson\\x89û', 'httptco10muey8pxj', 'httptcoprrb4fhxtv', 'httptcou1fuwrgk5u', '301dc', 'cloudygoldrush', 'httptco1elreh1jlj', 'httptcowr48aqtum7', 'safyuan', 'httptcopzotpdgaki', 'httptcommgsyahdzb', 'bloorossington', 'cbcto', 'httptcowpdvt31sne', 'httptcokxplyom9rr', 'govegan', 'uniteblue', 'httptcosqgogj3s5r', 'veronicadlcruz', '2minutemix', 'httptcojp2qlrunjj', 'httptcojbpgkgowsi', '58hif', 'wniagospel', 'httptco1he4ufawzm', 'httptcobnhtxaezmm', 'httptco28t3nwhdky', 'pcaldicott7', '7newsadl', 'httptcor1xwdnvb0g', 'hotboy', 'sparkz', 'httptcohdkd9j2lw0', 'httptcoojuhfkhvb2', 'jokin', 'httptconr7ust3uh8', 'slimebeast', 'httptcoulr6myklnh', 'bestcomedyvine', 'httptcojcfehrhlq8', 'httptco2z2htdjqzd', 'httptcoqxh1h61cwd', 'vigilent', 'nativehuman', 'myreligion', 'httpstcowwu070tjej', 'pfannebeckers', 'fantabulous', 'httptcowmhy47xkil', 'httptcoptkrxtzjtv', 'httptcoy8icf89h6w', 'httptcot9msnzv1kb', 'dattomm', '4head', 'httptcony3l1orzqb', '\\x89ûª93', 'httptcomfkqyxd8xg', 'etribune', '4suspected', 'acebreakingnews', 'httpstcojb038rdfak', 'httptco3huhzxliig', 'livemint', 'httptcorptouz2ijs', 'httptco69mlhfefhr', 'allthenews', 'httptcoqi8qdw5dfg', 'httptcoh6pm1w7ell', 'darkreading', 'httptco8eijdxapnp', 'httptco3gvus8nppy', 'handside', 'httptcodcdecfv934', 'httptcodwbc1duvdk', 'notleys', 'httptcorzsulzmokx', 'ableg', 'cdnpoli', 'httptcozdcvlyq6qk', 'caixxum5sos', 'httptcoonpnbx0zex', 'httptcoum5icn5et2', 'pakthey', 'attackshare', 'httpstcoqiopbtiuvu', 'obamadhs', 'httptcomqp4hf9gpo', 'httptcooyogii97yh', 'blazerfan', 'ignoranceshe', 'latinoand', 'benothing', 'morebut', 'httptcoydgmgbryl2', 'daytonarea', 'httptco7lhkjz0ivo', 'infowars', 'httptcon3yjb8tcpm', 'pugprobs', 'httptco2h0dpmv2ef', 'messeymetoo', 'httpstcocvkqigr1az', 'httpstcochkp0gfynj', 'httptco5qyczywkgg', 'httptcou0keoe5fmt', 'httptcof5miuhqaby', 'httptcof4lhfmehzh', '1241317240', 'streamyxhomesouthern', 'httptcowgwiqmicl1', 'httptco91jvycxxvi', 'loosers', 'httptconhxse3rthx', 'httptcolhbzhwq4b9', 'httptco7nagdsadwp', 'eunicenjoki', 'aiii', 'httptcomxz7yx8ld1', 'httptcoe4ydbm4dx6', 'httptcot1aa5ov7eg', 'robotlvl', '6615434', 'satoshis', 'httptcodmlj1agotw', 'robotcoingame', 'freebitcoin', 'httptcoemdjnnltp0', 'christinalavv', 'lindsaywynn3', 'httptcoa6wmbnr51s', 'httptcoetg0prbp4g', 'httptcoyubkhf9iyh', 'httptcoe4wk8uri8a', 'mageavexis', 'httptco1pdjoq4jc1', 'welovela', 'nhlducks', 'httptco9v1rvcomh2', 'sportsroadhouse', 'httptcotnxquor1wb', 'tshirt', 'httptcoznsvstgwx3', 'rowaa', 'httptcokbtzzzg2tp', 'httpstcorbrw8pwipj', 'httpstcorfvjh58ef2', '199899', 'httptcouhfm1r3tq5', 'httptcoqulgakebhb', 'httptcoydjpoph1dw', 'httptcoraqupzfkjy', 'weddinghour', 'httptcoqunxocxcga', 'httptco5g8qa6mpxm', 'catechize', 'ghostoftheav', 'montroseband', 'httpstcowdvxjsqwic', 'fuelgas', 'tahoeblazeravalanches10', 'httptcoicrzi5tqc5', 'httptcoonxhkfhn2a', '\\x89û÷avalanche\\x89ûª', 'httptcovbswhz4s2v', 'httptcorqipgqslt6', 'coloradoavalanche', 'httptco2bk7lagma9', 'httptcobkdgcfsuiq', 'qampa', 'httptcoe4qonkzndz', 'entretenimento', 'rigga', 'httptco4virxkgmpc', 'bigperm28', 'utahgrizz', 'httptcogpgtafmkt0', 'httptcopblvpm6c27', 'funkflex', 'httpstco2azxdlcxga', 'httptconruzhr5xqu', 'kallemattsons', 'httpstco3w6sea9tuv', 'httptco48h3tlvlxr', 'nowplay', 'httptcoobky8pc89h', 'httptcodxirntdsrd', 'httptcoxfguklrltf', 'httptcofegu8hwmc4', 'httptcoot0tffpbyb', 'httptcozarbwep9ld', 'httptcojddnhmrmmj', 'rottentomatoes', 'httptcowedwyn9kfs', '4kus', '15moferadio', 'heavybag201', 'battledom', 'qotring', 'battlerapchris', 'hughes1128', 'httpstco7spydy1csc', 'httpstcomctjnzx4h8', 'baaaack', 'httptcofj73gdvg2n', 'httpstcob0zjwgmaiw', 'mildmannered', 'sfgiants', 'm27329', 'eytay', 'neur0sis', 'httptcozyrzx6dfki', 'du19', 'httptcow9p3hauhei', 'phantasmal', 'httptcoqrhjei7grq', 'ìñ', 'httptcoyxvmiflvc4', 'httptco9vw0uqqi1y', 'utahcanary', 'sexydragonmagic', 'detroitpls', 'httpstcoofecs6tcvc', 'httptcoyi30zgizsw', 'httptco2jgvhw7yzs', '4103', 'lonepine', '666canberra', 'httptcot4fvvnrpc5', 'httptco0zznbvfuvo', 'buseys', 'httptcoxtezgjfs8a', 'httptcoqfjjdxes7g', 'httptcoiadlslqdpd', 'httptcoo8y1sul4ow', 'httptcohqsu8lwlth', 'httptcoshzsymausi', 'httptcolhpgxc4b8j', 'aphl', 'httptcocgdj3drso9', 'åêfedex', 'httptcok0y7xfxmxa', 'httptcoy3dm9ulqxg', 'httptcochorr2xovp', 'atlbizchron', 'httptcofzujg7sxjg', 'httptcoqzqc8wwwcn', 'ampamp', 'htt\\x89û', 'httptcocm8uni1mrg', 'httptcowvexjjrg6e', 'httptcop96rgbbayl', 'alisonannyoung', 'hmmthis', 'httptco9viibxgjav', 'httptco5zdbtktww7', 'httptcopwamg8ozj4', 'httptco2kdq56xtws', 'httptcoyllqjljiiq', 'httptcozahnewjri8', 'orchardalley', 'abcnorio', 'httptcoba2rrxugsg', 'httptcoshrhkfj1bc', 'httptcor33ncvjovc', 'httptco5ukohk7sob', 'httptcogan14pw9tg', 'bioter\\x89û', 'httptco5n4husewly', 'httptcoc0p3sesqwm', 'httptcotkeoaedqkq', 'httptcomqbyravk6h', 'httptcos4sicmyrmh', 'wxiatv', 'httptcozqqjrqsbjm', 'httptcohrqcjdovjz', 'httptcoxfhh2xf9ga', 'httptco4m5uheyfdo', 'httptcorujv4vpnbv', 'httptcoxo2zbpbjb3', 'httptcobclqpwfdod', 'httptcokvpbybglsr', 'cagov', 'hersvp', 'darrellissa', 'httptcow2ixt1k0ab', 'infectiousdiseases', 'biosurveillance', 'httptcocvhygwcbzv', 'httptco6pagjqfbzk', 'httptcoqzizelxbyr', 'omagazine', '50ft', 'drrichardbesser', '8892', 'httptconwv2rvghf3', 'hvnewsnetwork', 'meyerbjoern', 'thelonevirologi', 'mackayim', 'httptcosume5pro0f', 'httptcoqmo1txxdkj', 'stationcdrkelly', 'clergyforced', 'youngerampgrossly', 'bioterrorismap', '70amp', 'digitalhealth', 'hcsm', 'aphiabeta1907', 'wugliness', 'uglyamesocialaction', 'bioterrorismim', 'tolewantg', 'homeabc', 'howardu', 'cspanwj', 'onufrance', '7475', 'rockefellerchirockefellerunivheiress', 'lgl', 'blks', 'harvardu', 'kidnapgafp', 'httptcoq6oxzq45ve', 'httptcouotpnsqpz5', 'horsetalknz', 'kaotixblaze', 'raisinfingers', 'httptco3xn1soh4bb', 'httptcoudkesj01ml', 'shayoly', 'httptconf46paytvw', 'djryanwolf', 'djcoreygrand', 'djknyce', 'djoneplustwo', 'officialcoredjs', 'iamtonyneal', 'httptcop6gqmctglj', 'bellalinn', 'alrighty', 'httptcoe0uusnpsq5', 'httptcomim8hh2ce6', 'audacityjamesta', 'iamrrsb', 'httptcopdehd1tcpk', 'skywars', 'flechadas', 'sinistras', 'agochicago', 'httptcouwitvbsbnc', 'thisispublichealth', 'stuffin', 'httptcoae9cpiexak', 'httptcocyxbrzxwq4', 'beautifuljuic1', 'babysweet420', 'guiltygearxxacp', 'httptcosk3l74flzz', 'httptconbizatlsmv', 'djjohnblaze', 'sothwest', 'httptcon95igskd3p', 'httptcomsdizftz2g', 'christycroley', 'httptcoq8reoevlue', 'uabstephenlong', 'courtlizcamp', 'httptcouungrqougn', 'itzsteven', 'xdojjjj', 'whopperjr760', 'httptcoqms8rressd', 'httptcozla30jcssq', 'acee', 'daem', 'httpstcowkv8vqvkt6', 'artisteoftheweekfact', 'coast2coastdjs', 'crystalblaz', 'jiwonle', 'clubbanger', 'httptco9rfo9gy3ne', 'httptcoemvohm9m6j', 'weatherstay', 'transcendblazing', 'httptconr1i8qnao1', 'httptcoiu9bafdxey', 'httptcoaphqu5svet', 'httptcom96kbqwior', 'httptcowrjr846fks', 'danryckert', 'drewscanlon', 'durvod', 'httptco6vja8r4yxa', 'stoponesounds', 'httptcog7s34sw2am', 'stickynyc', '95roots', 'baseballquotes1', 'hinatobot', 'blazingben', 'pattyds50', 'gwfrazee', 'joshuaassaraf', 'shouout', 'kasad1lla', 's3xleak', 'ph0tos', '19yrs', 'ashwo', 'exp0sed', 'httptcoixrehm05yq', 'omgbethersss', 'bethanymota', 'dmac1043', 'httptcoc8b6ddiqig', 'not\\x89û', 'httpstcoosuoivnigo', 'bekahw', 'acousticmaloley', 'officialtjonez', 'gfe', 'httptcon6ahgfmudt', 'srajapakse', 'asukager', 'elwoods', 'blazingelwoods', 'dougs', 'httptcoqyzpb1gkmr', 'httptco99mbyfl3id', 'httptco4ddmtguzzs', 'httptcoavzsyie1nt', 'funkylilshack', 'mariaf30', 'edwelchmusic', 'wellgrounded', 'fpoj', 'httptcowxbrarc7p3', 'landolina', 'httptco0btniwagt1', 'httptcohhzy3oqela', 'jaydennotjared', 'darrylb1979', 'thatnot', 'coreyashe', 'kingnaruto', 'httpstcok5knnwugwt', 'uptownjorge', 'jannet2208', 'katramsland', 'beckyfeigin', 'defs', 'sodamntrue', 'chaosmagician97', 'burberryant', 'tammyw1997', 'elijahmallari', 'coloiccarnality', 'benjm1', 'tourofutah', 'b1grego', 'damnaarielle', 'mfalcon21', 'oomf', 'instagrams', 'b24fowler', 'benkin97', 'mili5499', 'probs', 'hopeinhearts', 'hw18', '90100', '2fast2furious', 'httptcodefj7xekgx', 'catfishmtv', 'httptcouqkx5vbium', 'codythompson25', 'onlyftf', 'tusky', 'robsimss', 'cantmisskid', 'wbc2015', 'iphooey', 'wron', 'imawesome7986', 'yahooschwab', 'fiascothat', 'harperanetflixshow', 'elxn42', 'stopharper', 'weloverobdyrdek', 'adrianpeel', 'daorcey', 'graywardens', 'damidnighter', 'kynespeace', 'realhotcullen', 'lyrium', 'spongea', 'httptcorrzbzgo48n', 'prysmian', 'httptcoolg09kb6ha', 'httptcowyokt0ftrw', 'toddcalfee', 'mattburgener', 'cobes', 'thda', 'antiblight', 'httptcoxzlrwc0pik', 'httptcoo5xlxmkoyq', 'development\\x89û', 'httptcozzcbbqyj1q', 'httptcokksghsblfh', 'demetae12', 'iclowns', 'drumstep', '2iclown', 'httptco7le5gq2psx', 'httptcoetkd58un8n', 'httptcolrelvrm06w', 'hendy21', 'purdies', 'xxhjesc', 'httptcoybhbarajxp', 'dotish', 'revolutionblight', 'httptcot8sv2ai7sw', 'acebabes', 'healthweekly1', 'amateurnester', 'willhillbet', 'parksboardfacts', 'zippoline', 'moveit', 'httpstcoif62sdxvp7', 'httpstcogaae0no5du', 'httptcoh31mmuduqt', 'locksmithingart', 'lpdkl', 'jakeblight', 'wealilknowa', 'te\\x89û', 'httptcovq3yab2j8n', 'httptco0t8vqkeari', 'httptcoucy5fea9yu', 'httptcodnwwo1ybrk', 'stevenontwatter', 'pussyxdestroyer', 'auz', 'radioriffrocks', 'httptcopjlda9hd5v', 'httptco3wnjauar7w', 'msmiggi', 'httptcou7vavyrgv9', 'tweet4taiji', 'blizzardfans', 'blizzardgamin', 'httptcocubze5mizm', 'httptcokhsbzkfd6o', 'httptcoegioxbaboe', 'daborsch', 'httptcomgr809yc5a', 'fairx818x', 'playoverwatch', 'blizzardcs', 'bubblycuteone', 'okayyyyyy', 'httptcoabolxmh1vy', 'tcgreno', 'httptcogknrp0e8qs', 'httptconyv51681ue', 'httptcovcirn1md8v', 'chiefcg', 'httpstcozntg2wndmj', 'nailreal', 'buroker', 'httptco4yu5sy1cui', 'httptcomzmxmyklxv', 'bookanother', 'setzorah', 'hem712c', 'httptcogjbainqwn9', 'httptcojphgpl1c5x', 'chamberedblood', 'speakingfromexperience', 'decisionsondecisions', 'imouto', 'dangerousbeans', 'scotto519', 'hastle', 'sbee', 'httptco66yvulizbk', 'loboparanoico', 'nightsad', 'rockn', 'rolandonabeats', 'acesse', 'ouvir', 'httptcozk69ugxmt8', 'olrules', 'httptco6qx7arf4ag', 'anthxvy', 'sethalphaeus', '10638', 'everwhe', 'blood\\x89û', 'httpstcolnpscadaxr', 'looooooooooool', 'httpstcojrkgyl7te5', 'aggressif', 'butterlondon', 'beram0s', 'bbloggers', 'httptcodsb3ldfuxu', 'slsandpet', 'resigninshame', 'httpstcociyty0fgpr', 'lauradeholanda', 'httptcohvwkjqxxyt', 'king\\x89ûªs', '\\x89û÷the', 'tower\\x89ûª', 'stephenking', 'thedarktower', 'httptcoj9lpdrxcde', 'bdisgusting', 'tradcatknight', 'okanowa', 'zhenghxn', 'akame', 'fantosex', 'httpstcovnni3zzuz6', 'mrtophypup', 'mayweathers', 'httptcoijzcytbffo', 'itsmegss', 'cleav', 'httptcokv5l4ppxfg', 'mariasherwood2', 'johnjcampbell', 'httptcoluigmhma1i', 'melrises', 'gayler1969', 'wwwbigbaldhead', 'jessienojoke', 'melissaross9847', 'httptcorvczmimfvx', 'chxrmingprince', 'jonesluna', 'reafs', 'indiansfor', 'httptcofpjlwoxklg', 's01e09', 'httptcovrpthvpymt', 'bloodymonday', 'tvshowtime', 'httptconkkvknbvoz', 'httptcol0pmmtzlwp', 'ezralevant', 'papcrdoll', 'emilymcfcheslop', 'eheks', 'troylercraft', 'machinegunkelly', 'thisdayinhistory', 'httptcoiw7elszifz', 'libraryeliza', 'taylorswift13', 'httptcokolmzbz1pz', 'musicadvisory', 'httptcowjntaokdhf', 'kashs', 'httptco2fenu1syu6', 'kaylak369', 'httptcopgb2bmcfx8', 'httpstco1buf0xm53d', 'we\\x89ûªre', 'we\\x89ûªve', 'httpstco0yzgw9zbhr', 'httpstcorhtaqjvqn2', 'theboyofmasks', 'httptcoekfaz6wvbz', 'gentlementhe', 'tozlet', 'fullblown', 'jerkface', 'kalinandmyles', 'kalinwhite', 'givebackkalinwhiteaccount', 'lukewinkie', 'princessduck', 'orbette', 'dog\\x89ûªs', 'hopefulbatgirl', 'thebriankrause', 'piperwearsthepants', 'anarchicteapot', 'boironusa', 'zeno001', 'glononium', 'httptcoy87gi3brlv', 'httptco1zbhvdcxzs', 'httptcoblaawhysct', 'httptcoddr0zjxvqn', 'questergirl', 'å£27900end', 'httptcoftm4rkl8mn', 'httptcojrxgolnpqw', 'httptcolin16kvzbn', 'httptcogggfvo5pb4', 'httptconlfr8t3xqm', 'cultsierre', 'httptcomuf5czqjrl', 'httptcosslt8esmhy', 'ameribag', 'httptcor4k7tylofj', 'httptcoa9bnlse6qb', 'httptco3pcntczoxv', 'httptcon0akjm1e4b', 'httptcolvkoemsq8m', 'httptcocjirhhh4vj', 'å¤', 'httptco6mgbizjfgd', 'trjdavis', 'httptco4fxfllrien', 'httptcoi12nlsr8fk', '4193', 'httptcohcdiwe5flc', 'httptcozlvebeoavg', 'httptcofb8snrg4hu', 'httptcogbctmhx7pw', 'httptco8jymd9ypsj', 'httptco57pkmmcadg', 'ìü', 'httptcopw78nbljky', 'httptcoi4aogcsoy5', 'httptcodjiwg9pxv4', 'httptconcjpgf6znv', 'httptcogerjau74ey', 'httptcoiap4lwvqsw', 'httptcoipxpi3me16', 'pochette', 'bosphore', 'bag\\x89û', 'httptcorv0fk7q4y5', 'httptcoykltfj1fnc', 'httptcohpd3snm6oy', '9973', 'httptcogsmddmu9pu', 'httptcorcburzsb2b', 'httptcoehsfklgri3', 'httptcovjgr6liaxh', 'httptco55jr66plov', 'httptcocjqq6cgohg', 'fwt', 'httptcour7fexszg4', 'httptcowb8awoblcl', 'rhee1975', 'deliciousvomit', 'mattbez', 'ohmyloz', 'rondarousey', 'fuckyeahcarey', 'bornverified', 'trollingtilmeekdiss', 'idgaf', 'broseidonrex', 'dapurplesharpie', 'httpstcododxi41y1cåêis', 'httpstcohlmyaanrc9', 'bomairinge', 'elutranscendent', 'httptcoafssgpnzwi', 'mopheme', 'bigstar', 'vuzuhustle', 'today4got', 'httptco81g18wsauk', 'editaxohaze', 'ziphimup', 'amaramin3', 'mycareer', 'ep18', 'httptcomr5bi4kd82', 'httptco2jhtlwuey0', 'hushhes', 'mzgraciebaby', 'officialrealrap', 'dlac', 'httptco6craekc9wb', 'im2ad', '\\x89ûïmacdaddyleo', 'httptcok8ughv2aif\\x89û\\x9dmy', 'slikrickdarula', 'jengriffinfnc', 'bowknot', 'womengirls', 'httptcosqmtkkjimj', '23800', 'httptco0llwuqn8vg', 'httptco7l9qazljvg', 'httptcoq0hsyfrwec', 'httptcopyee94nure', 'es\\x89û', 'httptcohhhvkxfaih', 'boomerangtime', 'rskarim1', 'sopameer', 'wattashit3', 'ridah', '08072015', 'httptcofpkiqbus9r', 'httpstco0mcxc68gzd', 'httptcomwzqcjhzpb', 'httptcorjzw6c8asx', 'httptcowtdiav11ua', 'httptcoepiqdbxvzo', 'httptcobhfoylqljp', 'deeeznvtzzz', '\\x89û÷institute', 'peace\\x89ûª', 'httptcoowbujez3q4', 'httptcomt029qj4ig', 'baskgod', 'laterim', 'moving2k15', 'expertwhiner', 'shop\\x89ûªs', 'cutekitten', 'catsofinstagram', 'summerinsweden', 'katterpì´instagram', 'dumle', 'dagens\\x89û', 'httptcop4zfxdnbch', 'httptcogyzpisbi1u', 'httptcomsdntkwyaf', 'httptcoqj2kbltcxz', 'httptcoxqpn2zykct', 'httptcojqso4fyzp4', 'httptcof4xnplio5s', '\\x89ûïparties', 'driving\\x89û\\x9d', 'limpar33', 'httptcowukcalnqms', 'httptcoqvsp6b2qsu', 'httptco0s6ydfrwdq', 'gasparc\\x89û', 'qualit', 'httptcozgjgghdurf', 'httptcol1gfxgozvx', 'httptcotkjybjjskl', 'asymbina', 'tithenai', 'httptcoysfyeahpvg', 'zicac', 'httptcoa3xv6ff8dn', '\\x89û÷body', 'bags\\x89ûª', 'httptcojaxhzjccd4', 'httptcoscxfc5wi9t', 'httptcogx1otoh8sj', 'httpstco2liwkjybe9', 'norge2040', 'httptcoghmmuj7gbe', 'v\\x89û', 'httptcou9lvvlzhye', 'httptcolyj57pq3yx', 'theaf', 'httptcohctxghr2yf', 'httptcolr4btvueom', 'httptcoojhcgzxlst', 'httptcorhxmghspd7', 'namjoons', 'collab', 'aaronthefm', 'cranboonitz', 'hereticofethics', '\\x89ûïdylanmcclure55', 'httptcozw5jp46v5k\\x89û\\x9d', 'httptcoiucpcsfbmt', 'httpstcoczqr3ci9xw', 'daniglasgow45', 'httptcocfouwpbrcg', 'smallforestelf', 'danielsahyounie', 'httptcom9mowcmvnj', 'httptco3u6mdlk7di', 'enolagay', 'httptcojb25fhke6q', 'dopeitsval', 'praiz8', 'carajdeievingnc', 'swellyjetevo', 'flavafraz21', 'whatcanthedo', '70year', 'httptco6sy44kyysd', 'httptcoyvsjyzwxjr', 'httptcoct2jutvytg', 'themalemadonna', 'ehutch', 'httptcoaqmpxzo3v1', 'joeybats19', 'stankyboy88', 'sweetiebirks', 'mirrorlady2', 'slatukip', 'invadedbombed', 'httptcouqnj6nk9y3', 'httptcoqlnnmxzfqk', 'bombedout', 'httptco2racaivffq', 'myfriendmina', 'httptcom0dap5xlwo', 'cyhitheprynce', 'elephantintheroom', 'abombed', '200000', 'zergele', 'qendil', 'nicklee8', 'london3', 'httptcoartumhmbhh', 'qpr1980', 'rorington95', 'nowt', 'httptcogvaipmlsl0', 'oooureli', 'brodyfrieling', 'hannabrooksie', 'shadowflame', 'httptcoldbao0rsuz', 'httptcoi2aag6lp6w', 'cheetosarabia', 'christopherszen', 'hunterlove1995', 'tblack', 'raniakhalek', 'falphil', 'httptcowmnonhxeir', 'bannukes', 'httptcoc5ggszugw1', 'httptco2pimg9bice', 'rlauren83199', 'xojademarie124', 'vagersedolla', 'httptcouuweikd7sp', 'antpips67', 'johnejefferson', 'bellybombed', 'httptcogbcvvevdty', 'httptcofx7uzzxte4', '120000', 'httptcofcixk23xqh', 'africansinsf', 'beyondgps', 'httpstcoetdgpiwxti', 'floatin', 'httptcoja0wgp8spe', 'cityamp3others', '20000k', 'misfitrarity', 'httptcozyssobxntc', 'httptcofce0k1ihti', 'httptcoacc1z5q9zw', 'moscowghost', 'sayedridha', 'aminakh', 'banthebomb', 'httptco6g49ywwsqj', 'httptconss5l64cvr', 'setting4success', 'smallbusiness', 'httptco7ad0l7cgee', 'httptcohhzql9tznp', 'pearlharbor', 'httptco39iabcc5pk', 'httptco1mgvd4x5oe', 'httptco93vqkdfgnr', 'httptcocqlm9jojop', 'httptco3ev07ppapn', 'httptcojzgxwrgfqg', 'rinkydnk2', 'zaibatsunews', 'neoprogressive1', 'push2left', 'talkecologyamphuman', 'rtsampdemocracy', 'afghetcleft', 'httptcocc9z5asvzh', 'snapharmony', 'httptcoypvvqz8jzt', 'httptcoa2ss7pr4gw', 'httptcoqreinwg0gs', 'httptcogkpanz7vg0', 'httptcolgrocbxpqo', 'httpstcogvm70u2bpm', '70\\x89û', 'httptconbzikcjphp', 'httptcom9o08gurt4', 'httptcognpstnvi5g', 'sanjaynirupam', 'sureshprabhu', 'httptcodq3ddgvgbf', 'siouxlan', 'httptcosztgmbkohg', 'httptco985dwwpdet', 'httptcokhf0ih05a9', 'httptcoths9iqswp3', 'huffpostarts', 'httptcotxiestox5n', 'jewishpress', 'kanglaonline', 'httptcojp9xyla3c5', 'httptcooqpsvrgbjc', 'httptcogl6eejyjky', 'httptcowqtdnp3w5a', 'httptcoumanaahwmi', 'bloopandablast', 'httptcol0unafly0y', 'httptco5t69ev0xti', 'httptconyp8oq2z9t', 'traintragedy', 'httptcojthusynjah', 'tuffers', 'bbctms', 'httptcojbjrg3ep1q', 'httptcogskjqwyi2d', 'httptcouziwgzryny', 'slingnews', 'httptco6fynermusg', 'followlasg', 'urgentthere', 'bstop', 'oworoshoki', 'httptcolsqe7nu6kl', 'httptcoq5q1x5vcqk', 'httptcot5trhjuau0', 'httptcoik7mgidvbm', 'httptcoaf1yzus8ln', 'killsåêone', 'httptcoi2c00fcowb', 'httptcojaagcfartw', 'leicestermerc', 'httptcohqewmreyso', 'httptcoy4y8fcljed', 'httptco9asc1hhfnj', 'httptcongehhg9yga', 'httptcol5g2zj3kgg', 'sureshpprabhu', 'sonofliberty357', 'dougmartin17', 'whatevs', '9newsmornings', 'httptcouvq41i3kx2', '1acd4900c1424d1', 'joshcorman', 'doctorfluxx', 'stefanejones', 'spinnellii', 'themermacorn', 'httpstcoolnfzb86zb', 'epcotexplorer', 'awesomeeeeeeee', 'zourryart', 'httpstco8sp8xlbbdr', 'httptcocgmjlseylo', 'mikecroninwmur', 'xela', 'dcfd', 'chr3lyc', 'iaff36', 'httptcowrb7xd8w5y', 'croydonization', 'httptcobtpqdehl3p', 'greenbuildermag', 'httptcoxmsvohkccp', 'firewise', 'michelenfpa', 'httptco4i0kz2akly', 'httptco5bgcw3ezb5', 'httptcotqh5amoknd', 'httptcop6kdh0p0sp', 'httptcowaetkgsza9', 'thestrain', 'httptcoahvymsqhqc', 'shevlinhixon', 'httptcoz6ee1jvhni', 'newyork\\x89û', 'httpstcofw1ptaelgv', '222pm', 'httptcoke1zs6naml', 'httptcowfseaobato', 'httptco6hkw5qlppt', 'ppsellsbabyparts', 'httpstcowzc5r4xoqz', 'bbcintroducing', 'purpleturtlerdg', 'giantgiantsound', 'httpstcoofan6dkoez', 'httptco3sth9lrbun', 'httptcojqxm4gcqz3', 'nh1news', 'bigsim50', 'mafireems', 'httptcoqufwxrjiql', 'kcarosawmur', 'wsls', 'jennasjems', 'patrickwsls', 'httptcoja3w1s3tmr', 'threealarm', 'httptcorvkyj3yuvk', 'httptconzqwtcyidv', 'mht', 'okcfox', 'httptcozr5rgbgh03', 'hgf52611', 'wildlionx3', 'httptcogl4mcax0ny', 'httptcogvd7fcx8iz', 'httpstcop1amginsys', 'runkeeper', 'photoop', 'httptcoepex4axg4b', 'httptcopqrjvgvgxg', 'tounge', 'kennethbauer', 'cubstalk', '14028', 'httptcolfnippnoto', 'thomasvissman22', 'keithyyl', 'keithyy', 'httptcodlkuftlqnf', 'allpro', 'intead', '10\\x89û', 'httptcorj7m42atws', 'awesomesauce', 'httptcodmtab6g7j7', 'mandem', 'totteham', 'maddddd', 'aubilenon', 'markkriegsman', '8minute', 'httptcog2h7xnecd8', 'burnfat', 'httptcouqssnaattu', 'stacdemon', 'john\\x89ûªs', 'httptconmrvthkvah', 'sjubb', 'johnsontionne', 'httpstco6xysdn2xz0', 'rvaping101', 'httptcocykr4xaluh', 'huffpostcomedy', 'httptcoxwvw1sft4i', 'httptcoj7hukhwmal', 'mountains\\x89û', 'httptcozrtrpl77qv', 'sniiiiiiff', 'httpstcohksbmijqz1', 'techniqu', 'httptcoxuzee2budv', 'uhhhhh', 'httpstcooptps1lgkc', 'httptcoumtnnimtbm', 'nagelashley', 'vicken52', 'basedlarock', 'goonc1ty', 'httptcowp6v1bhhoq', 'httptcoarzemsr7fq', 'socialtimes', 'httptcoptc0xcragy', 'minsuwoongs', 'httptco8r5vpaoo5z', 'recip', 'httptcojvcxb75drj', 'httptcob0es3ziork', 'httptcojuiit2yfvo', 'louistomlinson', 'foxnewsvideo', 'aiiamericangiri', 'anhqdc', 'forestservice', 'dhsscitech', 'buildings\\x89ûówe', 't\\x89û', 'httptcokybqcsvrza', 'httptcoih49kymsmp', 'duckvillelol', 'httptco03l7nwqdje', 'delanys', 'dhalgren', 'mofanon', 'httptcomtmkimwiyy', 'booradleyvancullen', 'httptcogeqkdao4cv', 'httptcodg0bgzecgm', 'httptco08lngclzsj', 'httpstco9cpwiecegv', 'httptcorzlytnez2u', 'kshllcenterpri1', 'progress4ohio', 'httptco1qochspybw', 'httpstcojslxtq3nqs', 'marcoarment', 'httptcobfthahlcr0', 'slashandburn', 'httptco5dj6chjfzp', 'httptcozdtdqqbahc', 'httptcopsqcnsvfgp', 'httpstco6zgef8j8bm', 'httptcobftiapf35f', 'doricreates', 'alhanda', 'appreciativeinquiry', 'httptcosoea1ggbkj', 'httptcohxdg254dho', 'httpstcodrno7okm21', 'httptcorjdx29wosp', 'httptcozckxtfc9pt', 'dacherryontop13', 'scaryeven', 'httptco0ymf6txfch', 'httptco3i3d2ngent', 'httpstcojyiekeo2he', 'johnfromcranber', 'httptcofgdeh56plo', 'la\\x89û', 'httptcogxe7nhwz3e', 'httptcosrbqlmuwbv', 'httptcoubvevuuach', 'httptcokcoff6bmie', 'httptcofqj5aga1pd', 'httptcotzr58b86qz', 'attackclose', 'httptconnylxhinpx', 'httptco4hcywrwn6l', 'httptco2twxz6vxbx', 'httptco9dvu1ridz3', 'libertarianluke', 'recordhigh', 'httptcoymczyvkfme', 'httptcog1bwl3dqqk', 'disinfo', 'httptcoyuinmerq2s', 'criticalmedia', 'httptcomwmt3bdr5l', 'lasvegaslocally', 'vitalvegas', 'fallingoffstool', 'httptco7ageakvn2x', 'catwoman1775', 'httptcod50orfxofb', 'theleadernews', 'httptco0cxm5tkz8y', 'httptcov5amdovhot', 'flyopinemonkey', 'alcoholandmetal', 'httptcor8ptvfuh5x', 'httptconpckk0tleq', 'countermoonbat', 'voodooben', 'httptcomfsw0tysta', 'httptcovsvy1qe69t', 'casualties\\x89û\\x9d', 'francisunderwood', 'httpstcozqo6nuvytu', 'httptcodrlkebeypi', 'httptcoldywd4ydt9', 'httptconssjpr6pdd', 'httptcoxtf5dvgrvh', 'httptcolzff4pt4az', 'ftsn', 'ftsnnewsdesk', 'irishspy', 'httptco3sqsergni2', 'httptcoyg697fcqgr', 'underwritersenior', 'httptcopramklrmhz', 'httpstcojmd7zwksdm', 'propertycasu', 'httptcokclkokqi8a', 'they\\x89ûªd', 'david\\x89û', 'httptcoqbecjli7cx', 'casualtygray', 'httpstcovwz3vzpmfb', 'thomashcrown', 'produc', 'httptcovmjrtuvmh4', 'benitezs', 'amicos', 'amicospizzato', 'seeyouatamicos', 'httptcomz8vqxbkts', 'httptco6gsamy6mts', 'northbayhealth', 'multicasualty', 'httptco21b6skpdur', 'httptcowbcb3sytj7', 'scriptettesar', 'katiecool447', 'avbronstein', 'popehat', 'homealone2', 'httptcomvrsyu2ppk', 'rowyso', 'scasualty', 'httptco4q4zd7ou34', '5sosfamupdater', 'httptcof2gwxeprak', 'httptco33fbr25t1o', 'reriellechan', 'httptco0gidg9u45j', 'willinghearted', 'httptcopbya7uv3v5', 'mackinnon08', 'mixify', 'httptcohdvmhsqxhm', 'stavernise', 'httptcok4h8cq7puo', 'robdelaney', 'appleofficlal', 'hrsto', 'httptcoo0ltqdjbqe', 'tcotåêccot', 'httptcomo9wptyqkp', 'httptcosbhhkkz01y', 'uriminzok', 'naemolgo', 'yiraneuni', 'misfortunebut', 'deb117', 'wanother', 'httptcoksgmy0d0mx', 'httptcomzk0pfogi7', 'gemmahentsch', 'dloesch', 'whod', 'httptcoo207jyabyz', 'httptcocjctb2ocxg', 'maatmhi', 'httptcotf2bkq0olx', 'httptco3fqq7pfjvx', 'pixelsmovie', 'httptcolvbuw01yoh', 'httptco3k42mjvqca', 'httptcovsgqolr32g', 'httptcop7uhcb13qx', 'liqd', 'httptcocjrssry1rt', 'aiginsurance', 'httptco2y2wzk1frm', 'httptcoqyaendvdgc', 'httptco3zp6ahnsxn', 'masochisticmage', 'savedenaliwolves', 'tweetstorm', 'httptcosywuel7yyx', 'markargent', 'r5live', 'scraptrident', 'pieceofme', 'httptco4mjyw7p7cf', 'httptcorbmucurs2f', 'httptcoibx3cragtt', 'httptcobzkqpl6r0a', 'catastrophicfallenangel', 'reveillertm', 'macabrelolita', '\\x89û÷amino', 'acids\\x89ûª', 'httptcodiobzghfju', 'httptcoou1m9chznq', 'httptcotzxeg4gokd', 'httptco1krpz3j1eu', 'httptcoyqjpn3quux', 'httptco25sy9y295l', 'httptcowc8aqxedf7', 'marginoferror', 'thirtyfive', 'httptcokkjp9ksbst', 'httptcotgcr5vofj3', 'myvintagesoul', 'apano55', 'senschumer', 'httptcoy8yqpbe4t9', 'httptcopgxfocghqg', 'httptcoqvlxpyyycd', 'our\\x89û', 'httpstco5yrbegzafx', 'httptcornqebaycvm', 'httptcot344phnpy9', 'httptcoa8jz5a26wi', 'gravitymovie', 'httptcovmwtouyohm', 'httptcogz27audyha', 'httptcop4ekgc9sig', 'syringetoanger', 'httptco4ssuyhkgrb', 'httptcotderbtgz2k', 'httptco3ln8trhw6x', 'httpstcord10ex6hvt', 'nuclearbiologicalchemical', 'httptcoul5xdblmbk', 'httptcovjhpvlnbaw', 'httpstcondjja4d5o8', 'httptcol7bjsq0y2o', 'reportly', 'ntvde', 'httptcowbogs8ejsj', 'httptcodb7ft3yi6d', 'spillevacuationsred', 'httptco007npen6lg', 'httptcobnrdkgxavr', 'benews', 'httptcopme0hojvya', 'ijetalerts', 'httptcondgpwyxu6h', 'httptcoueppjwvlcb', 'watersafety', 'pjcoyle', 'httptcooamqqbnice', 'httptco0nr4dpjgyl', 'httptcoanutoopkf4', 'httptcomet4ytzmfb', 'deezercolombia', 'httptcoexitlxgisj', 'httptcoumqbyrupbd', 'httptcohhtwayt4yo', 'usar2015', 'usar15', 'ruor', 'httptcoggtmdquddo', 'httptcokfyebhb3di', 'profithungry', 'httpstco4zsxjgv7it', 'laevantine', 'chemicalbabe', 'v452', 'httptcoulupxyzjwv', 'httptcoq9zixci8e6', 'lindenow', '315pm', 'dannyjohnjules', 'spencerfearon', 'christielinford', 'd33munni', 'jeannamibian', 'noooooooo', 'somethingyr', 'httptcoqamwojyahq', '2leezy', 'httpstcogrwdr4kuf3', 'faved', 'funnynews', 'httptcolci3pljx25', 'httptcobmwmpoydig', 'alexjacobsonpfs', 'httpstco4vwsl2gfp0', 'thinkpink', 'magichairbump', 'httptconmhztb1ewm', 'punkblunts', 'sincerelyevelnn', 'httptcojxhazebnqk', 'szmnextdoor', 'httpstco3hoikdmocb', 'httptcogabd0cjmag', 'httptcoeeewo207mx', 'httptcocjuighbxyn', 'striked', 'yoenis', 'httptcoio9ry1akon', 'next\\x89û', 'httptcof7a66diiyk', 'httptco8lkmwp9qzw', 'httptcou2kwof3wtj', 'httpstcouplfsqmr0c', 'collapseblow', 'halloikbenwill', 'geoffrickly', 'httpstcohsgktezucn', 'httptcog38y8h1tjt', 'basildudin', 'saudies', 'httptcosdxzhjco0x', 'httptcojzwrisxepf', 'httptco6hkca1dsna', 'dccomics', 'imagecomics', 'darkhorsecomics', 'idwpublishing', 'eurocrisis', '\\x89ââ', 'httptcobbm9sr1wow', 'httptco4hngtkdqmv', 'httptcoafzqvotutj', 'httptcobm0qec7pja', 'timestack', 'httptcocas8xc2dfe', 'ckec', 'httptcouubovy9gqi', 'httptcos7vygenjuv', 'behindashield', 'warsgoddess', 'httptco6dznejuvd3', 'absolutsumya15', 'httptcojxs50fkvik', 'fixingmatch', 'httptcocjvbqxw83s', 'httptcoi6zqlk2puz', 'theashes', 'httptcohqod6v6dnc', 'jfb', 'alrasyid448iturasya', 'httptcoizjtoojzkp', 'smantibatam', 'roh3smantibatam', 'httptcouxp6poqjlb', 'åèmgnafricaå¨', 'pin263789f4', 'httptcofdjuyvzmrv', 'wizkidayo', '\\x89ûïthehighfessions', 'blastedi', 'high\\x89û\\x9d', 'sholt87', 'mtgrotto', 'eco11c', 'carlsbadbugkil1', 'usbush', 'wmiddle', '401ks', 'httpstcorjju70rhyu', 'ltbgtbakeltbgt', 'ltbgtchocolateltbgt', 'jan\\x89û', 'httptco53lorsrgqf', 'organicallyrude', '1rockstar62', 'kezi9', 'httptcosahbhlxssh', 'oneheartonemindonecss', 'httptcokfkaosh0kh', 'gorpuazikinak', 'indiepopmom', 'durrellb', 'tvjnews', 'httptconjrjxqbjr4', 'httptcoym3cww28dj', 'rokiieee', 'httptco2sgdofsmrq', 'httptcoxlegc6uora', 'cost\\x89û', 'wallybaiter', 'httptcogbrnulp3fh', 'httptcoikfmektpcx', 'flickershowell', 'xdescry', 'httptco87efcbiczm', 'sqwizzix', 'httptcoggqcz9ab6u', 'entertainer\\x89û\\x9d', 'lesleychappelle', 'httptcoee8rpoahpk', 'httptcoqqc0gkbegs', 'efs300', 'httptcozstuvsbqq0', 'shanghai\\x89ûªs', 'httptcomkrxqzehmy', 'httpstco2rtq9qmgpb', 'frisat', 'httptcopwjjimrfly', 'nlccollide', 'httptco3w0pxfyyri', 'madisonpa', 'httptco6qc8whdizy', 'httptcoinezzaes5d', 'soultech', 'httptco8xixbspot8', 'gassymexican', 'httptcolpgfqnpjd3', 'mattcohen4fake', 'wogc', 'httptcoizaknpjeqw', 'httptcomesgcngaz0', 'tackettdc', 'httptco4e2gjmvrvi', 'tidalhifi', 'httptcomzqq5pai8g', 'mutekmontreal', 'httptcovjbhxn9x1o', 'isea2015', 'httptcoomb3os54tn', 'pageparkescorp', 'chloeunguyen', 'laurensicle', 'charstevens97', 'tiaramarei', 'bowe\\x89û', 'httptco9wowps78vd', 'collideworship', 'httptcovnzybfgzcm', 'thedoolinggroup', 'bordento', 'httptcoyqhfio9xqm', 'httptco2wcbrgn62j', 'wattys2015', 'teenfiction', 'httptcog891m9gh4r', 'httptcoxq92x4bvg3', 'httptcoqdhxto57em', 'httptcowgasoencwc', 'roanoketimes', 'lennonparham', 'jessicastclair', 'gilmoreguysshow', 'ihave44episodesofgg', 'nojoke', 'redcoatjackpot', 'httptcoknomg9pfiz', 'lanjut', 'dirumah', 'yagitudeh', 'httpstcoyilt1bb68k', 'femalegilgameshs', '111020', 'httptcoaetgbxm1pl', 'mollythetanzs', 'httptco83bmprwh7w', 'glassanimals', 'badu\\x89û', 'httptco7zb9gm5z0h', 'httptcoa7zf6n7vrl', 'httptcokqpky7dthj', 'httptco0r03c6njli', 'then\\x89û', 'httptcoajtxuafoem', 'httptcoy7peto0dx2', 'happen\\x89û', 'httptcoljxce1qw2p', 'butgod', 'ijustine', 'alaskaseafood', 'askforalaska', 'httpstco2snyghaivs', 'httptcojmbvpanxr3', 'akrams', 'carhot', 'air1bullet', 'pple', 'boatnews', 'drob', 'crashing\\x89û', 'httptcotpuu3eatb3', 'httptco4dbhono3rk', 'bicyclesuv', 'm115', 'httptcoa9gtopyzk8', 'politic\\x89û', 'httptcogfa3sow9zn', 'harrystyles', 'httptcop4huqundqi', 'httptcoybyp68ievn', 'httptcodan0gkx28l', 'stepkans', 'lvictoria', 'httptcoingu6ztyg4', 'httptcoe2wfgp8jhk', 'pvris', 'httptco2acrgdqhj0', 'zojadelin', 'httptcow4ofcc99wq', 'beatg3', '15000270653', 'beatb2', '15000270364', 'httptcoes1b3lyway', 'hwy401', 'httptco6uhih9pbru', 'httptcohk6nqrgedb', 'httptcowlmsq3mtho', 'httptcohbbgy2vzyt', 'httptcoozk1qhjvfh', 'dilawri', 'shopcollision', 'httptcovg7jnah0iw', 'httptcokshsgwghfj', 'thisisfaz', 'httptcokefxtjtakb', 'httptcovpvj5hrc1i', 'httptcoft9kigmigh', 'httptcoin8lys7v5l', 'httptcoeumlca1edw', 'httptcosxqtyduvul', 'httptcouppwxda4yd', 'collisionunkn', 'httptcojs9ehp88wq', 'missjadebrown', 'httpstcorpda60aoni', 'httptcoij0wq490cs', 'httptco2iafpmqjep', 'httptco5qhqo6ejtu', '713pm', 'mapleridge', 'sr37', 'httptcomylieruxk1', 'niagaravehicles', 'httptcozl7ojdaj3u', 'httptco241cn8yxjq', 'kierannicholson', 'httptcogpxqbyzyu4', 'httptcojtxji7ygrl', 'wall\\x89û\\x9d', 'weren\\x89ûªt', 'warned\\x89û\\x9d', 'httpstco4pqcmqchng', 'grtvnews', 'httptcorny4l3sr7a', 'httptcoigx8xfz8ko', 'httptcoy32owbrovf', 'httptcovr2u4cerw8', 'sterlingknight', 'crashsterlingwho', 'joeysterling', 'daewony0406', 'httptcobikr8zzbha', 'i75', 'httptcost5fgblsye', 'httptco0uk0h9hozn', 'httptcoh7ldx29aba', 'httpstcof5ylp7pfn7', 'pikin', 'httpstcojq2ib1ob1x', 'cpanel', 'httptcobirkbje23e', 'httptcobuzwjmw49e', 'destinythegame', 'chelsdelong12', 'kendraleigh13', 'salyersblairhall', 'jennas', 'httptcobdn2fdpdaz', 'httpstco9hkxxbb82o', 'httptcod2i9bl89zo', 'httptcodunmvj7itl', 'httptcorgdrjv63hf', 'cs6', 'httptcocvgjfpbtrn', 'httptcougyegkfs4x', 'httptcofl8gci84aj', 'httptcodvonwiv3l1', 'httptcoojoecw29qa', 'httptcovn2fnmy7li', 'singlecar', 'httptcob6nphxorzg', 'pbcanpcx', 'huebels', 'httptcoflsa8mldsn', 'spicybreads', 'coxytown', 'httptcokl4r1ccwct', 'httptcoigxrqpotm7', 'httptco3kpbu6hgt5', 'peritoengrafoscopia', 'neileastwood77', 'knobhead', 'httptcoduvuzhmvut', 'httptcomfjxh4p51u', 'brianroemmele', 'mi7', 'httptco2z8ubsy5m8', 'httptcofqj0squ3lg', 'httptcotu9cglmgvr', 'weloveyoulouis', 'johndcgow', 'olliebailey11', 'havnt', 'windows10', 'httptco3fzidhqrk3', 'intactmh370partliftsoddsplaneglidednotcrashedintosea', 'httptcomjtn3qbgos', 'yahoofinancehope', 'httptcokgkz50q8tk', 'httptcoqv1rmzi3j1', 'httptcox9mdhocpda', 'yday', 'httptcoei1k01zab3', 'httptco6odnbttpsq', 'smusx16475', 'modestmouseremix', 'truestory', 'f496d', 'ttw', 'httptcobumzvmwam3', 'ashton5sos', 'luke5sos', 'httptco8pdnhh6tzh', 'kuualohax', 'womem', 'mommyisbomb', 'jorrynja', 'bfgfcrush', 'terell', 'explicitpretty', 'httptcocfxhqhvbvb', 'taykreidler', 'loveyouuuu', 'aintsheperty', 'httpstcowemwdtfwic', 'bestfriends', 'yourboyshawn', 'buted', 'samelsamel', 'httptcotbstk5vqu0', 'crushit', 'experiencesmh', 'pydisney', 'crushmtvhottest', 'master0fsloths', 'httptcoszx6v0bbjf', 'httpstcoan3w16c8f6', 'httpstcoycwaulqz3u', 'bouta', 'mrrobinson', 'thesteveharveyshow', 'khadidon', 'httpstcoasoopcygwn', 'yhngsjlg', 'crushhttptcoioqm5bm1dg', 'starflamegirl', 'httptcoz87zmi3ozs', 'marketingåêmediocrity', 'httptcoilq0wqj0xs', 'httptcoaw1nytpwjr', 'sevenfigz', 'httptco20b3pnqxmd', 'httptcofs4y1c9mnf', 'tiffanyfrizzell', 'httptcoraf732vrtt', 'nykaed', 'httptcomkjo8x2dko', 'jaureguiswisdom', 'httptcopwd5l0glkv', 'cristianinspire', 'httptcoixjqg1sx6u', 'bhavanas', 'httpstcoewnunp8hdo', 'httptcokg5plkedhr', 'httptcoqeihvn3dnq', 'icegtgtgtgt', 'httptcocrpo9dkw9v', 'crushed2', 'cor48', 'edwing', 'httptcowwfacu6nft', 'jmastrodonato', 'clelliyou', 'httptcoa3dsmbqkwu', 'httptcojfjlbf40to', 'httptcoqltwhojqya', 'httptco7d7vweq3es', 'ayekoradio', 'brasswork', 'httptcoqh5axvhwh5', 'electronicmusic', 'ccmusic', 'westerosnah', 'httptcox9ofv1kmv7', 'markwschaefer', 'httptcoskvwn38hz7', 'thecomedyquote', '50shadezofgrey', 'p45perez', 'ashrafiyah', 'keampurley', 'michelleellle', 'httpstcoy8orqapwrk', 'httptcoejrme49rkd', 'bobbyxfisher', 'exofficio', 'httptcoacb0ryenuo', 'sct014', 'bkn032', 'emaaalay', 'aptlyengineerd', 'emmychappy', 'oclock', 'reddakushgodd', 'smfh', 'httpstcosg1ftkaegq', 'cosits', 'freefrom', 'daviskawalya', 'mauryn143', 'stupidniggr', 'qnh', 'donthate', 'sct012', 'bkn025', 'tlk', 'widout', 'knw', 'bc19', 'httptcooi6cmagasi', 'rewatchingthepilot', 'teamscorpion', 'httptcotjgxdc3d5p', 'boltåêcyclone', 'pp400dr', 'packåêfor', '30\\x89û', 'mccauleysdesign', 'abysmaljoiner', 'dyamiplotke', 'on\\x89û', 'httptcostw3pg3t0o', 'xhnews', 'httptcotbbobvcotj', 'sk398', 'httptcora2majpkq2', 'httptcoy7ghhyk05b', 'httptcoqhwe5k7xuw', 'roughdeal1', 'hudhud', 'httptcofcujsioyqo', 'httptcofqv47ob8ge', 'httptco6qzxfk2lfs', 'httpstcoxqv6gzzmmn', 'httptcocihc8nrc9h', 'kurokobot', 'comdev', 'httptcoiovr4ymlkp', 'httptcon3vbtc6nca', 'httptcojobvbvkfnz', 'httptcoc8zpmzhtde', 'httpstcommzgphnknp', 'bajrangi', 'bhaijaan', 'crosed', 'httptcowqul8pg5px', 'httptco4ykxt3kd62', '945hpa', '45ms', '60ms', 'httptconbd5ot9iew', 'cyclonereizei', 'cyclonesama', 'rindou', 'httptco5oqhq8quqv', 'httptco8qqzyziaqf', '165000', '\\x89ûòthe', 'httptcofukbbedfgx', 'kyee', 'nockthie', 'taungbazar', 'buthidaung', 'kasitaroch', 'vivianunhcr', 'ootd', 'doubleghats', 'httptcojsuhupz6vp', 'httptcon5vrffrbo3', 'thelegendblue', 'cozmo23', 'å£300m', 'httpstcolw2fglrgxb', 'httptcotbx8cakdrw', 'damage3460', 'lncolyellowstone', 'wayfieldstone', 'dr08052015', '193635', 'httptcopumbrnebje', 'capicapricapri', 'brentobento', 'ny35', 'writebothfists', 'fdbdp', 'indigo6e', 'httptco90l2lb5wmr', 'drothvader', 'cmnevalistis', 'arachys', 'dragneel', 'shitton', 'httptcovlaiuvtomm', 'httptcoajpnebg803', 'joedawg42', 'hfxstanfield', 'beelievedc', 'discoverycntr', 'swb1192', 'prolly', 'fieldwide', 'httptco1osmiuxkhw', 'crosssectarian', 'withdrawur', 'uve', 'httptco0usdi5jcho', 'httptcoxyg7jhrjof', 'wonderousallure', 'hhello', 'httptcoavu9b4k2rv', 'thesensualeye', 'runin', 'roadwayproperty', '15901', 'leedstraif', 'httpstcozhrtcvu0ff', 'eyefacts', 'jsunnews', 'httptcos7nbowa7tp', 'httptco3f7owdecy7', 's61231a', 'icd10', 'richarkkirkarch', 'ausinstarchitect', 'queenswharf', 'httptcojmkywhv7mp', 'financialreview', 'fuckboy', 'pseudojuuzo', 'michaelwestbiz', 'gettinglost', 'jennellensbb', 'munclejim', 'dustinbrowder', 'httptcolhdcpnzx6a', 'httptcohbdo22nqpz', 'dyannbridges', 'yeshayad', 'httpstcoipgmf4ttdx', 'httptcougzu9iqprw', 'nwsbayarea', 'carsonrex', 'spaceangelseven', 'httpstcop0fizxmn5r', 'httptcohskl0vq2d2', 'httpstcogi2p9tuvbi', 'httpstcoyx1ukbmtqb', 'therealrittz', 'morehouse64', 'httptcofp64yosjwx', 'riverroaming', 'bluebirddenver', 'httptcoh1xch54kd3', 'turnedonfetaboo', 'hsjb215', 'httpstcoe1wrvyzfkv', 'thetxi', 'gunnersfan89', 'remainontop', 'httptco8c3fploxcr', 'httptcocbgz9xun2k', 'httptcoa5gnzbusqq', 'httpstcoyl67dkf4tb', 'httptcope2d3hcsni', 'fucktard', 'coyi', 'httptcorgpem2tqej', 'httptcoki9ehjhl8y', 'silent0siris', 'boringdead', 'snotgreen', 'hairbut', 'cjbanning', '4sake', 'argsuppose', 'individl', 'rightsgenerally', 'courtof', 'birb', 'naaa', 'httpstcoj4fsdpfa63', 'hhahaha', 'soapscoop', 'gailsimone', 'iwasdisappointedby', 'ampstory', 'httptcomjoeebdlxn', 'httptcofven1ex0ps', 'httptcofmu0fnumxf', 'httptcoaggryhvxkr', 'hlportal', 'kg4vaal', 'lmaovv', 'babalmaowelcome', 'nyozi', 'kwaaaaadead', 'noooooooooooo', 'showwent', 'httptcobhsuxvq6nf', 'httptcooctnpyueei', 'atchisonsean', 'wyrmwood', 'ssshhheeesshh', 'vape', 'httptcoyohvuwumzs', 'httptco5gktshiorr', 'httptco9jeuu86koi', 'httptcoh9vmmdebdx', 'papiichampoo', 'httptcojpu3es746i', 'jeromekem', 'httptconq89drydbu', 'httptcotziolfte5i', 'httptcolma39zrwoy', 'seemeth', 'kellkane', 'httpstcoecmujkkqx1', 'allahsfinest12', 'httptcocufgvupkzi', 'httpstcooifn28hpcs', 'httptcotxetcysm1h', 'httptcoajkmcuswho', 'deathholy', 'molys', 'httptcoqxhowcv16r', 'breitbartnews', 'pusssssssssy', 'shoook', 'httptcofnmje8gf7m', 'httptconye8ae2ifr', 'ripriprip', 'httptconql21ajmiv', 'httptco18xq3fmuge', 'vaxshill', '\\x89û÷first\\x89ûª', '\\x89û÷second\\x89ûª', 'u\\x89û', '\\x89ûïlolgop', 'vra50\\x89û\\x9d', 'httptcotm9zbhjcyf', 'httptco1lk1eqwyuw', 'truediagnosis', 'httptcodutyzqr2p7åê', 'httptcooznsxxvx\\x89û', 'cdcwhistleblower', 'httptcodlaub2nvtn', 'frackfreelancs', 'deccgovuk', 'frackfreeeu', 'tarletonsophie', 'httptcojsccx8k0ja', 'drfriedencdc', 'infectionsdeaths', 'httptconiv8x5tbe0', 'adiossuperbacterias', 'httptcodbu30obdxz', 'strickskin', 'nickscomics', 'httptcop8yr2po6jn', 'nghlth', 'httptcoxrja0xpl40', 'eazzyp', 'httptco6m0ynjwbc9', 'httptcojblrrnmdsm', 'publichealth', 'httptconapviygkyk', 'httptcoanp9g6njfd', 'httptco8bqjtp6id5', 'httptco8kjs7zqajs', 'httptcoiladqebxpn', 'gregorysanders', 'lightrail', 'httptco5lnidvobff', 'highqualitybird', 'mathewisangry', 'z3kesk1', 'saladinahmed', 'tobiasellwood', 'httptcoc3w95h0ozz', 'httptco11dvqjvxpo', 'httptcodxkt2shuj2', 'httptcoz3nevglufm', 'opseaworld', 'httptcomzk5ujlfcv', 'httptcorteugb5tnv', 'mayoroflondon', 'notrocketscience', 'httptcos2wm8lh7oo', '17months', 'httptconrhurysypd', 'httptcomrvxbzywd4', 'httptco7fsn1gewux', 'httptcoq1glk8plud', 'httptcobmxsndx14g', 'httptcohhwv0eudfv', 'jet\\x89ûªs', 'httptcopnnunrnqja', 'httptcogyqlaoz3l2', 'httptcovfbw3nyo9l', 'httptcootsm38xmas', 'httptcodfyasvj7nf', 'nbcnightlynews', 'httptcofoutpwgfwy', 'httptcofk1l4nozig', 'httptcoexznmxbinj', 'httptcor6kzsqdghz', 'httptcozxcorq0a3a', 'httptcof75qwyeeec', 'httptcox3rcchkago', 'httptcoc5jutfxbm9', 'httptco6ime8kjacv', 'httptcoba4pusvjln', 'httptcoys3walzvjg', 'kamindoz', 'httptcoxrdwr8cdvm', 'httptcofxtffl4axy', 'httptcojkc0diqvxc', 'breakth', 'httptcomgyvglenks', 'onlinemh370', 'onlinea', 'httptco1beegwrsis', 'scmpnews', 'httptcodrculiyp0t', 'httptcorlftjmhhvt', 'httptcokxy56fr8vm', 'onlin', 'httptcon3lndjkyo3', 'httptco950xijhnvh', 'httptcohes0bpu60y', 'dustpiggies', 'dustpig', 'joshsternberg', 'romeocrow', 'yyeso', 'unfollow', 'nlmdimrc', 'httptcoauoeyirqe6', 'httptcoeaaqumkkc9', 'gtgtthis', 'httpstco4yi4nuovbv', 'yahoo7', 'httptcofwikyurc18', 'fantasticfour', 'ocuana', 'bloodyminded', 'forrestmankins', 'httptcos0vgtkhw7v', 'troisrivieres', 'legionstrackandfield', 'httptcopue5xnznqb', 'halfnaked', 'theburnageblue', 'httpstcoyr8knephgu', 'dumuzid', 'theghostparty', 'amsosorry', 'cerography', 'byityf', 'httptcoi7ap1mes8m', 'httptcovjsaqpxngn', 'stephaniemarija', 'childsexabuse', 'chuckswindoll', 'iflcanada', 'pt1', 'httptco9utqe9zfde', 'unfml', 'boyhaus', 'jakeåê', '\\x89ûïafter', 'montana\\x89ûªs', 'httptcofid3z4x3s5', 'famping', 'gishwhes', 'fiendnikki', 'schelbertgeorg', 'httptcotbpqlyfyot', 'httptcohdckeposqc', 'houghjeff', 'dougkessler', 'b2bagency', 'httptcoenqgtbaxuj', 'slideshare', 'contentmarketing', 'heredeluge', 'ampwanted', 'httptcodmrsyeiqz3', 'httptcoko0oz3ryfg', 'deflategate', 'quantit\\x89ûhttpstco64cymg1ltg', 'asae15', 'httptcor8ceprqxle', 'assnchat', 'meditationbymsg', '45600', 'ampgot', 'httptcovmf5lnxvzc', 'aroundthe', 'novalismi', 'mallord', 'clicca', 'titolo', 'httptco458dtr3ulx', 'thewesterngaz', 'susinesses', 'stlnd', 'httptcodctv1ujlhc', 'httptcoqox1jnqsau', 'lzkely', 'togthe', 'paypile', 'httptcoxspqdoriqj', 'httptcocqyvfr4ucy', 'invokces', 'shapeand', 'lisatoddsutton', 'bcz', 'httptco1pflm532mg', 'httptco58qrugzvg0', 'thesewphist', 'fuckfacewineisdumbcom', 'inroicesmake', 'ukfrance', 'httptcovf6cklmcsx', 'invzices', 'itsllikely', 'pileq', 'httptcov1sfllowgh', 'httptcoqn4zyisspo', 'httptco3vwp7wd56w', 'ogt', 'colomr', 'aredeluged', 'valdes1978', 'httptcomnkoyz76cp', 'httptcoqzdqrbr4lh', 'httptcodaqszzubub', 'httptcomskn6d3ekh', 'city\\x89ûªs', 'createdunique23', 'kerenserpa', 'arianareed11', 'httpstcopcinc8ytfh', 'httptcow56cf75mxe', 'badotweet', 'kirkmin', 'barthubbuch', 'demolishdeep', 'etoffe', 'clothesless', 'precisionistic', 'psfda', 'httptco7k5shaiqiw', 'httptcoouylwuixcs', 'xgninfinity', 'ronincarbon', 'nades', 'httptcorg3bndkxjx', 'httptcobq90pfzmrp', 'mariomaraczi', 'uruan', 'exassembly', 'httptco1cnw6nska5', 'httptco6supthaece', 'men\\x89ûªs', 'httptcovtp8i8qlen', 'avigdorliberman', 'susiya', 'httptcoli8otxt8hh', 'httpstcosks5jccrj2', 'httptco7mepkbf9e8', 'httptcoxcgzc45gys', 'murlo', 'tribez', 'httptcopbclfsxrld', 'androidgames', 'gameinsight', 'jollyjinu', 'todayhave', 'orianna', 'httptcok2bzuatuks', 'grumpout', 'srsly', 'ampstart', 'ampask', 'urself', 'beastin', 'funtimes', 'httptcojxuepkmkrh', '64oz', '5007', 'cantmakeitup', 'patriotsnation', 'httptcotpw5gpmhq4', 'flunkie', 'angusmacneilsnp', 'stiiilo', 'backtoback', 'chargedup', 'media420', 'papicongress', 'journo', 'pragnik', 'httptcokbstrxnhup', 'httptcob8n6e4ryvz', '\\x89ûïsplottdave', 'teampalestina', '28700', 'home2', 'make\\x89û', 'httptcopaobghv3c7', 'bbsnews', 'httptcogne1fw0xhe', 'david5fernandez', 'httptcovcjcykq8b8', 'stallion150', 'kbeastx', 'genisys', 'httptcohibdw7d7ja', 'httptcoimullbvued', 'httptco1pxpoqktjo', 'jackmulholland1', 'httptco9lpf4v4hmq', 'httptcoik8m4yi9t4', 'httptconorkxbrs6g', 'bo3', 'yo\\x89û', 'httptco637rc3qc8d', 'httptcotegajmr8il', 'maxsys', 'httptcoqtizcbww7g', 'changefortheworse', 'noxdv', '85885473', 'httptcolzljzzkcfa', 'httptcofjddx43ewj', 'messnermatthew', 'httptco81neizeknm', 'httpstcozvobmdxhgp', 'httptcod3ctni8qit', 'abbruchsimulator', 'delmonts', 'httptcoyojkfqej6s', 'czallstarwes', 'httpstconmgp7imeii', 'demolitiond', 'pleb', 'foodstand', 'mentalhealthgov', 'httpstcoqejedwsfdg', 'samajp32', 'soonersportstv', 'httptco2o7eva1coe', 'httptcofhkhcqpl7j', 'httptco77ciwxabva\\x89ûtschoollands', 'httptcoxuub2hbli5', 'httptcoh5epx2d1ga', 'httptco4cpnbbzkzg', 'httptco65xr1p9soo', 'httptco8picbkdjm0', 'httptcot4axz7kc3s', 'httptcob77t2qxdcs', 'tookem', 'clist', 'httpstco1xssvgimvb', 'shantaeskyy', 'httptcoimtygds5qo', 'httptcouhl0akfvsm', 'modelbubbles', 'emiiliexirwin', 'agreeshe', 'freesikhpoliticalprisnors', 'bapusuratsingh', 'httptcowgmzmj5imd', 'httptcopm2tnnfdww', 'temecafreeman', 'httptco4kbwpcmmbm', 'httptcofu1btuq1et', 'thejenmorillo', 'httptcoao4ju9vmmf', 'gloriavelez', 'httptcoppekbqdcnc', 'wsjthinktank', 'colleenmnelson', 'httptcoxyxtuaczvb', 'httptcowmutcdg36b', 'kamayani', 'httptco6sdtzsgelq', 'httptcozhsll7swbh', 'å£6bn', 'worldpay', 'skyåênews', 'httptco94gjskur0r', 'httptcozkkn6mse1n', 'httptcofzhjf8bxld', 'httptcob0zwi0qptu', 'httptco2fs649qdwx', 'selfavowed', 'mzmandilynn', 'indiahttpwwwinformationngcomp309943', 'donzilla', 'trump2016', 'httpstcoxvaoqo4egr', 'rushlimbaugh', 'httptcomeisnkv5tb', 'httptcofvlgu1nayr', 'ohmygoshi', 'httptco7cehnv3dky', 'fox5newsdc', 'indiabacked', 'httptcosje59u2nnm', 'jozerphine', 'everythign', 'trustymclusty', 'fcked', 'kidscompany', 'httptcobcpmvylsih', 'epicinsanity', 'grimrail', 'nopassenger', 'hell\\x89û', 'httptcoblcbabm7a1', 'stury', 'httptcoqyn6kxjstl', 'newidea', 'wtwitter', 'sixcar', 'taxreturn', 'httptcogxqwd1qzbd', '7000series', 'cqnow', 'httptcoid4qgqdnjq', 'starbs', 'adamtuss', '12007', 'bobbyofhomewood', 'joxroundtable', 'nosports', 'top25', 'firstpostin', 'httptcocznxhutasx', 'orangeblue', 'httpstcoqyx5thkrbh', 'joelsherman1', 'httpstcoabnzqwlig1', 'robertwelch', 'httptcobq8kyi7gng', 'httptcognzwxqktam', 'halfderailed', 'halfrailed', 'deepthoughts', 'nypdnews', 'httptcoihhrkg4v1s', 'httptcoaryu5qngjj', 'itsqueenbaby', 'httptcommiye1k8zz', 'derailedbenchmark', 'resque', 'gerryconnolly', 'repdonbeyer', 'wderailed', 'nonpassenger', 'ohyayyyyay', 'httptcojdkqc12tid', 'httptcofctrawjcyl', 'accidents\\x89ûª', 'httptcouhxodsc7wi', 'teamfollowback', 'httptcoyvmphd0z9x', 'chicagoscanner', 'httptcogiesomgwtr', 'httptcoltyefjdm3a', 'indiatv', 'httptco0la1aw9uud', 'greateranglia', 'alarmems', 'cinstg', 'raishimi33', 'httptcoocxbwgyft8', 'httptcoildbeje225', 'alvinnelson07', 'httptco4y4ytwhd74', 'regr', 'httptcoq5mlbodvm4', 'httptcodnu5hwsxo2', 'mumbai24x7', 'httptcotuaryijpqu', 'httptcosjxllzosw7', 'httptcobagef9lfgt', 'httptcobvxqa3kfrx', 'httptcocuvkf5ykax', 'httptco4d9cd4mnvh', 'httptcounhqcq6bex', 'httptcotl41olpakz', 'httptcoyh5vetm0yz', 'httptco17wgug8z0m', 'ctafails', 'httptco1udz0nvoeh', 'mpmy', 'officeofrg', '63rdprairie', 'httptcozz5udilrea', 'httptcoxszx9mwxyp', 'httptcob9kuylcxg4', 'mumbaitimes', 'gyrsi', 'danielkemp6', 'httptcofel4qhwyfd', 'sauldale305', 'naturalexample', 'httpstcotl29lnu44o', 'hi\\x89ûótech', 'onthisday', 'laphamsquart', 'httptcossn1mxsfoa', 'httptcofw8elbnap7', 'jusreign', 'httpstcohxm8c8e33d', 'r3do', 'httpstcohdv3zirbci', 'httpstcotwcds433yi', 'psqd', 'mallelis', 'wereonadesolateplanet', 'belowthemasondixonline', 'binellithresa', 'httptcouan05tnksw', 'psalm3422', 'joshacagan', 'fotofill', '3422', 'booksbyroger', 'httptcol9mb2j5pxg', 'billroose', 'justdepressing', 'hundredodd', 'httptcopw5dst9roz', 'mirad', 'httptcoc6lgtotvsf', 'httptcoe9yfe3p7p1', 'httptco8gzbgmmaa1', 'httptcom9yda5k6jf', 'copperfields', 'httptco6un7xc9sve', 'ep03', 'littlebitofbass', 'silinski', 'onåêthe', 'httptcoiosthxlcyv', 'httptconyel2buaro', 'httptco2zgiupn06t', 'theconspiracytheory', 'newep', 'httptcodjdewd13wr', 'freediscountbks', 'httptcoaxvqldtehc', 'amreading', 'kurtkamka', 'ariz\\x89û', 'httptco0z1pvjvdpf', 'httptcomjfdcrjs8j', 'listia', 'httptcofwj9ccyw6k', 'jamessnyder22', 'httptcosgxb6e5yda', 'ayyy', 'introdesolation', 'httpstcolem5z1nfk3', 'httptcowox3vprixq', 'nikostar', 'httptcobp597yds2b', 'httptcooxrwrjzmnu', 'httptcok2tbes65oa', 'fotoset', 'elanorofrohan', 'httptcobq3p7n7w06', 'alcoholismaddiction', 'httptco31tgtlz3ya', 'httptcoc7rco2emwf', 'orshow', 'httptcon2ucnzh38p', 'httptcovu8fwymw5r', 'kaiseiw', 'httptcog5do2x6226', 'httptco93dm6gnwwc', 'imagini', 'clipuri', 'httptcoj6cfwukofe', 'cliptv', 'desolationofsmaug', 'poze', 'thehobbit', 'httptcoixw2cutk1c', 'httptcofajbxz5kar', 'futurea', 'httpstcodrfkarlz1d', 'rebahes', 'zenandemcfen', 'ndzedze', 'ashes2ashes', 'ldrago', 'httptcoss1zl36y9v', 'dilutional', 'httpstcoz9zj3kxwyu', 'shantaeforsmash', 'shantaehalfgeniehero', 'httptcozztbvjypn1', 'ng2x5', 'memebaiting', 'foxsportscom', 'raidersreporter', '957thegame', 'creativitybalancelongevity', 'httpstcowcfpznsn9u', 'httptcobtus5jejuy', 'httptcozrtfxluk6r', 'nicolekidman', 'cluei', 'yiayplan', 'amiibos', 'å£150', 'boylesports', 'httptcozildpvknxp', 'httptco5ydb4s13pf', 'petchary', 'reggaeboyz', 'cameronciletti', 'tigersjostun', 'httptcosikkg0fphr', 'httptcojfyfzddlrn', 'sarniamakchris', 'hromadske', 'kasiadear33', 'regc', 'beconfident', 'brbrs', 'fousey', '2hours', 'httpstcowactt18gda', 'httptcodkrgs2awex', 'streetjamzdotnet', 'httpstcomr9kcgpiwm', 'msmigot', 'givingevidence', 'sapphirescallop', 'haaaaaa', 'monwabisi', 'ryt', 'ashestoashes', 'engineermatarai', 'mataas', 'ratingbut', 'elgeotaofeeq', 'justicemalala', 'nkeajresq', 'nkea', 'foxa', 'cmcsa', 'amcx', 'viab', 'httptcoaqinavl1b6', '3941', 'httptcopaztdblgyk', 'alanhahn', 'hdumpty39', 'daughtery', 'reddevil4life', 'everydaynaija', 'httptcononm8c6l8p', 'httptcobdsgf1cfax', '3967', 'freemurphy', 'garbagebot', 'httptcokee1tytz15', 'semasirtalks', 'namekians', 'ryanoss123', 'destroyd', 'hiroshima\\x89ûóbbc', 'httptcodlgnuuuuyn', 'httptcojvkyzndtja', 'httptcojixscpmdud', 'davidvitter', '3945', 'zaire2005', 'httptcomulruifnn1', 'specialguest', 'crapgamer', 'hotteennsfwpornmilf', 'httptcofaogxkwdpg', '3934', 'headlinelike', 'harbhajansingh', 'stuartbroad8', 'believeis', 'yuvi', 'httptcoixjjlp1lvo', '3939', 'httptcotydxauuenq', 'httptcohld5xlywbn', 'httptcolmwkjsycgj', 'danhrothschild', 'selfdestruction', 'takecare', 'cinla1964', 'windowgatribble', 'httptcoqbmcsjavt0', 'mwjcdk', 'badkitty', 'lt3dave', 'httptco7b2wf6ovfk', 'undergroundbestsellers', 'httptcodili5jhmur', 'russiaukraine', 'httptcok3pnnktlxh', 'megadethsymphony', 'httptcoxzfxrglalp', 'httptcob5okgpspbh', 'thingsihate', 'hassanrouhani', 'httptcogwesgeszxv', 'blossominglilac', 'httptcoecd7hizja1', 'httptcon08qluornx', 'httptcotux0ypwzur', 'alexeivolkov1', 'roskomnadzor', 'httpstcoztyzhbvzqp', 'bonn1egreer', 'httptcovjlnskbg86', 'httptcor6jdj9kigm', 'httptcogs50ddg1jy', 'httptcoeb74iieiwn', 'httptcoomfgv9ma1w', 'httptco4bcqzqjrzn', 'furiosoxv', 'mythgriy', 'httptcofllabzgcrc', 'httptco7cadm3lnko', 'httptcoh1xigcen7f', 'jtw', 'httptcoceiao1texr', 'bldrcosheriff', 'cbsdenver', 'httptcoy217ceeemd', 'noperiferico', 'httptcom7na4skfwr', 'orapinforma', '52214904', '5139055', 'opticscumper', 'channelstvthats', 'httptcojn8s0drwbp', 'hhbu', 'httpstcoprojeavg8t', 'httptcoh9fsiaxv3q', 'woundedpigeon', 'httptcos9soaevcvo', 'mwnhappy', 'httptcogfdhfmpcel', 'httptcokm8ucihrrn', 'autoames', 'httpstconljvp3vfyz', 'fiya', 'sourmashnumber7', 'tomfromireland', 'rfcgeom66', 'bbctalkback', 'detonateampshots', 'apollobrowns', 'httptcozdtz3rbs6w', 'ftåêmop', 'httptcojd7rik7fx0', 'httptcoh6ngsw9a5b', '\\x89ûïdetonate\\x89û\\x9d', 'hrefhttptcownowfvcbms', 'httptcojxwojxqndc', 'httptcom1xykecrzr', '0308', '30lv6', 'httptcoc8uxkizwm6', 'httptcosnxgh9r16u', 'wpt994', 'httptcoh2ahxpch0y', 'httptcovq3vwxj8yu', 'ks161', 'httptcowadpp69lwj', 'httptcoyjth2nabv5', 'ks57', 'httptcobzzdedcthl', 'httptcooqjnuyibxm', 'httptcoihphzckm41', 'httptcowuicdttuhf', '917033', 'httptcowxces39zte', 'httptcopygkssscfr', 'esevu', 'httptcoemzn4spwnk', 'httptcosqfp6ecz0i', 'googlemaps', 'obtaing', 'butiqob', '0106', '325ci', '25ll6', 'httptcogbvdnczjou', 'httptcoc211hise0r', 'httptcody1ersdcrh', 'httptcom4cpmxmurk', 'sensorknock', 'as10004', 'httptcolmrkgporcf', 'httptco6wadnmstov', 'wpt410', 'httptcobsmj2hvgwd', 'httptcobxalnedy49', '1580853', 'httptcoodmx36wdhm', 'httptcogaheujruju', 'httptco9zrqmd8ngz', 'ks315', 'httptcoapvlh7hj1o', 'httptco1ljntejgmb', 'ks100', 'httptco7o4lnfbe7k', 'httptcofvzsgjtbew', 'weiqin', 'ca\\x89û', 'httptco1jgsioujas', 'httptco719tzeyhfn', '1581017', 'httptcoryobyqjfce', 'httptcolw9o2kdk18', '213924', 'httptcohpzhe0cjvf', 'httptcosaohvjktqc', 'rrusa', 'httpstcocubdnsnuvt', 'appys', 'httptcodlp8kpkt2k', 'httptco7dyoglhmre', 'httptcohkm3rtd4zf', '2134678', 'httptcoo2jd4tbrwa', 'httptcojfx6qiyivf', '0206', '20ll4', 'httptcovzaiqamdcp', 'httptcoycecn44c8p', 'httptcoucawg59ulj', 'httptcoenqdfbjump', '917141', 'httptcorfjzexqgxt', 'httptcowqgsmioimx', 'httptcoe61x9y65qd', 'httptcoovlet0gdqm', 'httptcobkh7z6cwwl', '9798', '46lv8', 'httptcocudkryuuan', 'httptcodkozymvy5l', 'ks111', 'httptconxleiijfgs', 'httptcoxsgwm5zxpd', 'meganbee92', 'kadiegrr', 'currensy', 'httptcoy5yhbb0hkf', 'she\\x89ûªs', '\\x89û÷devastated\\x89ûª', 'httptcogedoxsppl9', 'httptcoaczruorytd', 'gujaratriot', 'mumbairiot9293', '1000amp1000', 'indianperpetrated', 'chawalchorbjp', 'unwomen', 'unnewsteam', 'httptco4k8olzv9bv', 'httptco9nyxjndora', 'httptcojcszcjihlh', 'httptcoshkimonmlw', 'httptco1i19cuov7l', 'httptcodialta6t69', 'httptcou8ykr63b1g', 'httptcok9cd0efvut', 'httptcoa1moejxqya', '\\x89ûïlove', 'isn\\x89ûªt', 'httptcot5agps7t2b', 'rossbarton', 'gobsmackeddevastated', 'arfur', 'georgecole', 'argentings', 'aaaaaaallll', 'httptcom6lvkxl9ii', 'keegan172', 'cainsuch', 'httptcoxdt4vhfn7b', 'wesleylowery', 'httpstcozwvyisyp2b', 'kalmikya', 'volgagrad', 'httptco79fw9zwxtp', 'timeworld', 'httptcopms4pmur0q', 'ashes2015', 'httptcoa7tjawwtj7', 'httptcoiqowzgvznl', 'c\\x89û', 'httptcoohndh2ri0v', 'httptcoitbj6dkrzi', 'cllrraymogford', 'wroug', 'httptcoefsa6pbemc', 'ssssnell', 'httptcoag65u29sgo', 'hiroshimanagasaki', 'httptcoplo2qkrwhu', 'httptcoltvvpflsg8', 'hungerarticles', 'httptcolrouwjmbix', 'httptco5wfxbaqmbk', 'httptco1erd2fpryp', 'httptcoek6kyhxpe9', 'httptcoyn6nxoucr1', 'pampalmater', 'perrybellegarde', 'firstnations', 'idlenomore', 'cndpoli', 'yyj', 'httptcom2y9ym3if6', 'httptcobs6xaqhsim', 'httptcomly7sdn6ev', 'httptcogxgm1t3w0j', 'httptcopumxlvlsgm', 'httptcoo6aa0nwlha', 'httptcotarg56igbz', 'hintdevastation', 'beyondthebomb', 'httptco3nkculgvmw', 'httptcoe2dbcpwd9u', 'httptco2baxg1wdpp', 'httptcovfctrzaok2', 'httptcoyuo7jdnijx', 'httptcogid6jqn8ug', 'momneedscoffee', 'iwontmakeit', 'devastation\\x89û', 'httptconbcvbso9nm', 'sanelesstheory', 'httptcosigeeq42cz', 'httptco5cm0lfzhxn', 'jakartapost', 'httpstcovcv73buacz', 'lovelylikelaura', 'å¬only', 'msfsea', 'massgrave', 'httptcom0utldif77', 'timaroberts', 'afterhaiyan', 'httptcoga14egplw9', 'yolandaph', 'disasterrecovery', 'httpstcoqm5sz0fyu8', 'httpstcobudmke3nnf', 'cw500', 'httptcojq9nj6gko3', 'theneeds', 'httptcof56v61ampt', 'blowltan', 'disastereoficial', 'nitclub', 'httptcowtfjf9jjzs', 'httptcotdhn9zy0er', 'briliantly', 'mh17', 'httptcott4kvmvujq', 'httptcozhgu8ye1bj', '\\x89û¢im', 'disaster\\x89û¢', 'hollyorange8', 'peoplecommunication', 'gurmeetramrahim', 'msgdoing111welfareworks', '65000', 'tyar', 'cncpts', 'solelinks', 'amznfavorites', 'httptcomw9ambgafq', 'httptco4rtpjrhsqe', 'rbcinsurance', 'nonexistant', '\\x89û÷hoax', 'device\\x89ûª', 'atåêcinema', 'httptco5ng0fzpvds', 'httptco94sxki7kvx', '530pm', 'httptcofxux987vzx', 'vannuyscouncil', 'youssefyamani', 'httptconmpn2mqzge', 'httpstco8owc41fmbr', '1200000', '11000000', 'httptcoprci76howu', 'httptcortcufag0au', 'httptcogsa4o1mjnm', 'conditionsprivation', 'httptcoi5ma6ewuwc', 'lizhphoto', 'sux', 'httptcokhd99oz7u3', 'iamtalia', 'sgc72', 'displacedinjuredkilled', 'httptcoxlzwtzgqtc', 'reliefweb', 'httptco0abgfglh7x', 'httptcox8i0mhyrmn', 'httptcood2ratxrqs', 'httptco4roisyxjlw', 'httptco3r8qozjt7t', 'httptcoteq7sri57p', 'httptcoqegmrhsms2', '11st', 'httptcoyejt18sbm0', 'httptcorcqacn91be', 'httptcov0yrfh9dkc', 'httptcouelz59wvom', 'pennlive', 'httptcoohyd7hhcpe', 'killeddisplaced', 'grahamwp', 'phelimkine', 'httptco8go68kje4b', 'httptco0krw1zyahm', 'httptco6ysbcsszys', 'socialmediadriven', 'httptcowvlah8jrxe', 'refugeesmatter', 'httpstcooez7o9ab2c', 'cityofhummus', 'ilnewsflash', 'httpstcokjmgteeklp', '\\x89û÷exceptional\\x89ûª', 'httptconyo1xuebfa', 'droughtgov', 'httptcow0a1mjorhy', 'httptco8jvqi9uspl', 'httptcofe9hivfmxq', 'httptcofdzzumyw8i', 'httptcooqeq4uegf8', 'httptcovymnrnsthg', 'httptco1mvsqg0xke', 'httptco5uoophsqu3', 'makewaterwork', 'httptcotxrbdaubnn', 'httptcoue78c7egox', 'westerncanadadrought', 'httptcojevrcwudpm', '91å¡f', 'httptcokah1kmtrj7', 'httptcor4yzhxk7lw', 'droughtcheck', 'httptconnv3zwvant', 'gfrost1985', 'jeffpalmer16', 'dqsvyusy', 'httptcoolzavtjfkh', 'httptco2sz7okjrxi', 'droughtmonitor', 'contig', 'httptcoybe9jqoznr', 'httptco328szfletz', 'httpstcouaodoquda1', 'karinagarciaxo', 'httptcoysg9vsrt4g', 'that\\x89û', 'droughtfueled', 'httptcorkdzb0tgc3', 'warnerrobins', 'httptcophnez60cwe', 'ashj', 'httptcov4br5gjmiy', 'gaabyx', 'mydrought', 'water\\x89û', 'httpstco2zvhx41i9v', 'httptcomkqsvp8e0g', 'httptcoml8irhwg7o', 'cadrought', 'lakeisabella', 'jpanzar', 'httptcopvexbiiqsk', 'karijobe', 'codycarnes', 'agusa', 'drown\\x89û', 'httpstcowxela91juh', 'httptcoiylvzy3cob', 'httptcoacmrm833zq', 'chromsucks', 'httptcotube4nbqnz', 'httpstcosjoeing76t', 'cameronhigdon34', 'graysondolan', 'lwilliams13', 'cortneymo', 'mfsloose', 'httpstcooaqtjawgxg', 'jasminehuerta24', 'reprocussions', 'httpstco7vsqqsvgni', 'kessily', 'allthekidneybeansandsorbet4misha', 'dmerida', 'cleverbot', 'httptco7s1gfnebgt', 'protoshoggoth', 'ploppy', 'httptcomoa0q0aufa', 'httptconkou7zwwrt', 'httptcouhf7nyabsw', 'stephengeorg', 'httptco0sa6xx1oq7', 'abcnews24', 'peterduttonmp', 'younoone', 'fnaf', 'trixiedrowned', 'pageshi', 'httptco366nhtg3tz', 'are\\x89û', 'httptcovox99fwkcx', 'dwenglish', 'httptcocubc0nq6fd', 'ufo4ublogeurope', 'httptcoriwup1rbhu', 'httptco86pknkchmr', 'httptcot4pv0nroov', 'httptcopseylyzck4', 'cafeawful', 'httptcopylfb3ti9u', 'itsdanie', 'httptcok9asktwxfl', 'austinpearcy22', 'httptcotilgurkv7z', 'httptcozsykzj2bzg', 'httptcoqyu8grorq1', 'httptcoppji1tcnml', 'summer2k15', 'calais\\x89û', 'httptcopy4mtw5xpm', 'eeasterling2', 'dinosaurdracula', 'httptcoirhh2gvsed', '1984style', 'httptco58wvchg1m9', 'janiethekillr', 'howre', 'httptcomwcnvtcxvu', 'httptcoclolmorpld', 'httptcom2yuxnqlqy', 'httptcov8gkkfmfxt', 'riveeeeeer', 'epileptic\\x89û', 'httptcounsayjdtu7', 'httptcoz8r6r3nbtb', 'httptconamffldh5h', '2his', '080515', 'httpstcox17fubqbgg', 'httptcotcjfckxdzl', 'httptcoemtxtgo4ce', 'httptco7bevuje5ep', 'jeesss', 'ethereal7', 'httptco7giglwdmhy', 'jlabuz', 'heyimbeeyt', 'nashsnewvideo', 'httptcoepzwaseyky', 'httptcocfevtrsc1u', 'sometimesi', 'anxietyproblems', 'sweatfyi', 'httptco9y0paj8sxd', 'httptcooldjsowky5', 'nigeltanner1', 'nineyearold', 'dravet', 'httptcovbo1tjndps', 'httptcomcsek4hx5s', 'httptcoiifgaz0fil', 'itblank', 'expressioncheeks', 'facemarvins', 'breakingfalling', 'httptcoyzzxxknism', 'httptcozzsee5hipm', 'homukami', 'ohlordy', 'nwspocatello', 'bg16', 'httptcojkpjpch9i6', 'httptco0mnpcer9no', 'httptcoqwqnni7vmz', 'duststorm', 'totoooooo', 'totoooooooooo', 'historicalmages', 'httptco4awc16uuwb', 'httptcopw3tzu0tay', 'windits', 'httptcotkmotaeaco', 'httptcotpoaprjudp', 'httptco0yl3yt4ylh', 'httptco4ilt6fxu45', 'uvopwz', 'retiredfilth', 'stormlike', 'i90', 'httptcol5vaklr59m', 'httptco45cmaqf8ns', 'httptcoqhbzkerott', 'cogxbox', 'xboxone', 'windmy', 'httptcolbmekyphm5pls', 'duststormfilm', 'i15', 'idwx', 'httptco0cr74m1uxm', 'httptcosruj5zljgl', 'httptcojf5ft5cq9j', 'httptcoqllkofdyzx', 'httptcorgjjumnnah', 'legacyofthesith', 'sagacioussaber', 'lordofbetrayal', '82ndabndiv', 'httptcougesklcn8m', 'httptcoj4ni4n0yfz', 'httptcovrpmplczcy', 'deadlydemi', 'tìüp', 'httptcoka1hbjlqvw', 'httptcomudgu1puns', 'httptcoaqxwolbcfq', 'httptcowa5c77f8vq', '0936', 'httptco2xmdidgpnr', 'q13', 'httptcoe981dgskab', 'earthquakenews', '3novices', 'httptco2i4eoggo5j', 'tem\\x89û', 'httptcot97jmbzobo', 'httptcorftyyz4gwj', 'httptcolau0ay7ahv', 'httptcohkbpqdncba', 'magnitudeåêåêml', '24regionåêåênear', 'httptco0wdazlcm90', '012624', '182624', 'httptco3bwwnlsxhb', 'httptcoqfyy5azifx', 'raffirc', 'sustainourearth', 'httptcoyru4nphdrf', 'thi\\x89û', 'utc20150806', 'httptcombo6oaniqi', 'earthtwerk', 'scseestapreparando', '73km', 'wednes', 'httptcoi6lmccclv5', 'volcanodiscover', '165409', 'httptcokf0qybkzol', 'ageekyfangirl14', 'httpstcoicttz0divr', 'loupascale', 'httptcoz6hxx6d2pm', 'euroquake', 'httptco4ryzmzsgdw', 'difficultpeople', 'httptcoojq0kfg5ub', 'httptcoz0ver1hvm9', 'vulnera', 'httptcoau5jwgt0ar', '12jst', '18jst', 'httptcol6jbjaj8dm', 'm157', 'utc3km', 'httptcof9kqksosw3', 'httptcozqrcptlrum', '234021', '164021', 'httptcox6el3ysycn', 'darchambau', 'httptco6aimd1uway', 'httptco9cgbjwmhii', 'httptco9f3rdn9n3d', '96km', 'brenas', '103424', '063424', 'httptcosdzrrfzhmy', 'adanne', 'devonbreneman', 'elecman', 'ielectrocute', 'zxathetis', 'httptco26oo0fcl53', 'mmchale13', 'erally', 'myelf', 'httpstco9zmwt9xydz', 'lightseraphs', 'omarmolina036', 'milioooo', 'bangtan', 'httptcouwijmegl4e', 'httptcooer5hh41ew', 'uglypeople', 'wouldelectrocute', 'eltorroloco', 'httptcofrpbnhvpyi', 'cactusborderlands', 'borderlands2', 'oocvg', 'redblood', 'httptco9pymm2ruwf', 'thatfatguy', 'httpstconwq6wjqk1z', 'httptco3enyndxppm', 'httpstcogqpi7jmkan', 'httptcon8ezfctfce', 'rowysolouisville', 'httptcohxvfmouhdm', 'steveycheese99', 'mapmyrun', 'httptcox6asgrjswc', 'mwlippert', 'southkorea', 'preparedelectrocutedboiling', 'waterfur', 'httptco3a50dhz7yi', 'earthsvoice', 'httptcojlwhaowfqa', 'saveti', 'zotar50', 'atamathon', 'httptcogpwrc1kz5i', 'electr', 'httptcowerk9qibvv', 'mumbailocals', 'lessonforlife', 'marinelines', 'tshirts', 'httptcoryah8fni5q', 'httptcoipwysnik0g', 'httptcocm7hqwwulz', 'httptcokdwazhqtov', 'httptcolh9mrypdrj', 'httptcopqhuthss3i', 'httptco0iw6drf5x9', 'httptco5fhkxtrhyu', 'httptco2oroyunym2', 'httptcoc9jnxz3dxc', 'httptcoddhwori5w1', '37592', 'cosme\\x89û', 'httptcozcvfc500yy', 'alaska\\x89ûªs', 'archipelagowolves', 'standforwolves', 'httptcohbwoivjqkd', 'newyorkcity', 'drjustinmazur', 'httptco5aiexcbkfq', 'radychildrens', 'httptcoigwstttkwk', 'speedtech', 'httptcot6seku4yvm', 'httptcotjoz4u4txl', 'httptcodchfpxgy2m', 'httptcoughptzjulk', '7510880', 'sheltersupport', 'nonenglish', 'tookitlikeaman', 'lovemydentist', 'runnerjoy', 'childfund', 'httpstcopqhq4jnztt', 'httpstcofx0w2sq05f', 'careemergencies', 'httptcolkz5cnynxx', 'httptcoiz17klelzc', 'akgovbillwalker', '\\x89ûï', 'treasurehouse', 'outbreed', 'takehome', 'akx', 'leandotorg', 'httptcosuzbkyw5tt', 'httptcogzxipmoknb', 'mineenjoyfire', 'sirens\\x89û', 'httptcohcyajsacfj', 'adndotcom', 'chowtaxis', 'kijangbank', '20150814', 'httptcozpqwkhfhnf', 'dyingthey', 'httptcopjigxpvpl0', 'httptconaex0q1ax0', 'httptcodywwnbbyvj', 'poconorecord', 'emergencymgtmag', 'httptco7zlsumiess', 'httptcotdcch01n7q', 'httptcoha5boppejy', 'httptcof7ljwxj5jp', 'swanger', 'httptcodl60ja06tw', 'httptcor5bgvlqpjt', 'httptcomehwkzwtxd', 'httptcopc7s8nxj6q', 'httptco9xohmmlmdy', 'httptcoiys9xwpvmk', 'rs40000cr', '3612', 'httptco0x2bieqxpv', 'httptcoch6e7vtatr', 'httptcokfbjvjivqb', 'httptcobn7xpzqdm0', 'httptcoarktj9qn4s', 'httptcoz5y4xr14w6', 'roomsgrrrr', 'httptcovfbbchwrfd', '\\x89ûïbasedgeorgie', 'forreal', 'president\\x89û\\x9d', 'whipe', 'rebeccaforreal', 'govwalker', 'nbc15', 'httptcopis0aivrbr', 'httptcoh3dch6fyaw', 'biztip', 'httptcordovqauax5', 'specialneeds', 'httptcogm80x3vutf', 'cbccalgary', 'httptcos0ktiliskq', 'gotriangle', 'httpstcos7xdxuudcy', 'httptco8ihuco4glw', 'httptco14cicptkna', 'httptco93iaeec26t', 'httptcohxtupra5bc', 'httptcodqxkjibbky', 'chrisroth98', 'chaselabsports', 'chillimik', 'hushlegs', 'glenstannard', 'essexweather', 'httptcoi3hzemldpu', 'httptco2fibe2haxc', 'httptcoyu6nue7gfb', 'httptcopl2vzlrkvk', 'httptcodrbcrypj4p', 'iiemergency', 'servicesft7p7a', 'httptconv3uxv9imx', 'httptcoej30ihrea9', 'httptcosnubza6ksc', 'treatmen', 'followme', 'httptcouxqkieqdyf', 'httptco1q6ccffzv6', 'sunyorange', 'httptco80dzgco6vc', '7a730p', 'httptcofdiu44jldj', 'httptcozsnsar1tw1', 'httptco1meeo3wjco', 'httptcoicsfdsifqb', 'httptcourjwsvr311', 'httptco7jfreteii4', '330a', 'httptcoxqrlewia4x', 'httptcof8gvwkfqox', 'httptco8kj1wdaigj', 'httptco9lyx7zmthe', 'httptco5pbc96rtmj', 'httptco4kdthctemv', 'bilsen', 'his\\x89û', 'httptcoz99pkjztrp', 'httptcozoepzsoky1', 'httptcoaqcsusqbdy', 'httptcohkyfkug5zw', 'southline', 'yennora', 'swayoung01', 'httptcok1tmlwvjmj', 'httptcoz5grlrey6v', 'httptcop6cylz5lpt', 'httptcojpu9gips9f', 'httptcocyzlshlqhg', 'httptcondis8f1vzt', 'trafficalert', 'httptcoldgwsyowss', 'httptcocnyvvy4wat', 'crosslondon', 'accepte', 'httptcovg8hrbebda', 'carinduced', 'fnaftalkmc', 'inåêchaos', 'httptcoxkonkz0zl6', 'httptcodxvtgi1bvo', 'httptcoykvsttvdwo', 'httptcoifqqpur99x', 'httptcotfan6qq2ys', 'httptcorakwwritpo', 'httptcocimubweyib', 'httptco9r5fsts7bd', 'godsfirstson1', 'literarycakes', 'raheelsharif', 'darkstormytidalsea', 'httptcoyzdmouxqbo', 'httptcopexfgawrg1', 'sunnymeade', 'suelinflower', 'painthey', 'lifeits', 'zachzaidman', '670thescore', 'wld', 'boycottbears', 'parley\\x89ûªs', 'httptcormucfjcazr', 'httptcoi9dspdkruk', 'httptconep5azwkna', 'httptcozevan9kjzl', 'httptcouuzfs1l5kt', 'httptcoyfavsuogvl', 'httptcoisi1rllct0', 'httptcofxdh3u8bq3', 'httptcoyzhvobgocq', 'httptcowplrhbfhee', 'httptcoeelex4ssvf', 'carneross', 'postcapitalism', 'httptcodspws6hj8w', 'aliveafter5', 'httptcosc4twjkxr1', 'httptcoyn6duotimr', 'elisagxrcia', 'httptco7nu7prxeul', 'httptcoyxtzbtvmhm', 'httptco7jggqwbv6s', 'calestous', 'httptco8zy9n6fx9t', 'httptcoitz9masbvz', 'defeater', 'yeaahh', 'httptcoicrgseagya', 'httptcokpvymhm2ub', 'httpstcowkmfdig3nt', 'phillipten', 'rjailbreak', 'httptco48tpnmbjvg', 'mkayla', 'httptcobgerljamte', 'httptcospuhuvgasy', 'warnings900037', 'zehrs', 'amp039monsteramp039', 'httptcoaptap6yx1r', 'firefigthers', 'httptcohppld1jhtz', 'tennews', 'httptcohfyrloqy8q', 'httpstcoohcx3y8l4s', 'alllll', 'nittys', 'httpstcoskq8oucm3r', 'detersion', 'joonma', 'mygc', 'httptco6e7hhferz4', 'httpstcowqy3jokumh', 'ahhtheenikki', 'httptcogfsl2kwt5h', 'pantalonesfuego', 'mthe', 'meetkakarotto', 'whocares', 'dnjcom', 'httptco6ezkoof2xt', 'httptcofacm78eg7k', '9newsbrisbane', 'httptcokd3qsakbi5', 'bickleton', 'httptcowwgadpffkw', 'httptcodzlense1gw', 'httptcotb52o146tx', 'httptcotsbtigdsdt', 'httptcopfmn63vnam', 'httptcovkwqbojfjc', 'httptco42gw2i2q41', 'httptcopzeixi4xk7', 'httptcoz0hsckvysn', 'missleylaha', 'httptcozzweeezjug', '\\x89û÷bomb', 'threat\\x89ûª', 'httptcolwlexxjus8', 'httptco6gldwx71da', 'httptcoe2hltyyfak', 'httptcopmxezuo4ay', 'httptcox3g2ox6k8r', 'httptcoryeqmxirj8', 'manchesterlite', 'httptcokzbsohtwb4', 'httptco6x0xhlbxji', '115film', 'unstablethe', 'httptcokue48nmjxh', 'httptcowxhmp5ppjq', 'httptcocmweiojj55', 'sr14', 'httptcoqposkp3mwj', 'httptcomtqjsvupwy', 'morevoices', 'httptcomtfnbhryzq', 'httptcoxppqnyhiwc', 'httptcoqsheu3yf0w', 'httptcozuqgvjneqa', 'httptcodevybnvxgq', 'todayng', 'httptcofijapxykrq', 'lassics', 'httptcoeruzbuqzyu', 'httptcogsomtdpmoj', 'httptcokif7m3fqlx', 'httptcooz6vlwwtnr', 'veldfest', 'httptcopp05etlk7t', 'httptco3ol8mhhpma', 'markoturner', 'annaciclismo', 'httptco5kfovovjso', 'halfhr', 'swayback', 'areavoluntaryinciwebmad', 'httptcovn73o4sgzj', 'calfires', 'dismayed\\x89û', 'httptcovgvjgr8zoo', 'ifak', 'httptco6mf7eyzoaw', 'neces', 'httptcotls40nqipn', 'todayngr', 'ericbulak', 'jaclynsonne', 'oliviaann', 'httptcozzpojgngaj', 'dailytimesngr', 'httpstcogzegjoakkw', 'gnwt', 'httptcorvsyxwj9cp', 'httptcona0ptn0dtr', 'lolla', 'httpstcoyrfz5wj7r2', 'httptcovku3rtoz1j', 'torontorc', 'time\\x89û\\x9d', 'reidlake', 'yzf', 'ibrahimmisau', 'httptco5zcje7arci', 'httptcohavxobcsvu', 'httptcowmmkirj0hw', 'httptcojbodkm6rbu', 'ariabrisard', 'leiaorganasolo', 'feelingmanly', 'httptcoqcpmktgllr', 'httptcoe1vkc2efst', 'httptcobeua507iug', 'httptcosgxp1u5ol1', 'noahcrothman', 'httptcomodm8x1ot9', 'httptcoossc7q12ir', 'newåêheights', 'httptcoiglnqpgbnw', 'httptcoaoesbvns45', 'annealiz1', 'attjcdemos', 'folieacat', 'loadampexplode', 'httptco6vei1mhea4', 'httptcolthmwtl5fp', 'swea', 'httptcopfvzvpxqgr', 'kaldi', 'httptcou6isxv2f3v', 'httptcouclvihwoec', 'yuuko', 'nomiya', 'eagles\\x89ûª', 'httptcorrq1ildkil', 'hotnewscake', 'httptco8rabhqrth5', 'deniseromano', 'allenenbot', 'httpstcocnxxmffrae', 'attackonstiles', 'apunk', 'httptcolatssuo4ws', 'httptcoe84ifmcczn', 'httptcodhambp54ya', 'anonchimp', 'httptcoowje3i6ygn', 'deldryden', 'httptco5qhoehe9hf', 'crimsonfuckingv', 'bitchl0vecannon', 'peice', 'teduka', 'bfore', '70years', 'bomd', 'dayhttptco8vzl1ns2io', 'chelseadogs', 'httptcoqzvkpahsq7', 'kopiteluke1892', 'brandonskeie', 'samsmithworld', 'httptcoyetagc2d8a', 'httptco3drsmxw3cr', 'imkeepingmydayjob', 'httptcokcmbbwwp8g', 'chaning', 'httptcoyg32yb2jdy', 'httpstcopqslug4jk5', 'httptcolspnycvolo', 'httptconh5pkfbfqm', 'drako', 'zarharzar', 'httptcoibsvy2r3ph', 'bluewestlo', '38745', 'httpstcoupgd2cy9il', 'kingmyth1999', 'itsnasb', 'merycormier', 'lenkaiswaifu', 'akxbskdn', 'lunasagalle', 'synapsenkotze', 'httptcox39jwsyrqr', 'httptcor4wgxra59m', 'okgooner', 'fallontonight', 'httptcomodqnalwsb', 'httptco4c58ooavhy', 'httptcolhtvkcoiso', 'httptcoo82yvxbztv', 'httptcon5kmxuverg', '51point', 'httptcohhllqckcep', 'httptcotmmorvxswz', 'httptcoxbznu0qkvs', 'httptcobgaj2oax1p', '2500fps', 'renaomino', 'httptco0wdseihyqu', 'gaelite', 'miì©ville', 'httptcootrwz1t9sp', 'httptcoxvlkfcvfx5', 'moregtosha', 'siteinvestigating', 'kfvs12', 'httptcopxyh7zo7vt', 'atomicbomb', 'httpstcov0t8h4iecc', 'kircut1', 'dopest', 'strategyhua', 'httptcoomjmtu9kfg', 'colinhoffman29', 'httptcoorovzfsku2', 'aminespn', 'lordrsbiscuits', 'httptcotoyu16mxbo', 'httptcop10hndc0mm', 'httptcoekwtihlwuf', 'begforcum', 'alldaycumshots', 'cumcovered', 'sexycumshots', 'cumtown', 'bjnutt', 'cumslut2', 'girlslovecum', 'httptco2cx1yjjoz9', 'tawfmcaw', 'httptcoz4ilb9y9nu', 'httptcoj295md1sow', 'httptcosd7loww9nu', 'httptco7hkavtvx81', '830pm', 'httptcoqkahxwlwxa', 'httptcooogoto76uz', 'httptcovlnmklwwby', 'httptcop769eo49fj', 'nurgle', 'khrones', 'httptcohe7q7h3nzf', 'httptcorpvzbesuqj', 'httptcohqzfcxxrsb', 'httptco0vwpdizcko', 'httptcoyh4r7ug21a', 'emptypated', 'hpssjd', 'dcubecrafts', 'greetingcards\\x89û', 'httpstcot07qxp5cbe', 'httptcobz3ir4gmwj', 'barcousky', 'httptcodhgavw8bsw', 'httptco0lmheaex9k', 'squibby', 'httptcobqv3qttuxr', 'httptco0drqlrsgy5', 'eyewitness\\x89û', 'httptcoap9jbrpmqg', 'httpstcoyrqgnblkac', 'httptcodyy7ml2nzj', 'emhub', 'httptco6mbpvwitxf', 'httptconjaffyjarz', 'httptco1xhsuewqn4', 'httptcovecsosrler', 'httptcofiuogj6hef', 'httptcoczpdn9obit', 'kaputt21', 'httptcoydgiuydqgb', 'cbs3', 'team\\x89û', 'httptconxtwxjcavh', 'httptcool8esfrgle', 'httptcokk0qfkgqcy', 'httptcosmc1ro09fs', '\\x89ûïlittle', 'boy\\x89û\\x9d', 'httptcomuanfwcrw9', 'schoolboy\\x89ûªs', 'httptcopq0d7mh3qr', 'httptcoquedv2xxxx', 'httptcolgglf5yrme', 'kbak', 'cbs29', 'httptcororktmpqns', 'liveonkbak', 'httptcoedznx6goud', 'httptcogzib0mawmn', 'httptco49izkbohri', 'httptcoqpur3vd7hl', 'httptcol9ekhnkbar', 'patrickjbutler', 'damiengayle', 'expect\\x89û', 'httptcophh1vmlfoo', 'httpstcoqgqlpmrfjd', 'httptcojhvigsx5jg', 'staff\\x89û', 'httptcotj3ltpzfw1', 'httptcoxpwkodpqto', 'httptcondwep6izdq', 'bokoharam', '\\x89ûïi', 'httptcopk8dgvripw', 'httptcorz0adzursw', 'macia\\x89ûªs', 'httptcomphog0qddn', 'oct336', 'httptcofabvlvn5ms', 'wsoaring', 'httptcovymouzjzre', 'httptcoenrjh5qkve', 'zonesthank', 'ari\\x89û', 'httptcoqdmvtj4lzj', 'httptcoo4xljnav8f', 'robertmeyer9', 'peoplegt', 'httptcodj1lwznieh', 'httptcoi9mxxkzhbl', 'httpstcouttanbigrx', 'httptcoresxavgpyj', 'httptco9hieifhsmc', 'you\\x89û', 'httpstcolue3waegpi', 'httptcop9rymfjcux', 'writes4coffee', 'httptcosto58qa94c', 'iartg', 'tw4rw', 'rrbc', 'httptcogyh00mrkjm', 'httptcozonnqgsxyw', 'financialtimes', 'httpstco2fggzqn1v4', 'httptcosi02qrguka', 'httptco0c1y8g7e9p', 'faminemega', '0840728', 'httptcopdiit0af3q', 'httptcozq5kdox7by', '\\x89û÷food', 'crematoria\\x89ûª', 'famineåêmemories', 'httptcosgecnkfthu', 'hunhry', 'httpstco0xouv7dhwz', 'httptcoh6z7hxuqtu', 'httptcox1x6d5enef', 'httptcoxhehjfft7g', 'savagenation', 'faminedeath', '1russian', 'recal', 'httptcoj2erzbmjqd', 'mineness', 'httptcospymiqnecj', 'httptcofelr5a1hbp', 'guidofawkes', 'mediaguido', 'httpstcowe40iux7ib', 'httptcofjeafgbzfj', 'httptco9bliddngtf', 'hopeinchrist', 'lifelettercafe', 'surfphoto', 'httptco6siirlnv6z', 'goodells', 'httptcoucnckrnlow', 'httptcogtcffacvam', 'httptcoqyccvuubkr', 'httptcoc9dvdssofn', 'asianshawtyy', 'httptcohtez4z48od', 'httptcoeq4rxc9bb3', 'hitandrun', 'httptcoj3rtf2dt3x', 'khqa', 'httptcon2bcf4m64v', 'chrisdanielshow', 'nearlyfatal', 'httptco1tvlfrhm1m', 'windwakerstyle', 'httptcohdbmfovutz', 'dailyliberal', 'wrongway', 'httptco1vz3rmjhy4', 'httptcoxevueefqbz', 'httpstcoztfead8gid', 'httptcoj3x0doy7r3', 'httptcooazghozgya', 'gunfail', 'httptcobl59fw4sys', 'spookyfob', 'feelslikefob', 'httptcoa6ro9bmxcy', 'whyor', 'httptcohuriivfdkc', 'ballews', 'httptco9h0ym9ofsv', 'httptcoadsvdpnp3r', '3yearold', 'httptcofj7kcrlir7', 'httptcogoetjgihop', 'onduty', '3åê\\x89û', 'httptcocn1jommugh', 'httptcoiqj1z3jxx8', 'econom', 'httptcozsqm8ihe1k', 'news3lv', 'httptcoexdbcx4gcr', 'httptcohikf8mkjsn', 'kyrikoni', 'expressandstar', '6month', 'httptcoreoz7h3em8', 'httptcoh4usheekxm', 'httptcojnhnx3oisn', 'httptcoghk9xup6e0', 'its\\x89û', 'httptcoigz7v24ge9', 'httptcom75dnf2xyg', '11382', 'httptco1uo1atrbbj', 'httptcojwiv6wyw6f', 'coolweird', 'httptco1xw0z8zeqw', 'continuinglet', 'ggindependencmessage', 'xrays', 'dwilliams313', 'ieansquad', 'httptconu6wrp716d', '\\x89ûókody', 'kombatfans33', 'httpstcoumajwsnluf', 'httptcoymp0ginwza', 'httptcofyioqvioif', 'httpstcoiggfnbixt5', 'hiroshimasized', 'httptcobsrerjby0i', 'httptcow3esx6ud8t', 'biterelated', 'httptco43sxg9z6xh', 'fatalitiesxray', 'motordom', 'visionzero', 'httpstcocavb7pgepv', 'httptcolsjowgyvqh', 'httptcodgul7ffjt2', 'httptcoflo8fgy35a', 'httptcojvivt6zrv7', 'kevinedwardsjr', 'httptconcjlkqasuk', 'fatalitiesxrays', 'httptcokc8o81bchg', 'httptco0rokdutyun', '400000\\x89ûò800000', 'httpstcotxzxcnudr8', 'httptcosuilzs2s95', 'healthandsafety', 'policylab', 'cecanfs', 'httptcon2cy3z4tpb', 'freemarketeer', 'enca', 'httptcodno7qxcffh', 'httptcoe7ojhpdfg2', 'ebrointheam', 'jaybig', 'lpunbiggiewrap', 'overzero', 'questionfatalityflawless', 'httptcoy33qckq7qd', 'jakeadavis', 'trulystings', 'gangstermail', 'httptcoyi3oivk2x4', 'crbzfz', 'httptcorgt9ghodpw', 'hripsk', 'tellyfckngo', 'jaycootchi', 'sond', 'babality', 'httptcojilfbr0ufp', 'httpstco407v1y4hhg', 'bardissimo', 'tonyakappes11', 'httptcoxyav4t5n0o', 'highestranking', 'httptcosihqpluidw', 'babybackreeve', '08315', 'aveblack', 'pxnatosil', 'renunciedilma', 'jaxmk2', 'fatalityuudlk', 'chrisman528', 'httptcom5djllxozp', 'httpstcogf5qjgoyci', 'httptco7lvgcmyiyj', '40w', 'us70', 'lindasocvat', 'deathmule', 'httptcosxhgfithjw', 'ermac', 'httptcoo7qogmoegu', 'ssb4', 'httptcomzrhfojt2j', 'httpstcoisbtzujfbm', 'httptcoeerkh8ljws', 'phnotf', 'strongminded', 'organizationsfluctuations', 'imbalancesare', 'musicvideo', 'httptcouuzaumdobc', 'luzukokoti', 'umntu', 'wakho', 'referencereference', 'xekstrin', 'httptcoo7yyjlukfj', 'baileysmsteach', 'doing\\x89ûahhh\\x89ûthat', 'perrychat', 'httptcor5bxzzhxkm', 'httptcoprmtxjjdue', 'httptco9eh2lcqkxl', 'blackinamerica', 'cowgirllawyer', 'ampor', 'httptcoj6mpdsx9lk', 'vegassolitude', 'httpstcoih8udz8mq3', 'shakjn', 'httptcoq5qcoao8jp', 'choosegod', 'restoringpaths', 'to\\x89û', 'httpstcoqrhng6kj1c', 'scottdpierce', 'billharristv', 'harrisgle', 'beezersun', 'xfiles', 'thexfiles201days', 'httptcoc1xhizprad', 'besttalkradio', 'httptco8j09zutxwt', 'mcnabbychic', 'amsal', 'sensanders', 'wrked', '8437150124', 'deltachildren', 'instaquote', 'quoteoftheday', 'waltdisney', 'httptcoblzt5zwose', 'selfdelusion', 'selfseeking', 'selfpity', 'httptcodxfqou4kt2', 'morganite', 'r1354', 'httptcohhpvsatqxn', 'httptcod12r8xpshy', 'httptcocjhh17duli', 'httptcooa6b0z2h6y', 'misshomasttopa', 'nowwwwww', 'httptcoinkuv5dntx', 'httptco1cvegtizog', 'httpstcoy3fo0ghg8t', 'httpstcoi2el5acrrw', 'httpstcop5jpjgiipw', 'httptcowatsmxytva', 'httptcoamymwwcpym', 'canonusaimaging', 'canonbringit', 'canontattoo', 'theresmorewherethatcamefrom', 'httptcotcxxhdjas6', 'seanhannity', 'httptcodrf3mmrbyx', 'catsandsyrup', 'httptcobmsedzofsv', 'httpstcoitfbbz9xyc', 'daughterofnai', 'yukis', 'shakingcatching', 'fireand', 'httpstcon0tawgezjx', 'justinling', 'cyhi', 'run\\x89û', 'httpstcofz1haej255', 'zomatoaus', 'lovefood', 'httptco9l5kqykrbg', 'dontexpectnothing', 'smores', 'httptcoeudwnfyuem', 'f450', 'transporta', 'httptco8gtrvece1n', 'httptcok5fijankjb', 'population6', 'httptcokmpfhglhoo', '3n133', 'ufn', 'brooktekle', 'httptcol90dcpv9zu', 'httptcor6yjw4xcky', 'kapokekito', 'wompppp', 'prayforsaipan', 'eeenice221', 'justinejayyy', 'ohgod', 'mineenjoybabes', 'httptcov5gtunwohy', 'knx1070', 'ori\\x89û', 'httptcomcejzzxgh8', '90225', 'httptcofaqnfupegn', 'httptcomqfofkxtyh', 'httptcoykuauov9jo', 'httptcojrdwyy0ax4', 'rgj', 'httptcokaf3wdrmtn', 'httptcoal28rvkqpq', 'nno', 'httptco7cmf3noync', 'httptcotamrcwfygd', 'jaymcleanauthor', 'httptcoimilsfxntf', 'httpstcoybdsljw7c1', 'httptcooabjztbvyz', 'httptcogpbxrrdc07', 'lukebox', 'nashvillefd', 'doningtondash', 'httpstcog1nw99yj8u', 'detkenlang', 'httptcokcrnmjkj73', 'smartteks', 'gpsbased', 'mpers', 'httptco3oionqlfql', '\\x89û÷we', 'help\\x89ûª', 'httptcowtafaepukz', 'httptcobehfhsppud', 'roadid', 'httptcohikdc1fm2f', 'httpstcolkxi6uxjaq', 'httptco94uyt4ojyk', 'httptco1vi2rnbk2i', 'httptcomnh6fxhodb', 'httpstcosnaymldiun', 'httptcoamea3lamdj', 'httptcoavv6hpnpch', 'httptco0t9yd557ry', 'gisuserpr', 'geotech', '\\x89û÷badges', 'blood\\x89ûª', 'httptcoe65v80fcus', 'httptcofcfpijiqt5', 'iafflocal4416', 'bridgeportspeed', 'httptcodih1tgqhej', '999day', 'httptcotl93aod3er', 'antiochhickoryhollowtn', 'httpstco9pmbtxmoal', 'pantofel', 'pin23928835', 'httptcodthneezupe', 'pictwittercompnpizody', 'httptcomo7dbbdfvr', 'httptco0scnwe8xbv', 'httptcou3wao8asfg', 'httptcohc6hzs4wsi', 'elreynetwork', 'httptcoox6ouw3yut', 'httpstcoyxnagsqvbm', 'fineme', 'momdies', 'httptcootblb9pj2i', 'kelworldpeace', 'taxstone', 'sbnation', 'httptcoxyi5fdacxo', 'httptcosjtvzggcxu', '100nd', 'httptcohtqvf44uqs', 'httptcopvxelxcjeu', 'tadhgtgmtel', 'httptcoucudwiu3an', 'pin2327564d', 'httptcot1mbw0ia3o', 'httptcoclfa0py5lm', 'shocking\\x89ûï', 'benstracy', 'we\\x89ûªll', 'portgassdk', 'erinmariefishy', 'flamesnation', 'httptcop1wmkxa9d8', 'awickedassassin', 'selmoooooo', 'edvinnn', 'imtariik', 'dzaficharis', 'selmo', 'rubybot', 'thh', 'httptcoulxf6dq3ns', 'aisumage', 'akumareisu', 'soloquiero', 'firefighte', 'httptcolkjfabqzb3', 'cwhoops', 'httptcoatcmrjzjtp', 'httpstcoaomq1rykmj', 'pwhvgwax', 'cartoonylike', 'httpstco4zmcqrmois', 'muaytai', 'wantmyabsback', 'httptcoqfrawln4ba', 'httpstco9jcibenckz', 'hiroshima70000', 'httpstcobhufevagpu', 'drumpf', '\\x89ûïnobody', '\\x89û÷ill', 'ahuh', 'say\\x89û\\x9d', 'grabakahitman', 'izigarcia', 'machidadid', 'fightnope', 'floored4', 'drink\\x89û', 'httpstcor5stv25zhq', 'httptco67tjn9egyk', 'httpstcokw3vq4nijq', 'preston\\x89ûªs', 'httptcopdkhbdg9ho', 'iamhorsefly', 'mbiwa', 'jimmozel', 'puckflattened', 'httpstco5hljucxi0s', 'kainyusanagi', 'grummz', 'pixelcanuck', 'seanpeconi', 'jasonfloyd', 'lynchonsports', 'criscyborg', 'tweetinglew', 'tersestuff', 'twilightfairy', 'robertcalifornia', 'thereisonlysex', 'httptcorjebpib5rz', 'httptcow00kjprfdr', 'httptcomixl1pfrje', 'bigburgerboi55', 'satanaofhell', 'httptcowrnpywyalj', 'httptcoqv7iydovx9', 'httptco4ry6zhcpoq', 'httptcoxxkhjysn0p', 'httptcojevhknjgbx', 'httptcojcdd6sd6qn', 'httptco9guckjghms', 'bigåêconsequences', 'httpstcocvpdvhxd1r', 'httptcofdmxp4fcmo', 'httptcovmkexjtyg4', 'httptcovdefmulx43', 'httptcoyqpaijsa5g', 'creationmin', 'rwrabbit', 'gooneratheist', 'atheistic1', 'lolatjesus', 'robertbenglunds', 'httptcomtmoia0oo0', 'httptconn4ztcmsru', 'atlarnxx', 'httptcoxwn7rgvkzc', 'httptcoswpdq84boi', 'httptcoapwxs5mm44', 'httptcods76lozlsu', 'hellotybeeren', 'httptcoed32pbvio7', 'httptcoifm6v6480p', '85v265v', 'httptconjvpxzmj5v', 'httptcoijd7wzv5t9', 'iembothfo', 'httptcogg0dzsvbz7', 'httptcokbe91arcdw', 'httptcod3p88xdlec', 'httptcoj2ddvh7fy0', 'httptcoo1smuh2unn', 'httptcoxqj6wgiuqh', 'intertissue', 'guabxfv', 'httptcouzsqzycb8x', 'httptco62oddekvli', 'httptco1qt51r5h98', 'httptcooqh1jbuenl', 'alwx', 'httptcogtqmgsgcsb', 'grantfactory', 'httptcoth2wlilbmo', 'httptco5xmce6jufs', 'httptco3zo7px3p1v', 'httptcoo097vsotxk', 'httptcoi23xy7iejj', 'httptcofdsaooiskj', 'httptco2uvmq4vafq', '428pm', 'httptcod02sbm0ojs', 'wxky', 'httptco6zcfhi7srw', 'httptcovwykdau1vm', 'httptcoxsr2vujyiz', 'httptconosvu0zx4x', 'httptco5mjzjnkpfn', '710pm', '800pm', 'httptcosemw5cq7dg', 'httptcomjmwa72er6', 'httptcoadx9iyi246', 'monday\\x89ûªs', 'while\\x89û', 'httptco8j19fvu7qa', 'httptcoxlq8g6vb2r', 'httptco5pmikavykl', 'warlordqueen', 'httptcouahicwpih4', '1130a', 'showersstorms', 'areasminor', 'hunwx', 'httptcoe3l1jqjh2u', 'homeimprovement', 'httptcokx8cu4s8t1', 'httptcowveo9ed10e', 'adorableappple', 'ten4', 'httptco9mj8ouj3vt', 'httptcokkoovbkndp', 'httptco8fvqrizoux', 'ukfloods', 'httptconsfzkfgznj', 'slopeofhope', 'httptcoqcyxwr2rdv', 'httptcotdaktglu5p', 'proudgreenhome', 'httptcokavaovjz2v', 'httptcoxjkrxrnwnv', 'httptcojlwgshyy3n', 'httptco9z9hsmiavd', 'ndetention', 'wunscreened', 'httptcob4k0r4gga8', 'dcclothesline', 'netkicorp', 'httpstcoeltne5v1qn', 'valleywx', 'themaine', '\\x89ûïbbcengland', 'httptcoq4kgftc2am', 'httptco6w6a2l4qae\\x89û\\x9d', 'httptcohvxu1zcvau', 'httptcoijmccmhh5g', 'crabbycale', 'ny1burst', 'httptcow7siidujoh', 'httptcopijg5w2l2u', 'ocnj', 'httptcojzprciqa9d', 'kwislo', 'httptcor7vpaklhvi', 'joined\\x89û', 'httptcoeo2f96wxpz', 'httptcoicfql7i9op', 'lakh\\x89û', 'thankkk', 'notificationsu', 'parsholics', 'awesomelove', 'frvrgrateful', 'wtony', 'sonoranrattler', 'writingtips', 'httptcoslttorrlhs', 'landsli', 'httptco9tg7a5oqfp', '119000', 'httptcoeu8jypizsd', 'ictyosaur', 'madonnamking', 'cyberdemon531', 'httptcojrgj17oamt', 'heared', 'httptcocwhslmb8x9', 'httptcobozlwr716z', 'httptcojods9a32pi', 'httptconjmidysxof', 'abc7chicago', 'casewrites', 'httptcoocojppnrh1', 'contactenergy', 'speccy', 'httptcownamtxlfmt', 'httptco6coidv11qv', 'portaloos', 'n15b', 'httptcolqgoe7psxp', '712am', '40hourfamine', 'httptcoxqdvghz8g6', 'httptcoaw23wxtyjb', 'httptcoabgct9vfua', 'httptcohszjafxrvi', 'httptco0jfnvaxfph', 'sumn', '250000', 'httptcolxjjgyv86a', 'httpstcou9x3perxco', 'philippines\\x89û', 'httptco8rdxcfgqem', 'httptcoa2myutpdiq', '05082015', 'httptcoxrskt0s9lz', 'gtas', 'gtservers', 'gtmaintenance', 'e112', 'particulatebreak', 'vocpetroleum', 'httptcobcjylerryx', 'httptcoaprensss3x', 'httptcod7zxz42qw1', 'ashenforest', 'floorburnt', 'httptcofymp4i2wp5', 'hornybigbadwolf', 'httptcojk7npdpwro', 'httptcoyqg5pvw5gx', 'httptco3stfmn26r9', 'httptcodao9azeucr', '515p', 'tmake', 'bhome', 'ybtheprophet', 'realhiphop', 'httpstcozpsnx5iyaj', 'httptco8nadrgr4xc', 'httptcorgyuakc0dr', 'naturaldisasters', 'httptcotqwrw3jqwo', 'gilmanrocks7', 'httptcodfyrppzkpu', 'httptcoiwsdbgd1zq', 'nycdivorcelaw', 'alska', 'seeweed', 'caribean', 'gt50', 'httptcosrslcxhc2t', 'qave', 'knowlddge', 'httptcod62zfzy0mi', 'httptcotft1bb4xaz', 'httptcoutumvaabz6', 'rstormcoming', 'httptco4zn0mdsrvp', 'forestfires', 'httptcoawxr24zsqh', 'httptcoo9a26fn27y', 'httpstcowtggqs5geh', 'httptcorbzomwgjee', 'bcpoli', 'canpoli', 'vanpoli', 'httpstcoxuhmj098lq', 'httptco6o1mgmghgt', 'httptcowtpo6elrzd', 'httptcofwup9yurzy', 'heartdisease', 'httptcokzfigkeeva', 'httptcok0qtl8aodh', 'httptcozqbxe7x9y7', 'httptco1hlvrkwgip', 'httptcootfw5sekd7', 'inciweb', '8515', 'httptcolkwxu8qv7n', 'abbyairshow', 'httptcovxjcx8ukmd', 'simpson\\x89û', 'httptcouyyyrkd6q3', 'straightfire', 'httptcolswsitnkuk', 'b1g', 'bmurph1019', 'hailyoutsey', 'termn8r13', 'goblue', 'wrestleon', 'httptcooaskgki6qj', 'szuter', 'httptco9e2f7bivle', 'tremblayeh', 'sirmixalot', 'lzk', 'httptcoauxsmdg1un', 'httptcoigyu2peiu3', 'httptcotim8x9bi0f', 'chojo', 'wxii', 'heyseto', 'httptcoblppzaiboe', 'httptcokigy7m6bgj', 'kmactwn', 'meaganerd', 'httptcoidqcfjycym', 'fahlowcw', 'queenåê', 'httptcoolpbmy9xw9', 'httptcoon18cqgcoa', 'modnao23', 'fazerain', 'httptco1epiyenqyl', 'hailzel', 'httpstcob7omj7u3ei', 'hailyycstorm', 'heyitsepark', 'flow397', 'parkchat', 'httptcovbffodtp6m', 'httptcoqo3vwfelkp', 'lt75', 'httptcod9xvuvp9s6', 'httptcogzmoblsjxu', 'httptco5cgtqfk2ur', 'httpstco2be7bwcmpl', 'darkndtatted', 'httptcolrx0sdsnhm', 'postering', 'calgaryfringe', 'mothernature', 'yycfringe', 'killhard', 'haleywhaley', '375000', 'ofclans', 'httptcorgoguyt0lf', 'autobody', 'peterhowenecn', '630830', 'httptcomiusvpxqte', 'hailthe', 'httptcoqbdryxsglc', 'httptcovzod7qfflv', 'adriasimon', 'round2', 'httptcofqqi8gvlq4', 'httptcosxwjyr3k3l', 'httptcoaewglvqreh', 'crazyweather', 'httptcoxqbwnlbbiu', 'httptcojkym9edofc', 'httptcoerws6ieldg', 'httptcorzagdnwtah', 'httptcouqettagscu', 'httptcotmzxopvs94', 'httptcow192wkog1m', 'errrr', 'notgoingoutinthat', 'hellonwheelsamc', 'howfans', 'talkinghell', 'httptco9giaxd6jty', 'httptco2wbivkzjip', 'haildamage', 'yycweather', 'captureyyc', 'sto\\x89û', 'httptcokestuuyc4t', 'httptcopzfbb1p1mj', 'httptcozct5cchoj0', 'xpost', 'rcityporn', '4608ìñ2474', 'httptco8e6xuhrbkh', 'httptcoqo190n8udd', 'httptco5u5gakx2ch', 'httptcosky9eokggb', 'httptco5iyzsda6xb', 'carlilescanoelivery', 'lovemyjob', 'httptcozo8rsqura2', 'cowx', 'httptcoxk9owgv1o5', 'councilscc', 'hailstorm\\x89û', 'httpstcomj8rezoxlj', 'httptcozagbmlsf4h', 'httptcohvyxehxbmq', 'iamdowntown', 'httptcohbhx0dwkpc', 'httptcohlyhdfwsqb', 'httptcogwsnbmmcqf', 'httptco1fhrrhcimh', 'hail\\x89û', 'httptcoft7orfa52y', 'httptcodv4mmlso1i', 'httptcovgf41iupkn', 'httptcotdwprvb04y', 'tareksocal', 'httptcoccdx7cglqw', 'leedsrouge', 'httptcodlizfkk30y', 'audaciousspunk', 'dumbass', 'httpstcodxwfx56pwh', 'dinallyhot', 'isisi', 'liferebooting', 'httptcorqlpsaye3b', 'qzloremft', 'meampbeat', 'otratmetlife', 'httptcoid667rlets', 'parentsacrossam', 'billgates', '\\x89ûïfor', 'you\\x89û\\x9d', '\\x89ûïplans', 'httptcocirtvml9vp', 'laurenmiller7', 'angelstar39', 'vilelunar', 'trickshot', 'httptcob9zx2xz6aw', 'httpstcovgzgok5k3s', 'gards', 'reblogged', 'wowsavannah', 'httptcok14q8chwkp', '5hvzlaradio', 'wwexdreamer', 'malistkiss', 'news4buffalo', 'spacewolverine', 'tastemycupcakee', 'lmfaooo', 'nawh', 'rjg0789', 'idki', 'sterotypical', 'annddd', 'httptco0w12pwpsfx', 'plannedparenthood', 'httptcoeqdm2opybg', 'classycolkett', 'thorgan', '\\x89û÷it', 'sick\\x89ûª', '\\x89û÷hazard\\x89ûª', 'httptco0xrfvidxa2', 'httptcooihwgezdck', 'longbreastyat', 'httptconjlqrqcnl9', 'httptcoipfzwwnxxp', 'chaboyyhd', 'httptcoyr67ugesrm', 'phiddleface', 'httptcodilyvrowyj', 'hazarddi', 'hopfer', 'deglin', 'vallerand', 'httptcoiufs7uv1hk', 'httptcoafrhnlly8d', 'httpstcorbbnjkoqud', 'bolasie', 'httpstco7ct01neptl', 'thatpersianguy', 'youngsafe', 'dannyraynard', 'berahino', 'httptcoxgkyvf9t4f', 'bellerin', 'hazard\\x89û', 'httptcoecmj18azai', '9503', '20177707d', 'httptcokvnahthuwz', 'httptcoy8xknpqmnj', 'mipasho', 'httptcolxvlqvbc8r', 'httpstcoxzvmzqus0x', 'deaddreamer15', 'thatd', 'httptco0pamznyyuw', 'tomdean86', 'hazardwillian', '862015132', 'httptcoitzzkwfhg5', 'httpstcoju8nfpnedl', 'sthing', 'hazarddangerous', 'httptcopfsryjs1pc', 'httptcoskdbot7tgf', 'hazardu', '862015108', 'wrightsboro', 'httptcodduxthvvnr', 'wholeteam3', 'wholesaleent', 'httpstcojwnxh9q5ov', 'hillymountain', 'httptcowozubxri2p', 'httptcofucoqhclad', 'httptco7aze4iogme', 'httptcou9fcb8dz3h', 'igmpj', 'httptcojw6fnnssxt', 'httptco4zaztb19qe', 'httptco92pk0hujd8', 'httptcomicjnpuhg0', 'httptcovddi5chktp', 'httpstcodlvzaay7qr', '0913', 'httptcoed1vpitswy', 'httptco6xsbddlziy', 'httptco4e719w6m4v', 'hearitfrompa', 'httptcoggn39m60tl', 'hearitfrompatty', 'theblackshag', 'dannyoneil', 'toxiccancerdiseasehazardous', 'wastenoxious', 'httptco3x6rbqjhn3', 'httpstcobjzssw4tid', 'joshlado', 'httptcorodpt33xfm', 'eversafe', 'rushhour', 'jumperca\\x89û', 'httptco0bvk5tub4j', 'httptcotglk2uus2z', 'pp15000266858', 'httptcopaqanences', 'httptco9xo9mkqqsi', 'httptcobp03eafewr', 'httptcoa0ad8z5vsr', 'httptcoltma9xqxpx', 'startelegram', 'httptcok9airfq3ql', 'httptcojdbtlymehy', 'rawfoodbliss', 'lawx', 'httptcou0sykowvwv', 'httptco4wsva9wo0f', 'apocalpytic', 'httptcoy8wloctevc', 'httptcoirpssresrq', 'heebsterrr', 'waseembadami', 'httptcoitg84q7vii', 'httptcobdotq8dsln', 'creationsbykole', 'irelandwe', 'todaythat', 'hollywarnexx', 'apaz', 'ltpgtan', 'states\\x89û', 'httptcoyhaqa5wxok', 'httptcotk65ske0zm', 'klarajoelsson', 'revitup', 'pizzarev', 'httptcobp8bm8xsxw', 'httptcoih0awv3l1o', 'httptcoxxoupfy8nq', 'httptcoa3bjabhqhe', 'wfaaweather', '7amdollela', '3la', 'kulli', '7aal', 'thoughwill', 'nbc10', 'rachelcaine', 'weatherit', 'httptcowmdihdiz1r', 'palinfoen', 'internallydisplaced', 'httptcojw3hn9ewft', 'presstv', 'httptconywrkrq7kn', 'nars\\x89ûª', '\\x89û÷heat', 'wave\\x89ûª', 'emilyschuman', 'httptco4egh1g1jk7', 'httptcos4srgrmqcz', 'startide', 'kristenkoin6', 'pdxabq', 'bcuz', 'httptcoxc96rwuszb', 'httptcoxm9stfzcpv', '\\x89û÷05', 'youheat', '5\\x89ûª', 'deejayempiresound', 'httpstcorqiuqxnm2x', 'httptcotgtcru8jio', 'httptcoytkxwpyihg', 'plez', 'deedeecasey', 'silentmind', 'bookofdaniel', 'httpstcofkqjy3ezyg', 'jyheffect', 'hellfireev', 'jackperu1', 'httptcoreuosjek4m', 'ggkeeponrockin', 'strawberrysoryu', 'zakuun', 'httptcox1onv3d5ux', 'httptco2ii3brc7nx', 'mechamacgyver', 'fadc', 'usarmy', 'jagm', 'httptco2mnqc73hfk', 'httptcocomlg0vdbv', 'httptco86rsyy2tng', 'dreamoforgonon', 'teeess', 'cislady', 'gaybi', 'httptcosbgirvqvzb', 'httptcof7ogzrnpfv', '14yearold', 'httptconb1e7mnce5', 'httptco5ytiex55lh', 'donjazzy', 'policeng', 'humanrights', 'httpstcoxyfl8wy62g', 'httptcolrtu8rwn2f', 'httptcoepabinczmj', 'httptco1sgzgtgfw9', 'expresident', 'httptcohashgqafic', 'mockingpanems', 'cuddlesforjen', 'httptcorjac5sitep', 'httptcoplqf1biks4', 'httptcoffkcj8pfj2', 'music212', 'bayelsaåêstate', 'httptcovh8qtbypzt', 'httptconzrwddlntp', 'httptco2hocep41kh', 'mcgsecure', 'httptco53p4ooo1xn', 'entension', 'apcåêpdp', 'httptcow1ufeibala', 'httptcobiulqprxke', 'welshninja87', 'vuln', 'httpstcooxxrnab8un', 'httptcob2yvlmpepr', 'httptcoqxxn6rksp6', 'httptcob3x1wqzaor', 'httptcojejc9xctmp', 'httptco3ejl9lzlch', 'rickybonessxm', 'httptconipzmflibd', 'httptcortfirzcpoc', 'jasoncundy05', 'pedro20', 'httptcojwfiilj8wr', 'liveleakfun', 'httptcoionwarvrfy', 'httptcohdahlgrprl', 'httptcoz1s3t77p3l', 'httptcoglwoakppjq', 'httptcowllflfndgg', 'httptcovbqmz5apwj', 'httptcoc2eyjnybfn', 'httptcogt7gf0fsex', 'httptcogpcecp9khv', 'httptcoxxj2b4jxrt', 'httptco9gtylgxroe', 'httptcoyg6rj86bki', 'hijackerturnedsattutor', 'httptcocsxvwxuz6t', 'httptcodzlpnp399x', 'httptcolikwqhshhx', 'httptcohmrt98oydj', 'httptcojab541hhk0', 'httptcoje6zjwh5ub', 'httptcofdxgmiwaeh', 'httptcol4wjhz4aj6', 'httptcokmgdv7vsaz', 'httptcobytsfms7md', 'httptcou4bdy1w7d4', 'httptcohrsfa8zuji', 'browseråêhijacker', 'httptcovlnjnolnme', 'httptcoif5rogfjri', 'httptco9cntp3nq6o', 'httptcoqdf6asaelm', 'httptco2ns5tfnxpa', 'httptcow2kvscbtlp', 'httptcotn8o00nrlp', 'httptco9jxb3rx8mf', 'httptcob5s5epj7um', 'httptcohpa9gqrywa', 'htarvrgly', 'httptcosww0qsmxvm', 'httptcobcdp4gkoka', 'httptcokpivxgjnqt', 'httptcotam6aoskoj', 'httptcoel24mnfchw', '\\x89û÷hijacker', 'cops\\x89ûª', 'httptco9i5cczd5s0', 'httptcoweatrrihe1', 'httptco7npbfrzejl', 'httptcoy0kbyy8nce', 'httptcon71hmvervv', 'httptcoyfppifdkqo', 'httptcoajyulmftif', 'httptcofz8ytwqkwv', 'mauds99', 'jagexsupport', 'httpstcoush59uq30j', 'jagexhelpdibi', 'demco', '8550013', '21k', 'httptcohrdwgfbfyq', 'httptconuohkmpzfj', 'dyxtmrydu', 'httptco7ieiz619h0', 'httptcotfeanwhh2h', 'httptcosjicbhzfo4', 'httptcotaxuxp9qa2', 'httptcocbps1gskvo', 'ladyfleur', 'cafì©', 'whashtag', 'httptcogujnpljvvt', 'httptcoj2aqs5loxu', 'httptcos4pnihjqx7', 'httptcocx6aupnemu', 'pletch\\x89ûªs', 'httptcob9jaxx0vcf', 'httptcowvtpuryx63', 'httptcoj5onxfwlao', 'httptcoeyugk6byxr', 'httptconqiobczkrt', 'httptcoaatt5amnmd', 'saferåê', 'httptcoihinj3enqi', 'ampmdash', 'bronville', 'httptco6jjvcdn4ti', 'httptcoqj3pvgavn7', 'httptco6aqrnankfd', 'httptco8jcyxhq1az', 'httptcogexhzu1vk8', 'httptcomis0rjxuir', 'gameshttpstcoapksnplxzj', 'vosloorus', 'bkb066gp', 'httptcoodmp01eyzu', 'drsarwatzaib070', 'mcourt', 'httptcog62txymzbv', 'oneman', 'httptcocomuiok3mp', 'httptcoxv3d9bpjhi', 'httptcojmawrlt7hb', 'httptcov5yuualoqw', '263chat', 'twimbos', 'zimpapersviews', 'httptcolk5uqkop1e', 'httptcojst5hauk35', 'flavorchargedtea', 'httptcoumgd92wlja', 'httptcogtxndnjrrl', '\\x89û÷ransomware\\x89ûª', 'man\\x89ûªs', 'other\\x89û', 'httptcoaqbljcomln', '\\x89û÷muslim', 'women\\x89ûª', 'aren\\x89ûªt', 'httptco48zg5ynebn', 'heregtcnn', 'httptcoswvuzxi6gt', 'httptcowiqjeruktf', 'susanj357', 'allinwithchris', 'httptconzifztcugl', 'httptcowk6b5z803o', 'evahanderek', 'marleyknysh', 'httptcoxcq48ourvl', 'httptcovdgfxyx3bw', 'httptcoeioqjwgeix', 'trinna', 'mylittlepwnies3', 'earlymay', 'anathemazhiv', 'tonysandos', 'tlvfaces', 'tlvfacesauspol', 'httptcoa6ppegelox', '53\\x89û', 'httptconcjlxzfwaa', 'gideonstrumpet', 'httptcovt2aky5mgk', 'who\\x89û', 'httptcoex4fnjjl6h', 'httptcowpgvayfkbq', 'httptco6ioabsl6i7', 'hannahkauthor', 'freeamirnow', 'freeallfour', 'httptcogwnlhneku9', 'httptcojkd7cti2iw', 'httptcolajn2n5e2d', 'quottelevision', 'quotoperations', 'since3g', 'superv', 'overåêhostages', 'httptcocarvv6gsrb', 'httptcolan76zqkxg', 'httptcozlco4ue5oq', 'httptcow0exzad5gc', 'lhmovie', 'indiefilm', 'httpstco2dw23pmf4b', 'httptcoks7ln8hq8s', 'httptcotni92fea3u', 'httptcoczbamzq3gl', 'deosl86', 'xaviermarquis', 'httptco5xrc0a76vd', 'httptcoexil1bkzmp', 'httptcoehomn68ojb', 'texansdc', 'kylekrenek', 'zepp1978', 'frobeusns', 'httptcoq4q8xsyzob', 'submitt', 'httptconbugsmqlrg', 'aviationaddicts', 'httptcofqwtsxlkrz', 'httptcozy3hpdjnwg', 'httptcojhoahpbpq4', 'httptcomiubkz77m6', 'banditregina', 'httptcobjjoifzuhl', 'httptcoiywzallsn4', '\\x89û÷leaves', 'iran\\x89ûª', 'httptcoexsqijf4ny', 'noirandeal', 'tedcruz2016', 'httptcoy7sipkb1kd', 'httptcokctigymahl', 'httptcok9fbtccu58', 'httptcoxyj0rpsai2', 'httptcobaqocmcjqc', 'httptcoflqxd3q5py', 'httptcoonvd9d4nkg', 'contd', '40pg', 'movt', 'nervana1', 'zaynmaiikist', 'httptcorjopjkbydr', 'httptconufdgw9yev', 'httptco2okscwyohc', 'eggalie', 'httptcout7r2ixrjq', 'httptcov3z96ydmvd', 'httptcokxslftz2i5', 'guyreginald', 'hurricanedame', 'httptcowwfqgcqyii', 'httptcogscswyuupa', 'lavapixcom', 'chubbysquirrel', 'hurricanesurge', 'gt33333', 'shanaynay', 'shootas', '30stm', 'lembra', 'httpstcosbzwruwufh', 'byr', 'httptcoi7eskymoec', 'httptcogtycqyfuam', 'httptcoqwd5pvgjbo', 'httpstcobftou2nybw', 'freegeezy17', 'httptcojrztpt8ijq', 'mixxtail', 'brittsand9', 'httptcoweudlkc4o4', 'httptcotrl1dskf81', 'vinustrip', 'hurricanetyphoon', 'ratingscategories', 'httptcoodydt9qpk1', 'angelriveralib\\x89û', 'httptcojaawuiovdc', 'hwrf', 'httptcocnkvile7be', 'turdnado', 'forgeting', 'httptcoaurugjegiq', 'httptcol3w8mipvnt', 'httptcoo85m1bjfrw', 'httptcojans3fd4lf', 'httptco2sdmichb2z', 'httptcox8w7tf6fhg', 'httptco9nz9zfm93i', 'httptcoscefpfvaeu', 'httptco1o0j9fcpbi', 'updateme', 'jeffersonampdoris', 'sherfield72', 'httptcol6nslzl7mi', 'httptcowoc6akehyx', 'httpstcoxyiwr9jetl', 'urogyn', 'httptconpoqlkqup9', 'meshnewsdesk', 'httptcoe8aegofdy2', 'httptcolxmdiseucn', 'injured\\x89û', 'httptcoptq3zmgnck', 'yeat', 'wakeupflorida', 'killedinjured', 'trophyhunt', 'httpstcoj5in8mexaj', 'rvacchianonydn', 'chikislizeth08', 'war\\x89û', 'httptcop3o71dz992', 'httptcogeeknwjjsz', 'httptcoqr3ypekfoe', 'httptcozmwecbwvao', 'httptcojyiegtnc6h', 'michaelgbaron', 'httptcofphfesemyj', 'httptcogl3c1vc88p', '8392', 'supporthealthhomebathroomsupportelderlyinjureds\\x89û', 'httptcovihdoksccc', 'httptcovjxa13n8ap', 'shootoutåê', 'httptcopuxbc2loyk', 'christiec733', 'httptcoaxxdcakzty', 'httptcol53oabeqc9', 'httptcoq3izqdk1n0', 'thehammers', 'tonycottee1986', 'alsowhat', 'injuredthen', 'themhe', 'httptcocekbxjmpbj', 'speculatio', 'httptcodcyyjvmxhr', 'httptcoeqccrtlnbd', 'wearethenews', 'welles7', 'httptcocwm0ulqu3e', 'ironmanå¨', 'httptcoejymkzpeex', 'httptco0iyuntxduv', 'tayiorrmade', 'megatronafc', 'calum36chambers', 'gpaulista5', 'jackwilsheres', 'upah', 'httptconjqv45nds2', 'jamienye', 'httptcoiyjejop2wi', 'likeavillasboas', 'richchandler', 'nalathekoala', 'sequalae', 'nj36', '516leonardville', 'httptco2xwihy2wsg', 'fkhanage', 'httptcoi4fz75utnh', 'imsushickoflove', 'alekalicante', 'buffoonmike', 'disabledveterans', 'thepartyofmeanness', 'httptcogztolll5wo\\x89û', 'httpstcotuzacdwfqd', 'httptcokkimmbue04', 'dallascowboys', 'httptcog0dn1chluo', 'fosterfloyd', 'httpstcozrzejpef5j', 'httptco8ddijzynkf', 'httptco52uus4tfn3', 'judson1360', 'xtra1360', 'urg', 'httptcoe5cns6ufpa', 'httptcof1r5isbvks', 'nflexpertpicks', 'httptcoudtgwfsc3p', 'httptcov5wsx0lqn2', 'joboozoso', 'usatodaynfl', 'httptcodgkmueoaxz', 'recordand', 'helparsenal', 'nepdloyko', 'sergiopiaggio', 'wasn\\x89ûªt', 'it\\x89û\\x9d', 'httptcodmtzmgyrik', 'law\\x89ûónegligence', 'httptcod5w2zynp7b', 'usmnt', 'httptcozj3odgqhyp', 'httptcovzhtibe4jh', 'iccrealckt', 'sundaydont', 'isinjury', 'httptcoeujgu1hvvx', 'exums', 'hopedfor', 'httptco8pifutrb5u', 'adamrubinespn', 'httptcoyhh7x0maio', 'httptcoim2hdsklq5', 'barkevious', 'httptcod7m9kgmpji', 'patriciatraina', 'practicenyg', 'follownflnews', 'httptco5dujgypima', 'httptcojwq4kvjh2j', 'titadom', 'httptcotdeqwm8zxn', 'sporten', 'httptcorkb7egkveb', 'jjdirty', 'mlstransfers', 'greggmair', 'nycfc', 'httptco7adqv1grvr', 'httptcohxvihdushp', 'dantmatrafajlo', 'httptco12giqbvlys', 'httptcovz19vvgmnv', 'wheelsio', 'hawkhis', 'beltmr', 'httptcoz16dtoqhhg', 'httptcoigm2fcmupm', 'httptcouxcfbj3mzx', 'lennlen', 'ddnt', 'reigncoco', 'seattledot', 'seattletimes', 'fionagilbert', 'httptcoigm2fc4t0m', 'httptcoyiltu7sxar', 'vzwsupport', 'assassinkpg', 'friendshipyou', 'bentossell', 'producthunt', 'yahoocare', 'httpstcoczdw8oowa2', 'commentes', 'httpstcoqwiihnmchr', 'tms7', 'mistresspip', 'allyinwondrland', 'sophieingle01', 'angharadjames16', 'bangladeshaffected', 'watersland', 'bangladeshflood', 'tonymcguinness', 'bcfcticketlady', 'mraamirjavaid', 'greyjoys', 'coun\\x89û', 'teahivetweets', 'pornhub', 'httptcogghfx8pzmh', 'hronlinetweets', 'httptcohexpc77otn', 'ledofficial1', 'micountryhick', 'httptcos0ctcqjvjx', 'bilsko', 'humofthecity', 'legna989', 'megalpolis', 'zachlowenba', 'httptcojzwrwlvlsj', 'httptcoot3bjjhh8s', 'httptcovulrclw7bd', 'inundation\\x89û', 'httpstcou8hsrtrxmm', 'kathrynschulz', 'httpstcotuai0zwgxu', 'kemalatlay', 'avalanchesgtgthttpstcoxrrlnhelap', 'hoodedu', 'berlatsky', 'q99', 'bullets\\x89û', 'httptcosxmlg3xdvx', 'httptcoxy41z0o5ei', 'httptcol0deocxu6o', 'toddstarnes', '1130bst', 'a10gtparis', 'a2gthanover', 'httptcoyoi9tocxiq', 'httptcorfb3jxbiej', '60second', 'knowitall', 'httptco2xohtjqjwh', 'awadgolf', 'httptcobccca4vy9r', 'freebesieged', 'waferthin', 'g\\x89û', 'httptco2q3fuerey5', 'httptco7pqs4rshhb', '89x', 'httptcoy7rv0til1w', 'garbanzobean23', 'httptcog7k9tqvqbk', 'crowtherjohn', 'effiedeans', 'wiwnpfxa', 'httptcoxysnxum29t', 'since1970the', 'cadusd', 'b4federal', 'wlandslide', 'httptcowgqkxmby3b', 'flashflood', '365disasters', 'httptco911f3ixrh0', 'httptco42mawzb8t9', 'httpstconqnwktrhsa', 'httpstcosjkgjxff2r', 'ronwyden', 'reqd', 'ohhsehuns', 'httpstcorcvdrwowvo', 'heavyåêrain', 'httptcoq3xq8r658r', 'morningjoe', 'reince', 'presssec', 'httptcocyv2zg935g', 'httpstcosz2rvwpwhj', 'httpstcolajx578dru', 'httptcog4schqfest', 'jamilazzaini', 'alifaditha', 'kidsthesedays', 'eleskaylee', 'jannellix0', 'httptconxttd9nrux', 'httptcoirqj3zkcuz', 'dragonvale', 'httptcoqgum9xheos', 'lamphttptco724gq5ebqz', 'httptcoh01j9pirie', 'httptcoaez3ak1lrn', 'dieanpink95', 'yunita99', 'skippy6gaming', 'httptcomxhrextrkh', 'httpstco4i0rkcbk1d', 'httptcous0qqqhqvj', 'dserialpcilp', '16550', 'e\\x89û', 'httptcol0b14sj7jb', 'httptcocllwud4wsu', 'httptcoto9viqoofv', 'cunayyh', 'taufikcj', '8415', 'httptco17egmlni80', 'httptcoakq4rwjfvl', 'httptcouooygbb6az', 'piece\\x89û', 'httptcojjxcnwbp15', 'amumumux', 'mirmanda11', 'evaaasr', 'shakeology', 'httpstcoapod4eivba', 'httptcoctijdpxabk', 'httptco2wvmij5sa4', 'httpstcoz4jyharrew', 'httptcohcwrk81p71', 'httptcobytbz8s5ux', 'ip\\x89û', 'httptcoo3wvsclicx', 'randomtourist', 'jackholes', 'httptcojyxafd4knk', 'httptcotezltqeyw2', 'icaseit', 'httptcob32jmvsb1e', 'httptcoxkmijgy59t', 'httptcod4c2iqirnu', 'wolforth', 'twoout', 'benjidevos', 'httptcojmu5uyamdu', 'vancouveråêisland', 'httptcovdiliicyr5', 'httptcoz5cfrwado6', 'httptcobzdfznkvog', 'httptcoerhdh37rdh', 'httptcoidasyjybro', 'httptcogdoaolpq91', 'dantwitty52', 'httptcogrzchkdf37', 'lightningooc', 'lightningwolf', 'httptcoioq051t5te', 'httptcoklxaucnp5i', 'httptcor4kheh7iaf', 'httptcoqszgjfuutu', 'httptcowwxcob52zi', 'httptcoaog5chjmvs', 'httptcocln2sxzy1z', 'httptcol1gh8064yv', 'scichat', '\\x89û÷em', 'kabwandi', 'tkyonly1fmk', 'actionmoviestaughtus', 'laylovetournay', 'ryrotheunaware', 'ercjmnea', 'chibi877', 'kotolily', 'tarmineta3', 'shawie17shawie', 'httptcounij1rvrrq', 'bruv', 'tianta', 'me\\x89ûturns', 'auspol', 'nikoniko12022', 'swtrains', 'jrowah', 'kmatakobot', 'kijimamatako', 'matako3', 'morningampi', 'tellyampi', 'bangampmy', 'dadwho', 'legwalked', 'ykelquiban', 'toxicsavior', 'daviesmutia', 'bangmeupguk', 'artbrut', 'cafetiere', 'matakomilk', 'colnharun', 'nagaski', 'tanstaafl23', 'coldmpress', 'httpstcoqadrkejz9t', 'doctordryadma', 'owenrbroadhurst', 'juanmthompson', 'hist\\x89û', 'httptcoodws0waw9q', 'blowjob', 'd1ff3r3nt1sg00d', 'riceechrispies', 'tuicruises', 'aidade', 'httptco3a3fgzfmzh', 'httptcotmogti6fb4', 'atombomb', 'httptco14wh0pjj2c', 'httptcojbrk8zsry6', 'httptco37qpssnacv', 'httptcofhi4qbpwfh', 'fredolsencruise', 'flgovscott', 'httptcogv84wnhb7s', 'httptcoqzlpfhpwdo', 'yelllowheather', 'reshrimplevy', 'jakegint', 'montalbanony', 'billyhodge', 'httptco1rpchru72c', 'httpstcosb3rjqqzix', 'httptcojlu2j5qs8u', 'carlachamorros', 'palestinian\\x89û', 'httptcobxgnq57xvb', 'trillac', 'httptcogljbnsfgll', 'creelyou', 'dobut', 'gfzs', 'httpstcoqeopmcjbcz', 'theatershooting', 'defendantmass', 'crossexam', 'atljw', 'defendbutera', 'libertygeek83', 'httptcolej5onus9q', 'httpstco3kob7xbea0', 'movietheatre', 'scvsupremecourt', 'bettyfreedoms', 'abninfvet', 'httptco1lxnjvl8tr', 'theeconomist', 'victoriagittins', 'httptcoxpddwh5tem', 'neanderrebel', 'httpstco4cog0otiwn', 'telegraphworld', 'frautrapani', 'benignovito', 'libertybell1000', 'hillarymass', 'httptcox713omh6ai', 'httpstcoowpd7vcfs6', 'blairmcdougall', 'afk10', 'drjohanfranzen', 'orchs', 'cameronwate', 'httptco1fvootqnej', 'httptcoqzcut7bvkt', 'abc3340', 'alamodc', 'httpstcopmxlezjbrc', 'texaschainsawmassacre', 'httptco1wopsgbvvv', 'morbidmovies', 'animallogic', 'lotg', 'hateviolence', 'dviyer', 'colorlines', 'httptconlbltynv36', 'httptcobjrrqhhohl', 'httptcowuh1g2blp1', 'yazidishingalgenocide', 'ezidigenocide', 'httptco75vlsw85gi', 'httptcotxy3us2ejs', 'httptcoezbtg81trz', 'kabarmesir', 'badr58', 'rememberrabaa', 'eileenmfl', 'bestie', 'petitionno', 'httptcouilpg8i1ev', 'httptcom9pxto2kww', 'bloodbathtv', 'massacre4', 'httptcotipndempuz', 'httptcoqw8qk165sb', 'becarefulharry', 'httptcokurqlxfihl', 'freddiedeboer', 'thucydiplease', 'httptcof0wqlobooy', 'bromleythe', 'httptcothpbdpdj35', 'gigagil', 'moralityzionism', 'httptcomyhhthsli3', 'httpstcou4r8driuac', 'nataliealund', 'wkrn', 'martynwaites', 'oompahperiod', 'young\\x89û', 'httptconux5xfpv2d', 'spså¨', 'httptcot8uqm7imir', 'stuckinbooks', 'httptcojp3oy0ouxq', 'cvinchwaow', 'httptcolfw4iymsak', 'httptcoodv3rqs8ju', 'httptcoge0yd3mkav', 'httptco7mzycu2iho', 'httptcoscu9qzp6nq', 'mayhem114', 'httptcog6monvnpsu', 'httpstcohtpqvohtud', 'httptcofpyru5golh', 'ganseyman', 'rt4amention', 'httptcorpneaj6fod', 'httptcoq9lxo4qkji', 'httptcotq3j2qgtzq', 'httptcocq7jj6yjfz', 'httptcodadz5zfo1g', 'asburyparkpress', 'jmcwrites', 'pitchwars', 'httptco64xr9ltnoh', 'httptco6n6gcej9iy', 'httpstcopccwsgcyma', 'httptcoebbf1n7maj', 'akcsl', 'httptcoh31knuwzz5', 'httptcomnkaji2q1n', 'httptcoxehwmsh7lv', 'ltmeltdown', 'dubloadz', 'droppd', 'meelllttting', 'httptcovxsqpfe9na', 'chopras', 'httptcoethgagpy5g', 'drdrewhln', 'tinybaby', 'adultblackmale', 'mattytalks', 'mwednesday', 'kinkyconnors', 'httptcopbegof4740', 'httptcomcc76xowli', 'nashhmu', 'beccacaitlyn99', 'ep016', 'dnbheaven', '20150806', 'httptcoejkrf8n8a8', 'httptcosphwe6wfi5', 'httptcodgatkrdyny', 'seagull07', 'aleisstokes', 'intelligencebar', 'justintrudeau', 'crowdtappers', 'joinvroom', 'tangletalk', 'dmoneydemi', 'watchout', 'nprfreshair', 'meltdowni', 'commoditiesåêare', 'httptconjd1n5txxe', 'httptcohfqlwo1kmy', 'httptcolei9dwvllq', 'lemairelee', 'danharmon', 'httptcojpa6sajfe3', 'httptcoczwjw4uv7i', 'httptcoc0t7rvotkj', 'examinercom', 'warriorcord', 'paracord', 'milc5040h', 'httptcoeejrmktj0r', 'furtrix', 'xl6162', 'httptco74yfqxvak0', 'httptcokxrehvt6hl', 'httptcosbila2yqjq', 'ymcglaun', 'univsfoundation', 'httptcorwaph6dauv', 'httptcogetbjip5rh', 'httptcobla42rdt1o', 'httptcoeinsqs8tfq', 'kiranahmedd', 'httptcon6zflxigvr', 'm151a1', 'm416', 'httptco9rryaylgyy', 'httptconm83johluu', 'httpstco578gunp8t9', 'httptcopsbxl1hvu3', 'stfxuniversity', 'httptcol5awtundhm', 'httptcoxkmlq99sjy', 'httptcoa3rgqucugo', 'assertative', '2for1lapdances', 'httptcoyompxjpptv', 'hillaryclinton', 'httptcol0hhwb9lsz', 'httpstcovhmtytptgr', 'httptcon1tjct8hmc', 'httptcopytqm7rvp0', 'httptco1pulaekxcq', 'ririnsider', 'neanea2724', 'httptcoiapvtqxlht', 'httptcowamkre6ckd', 'httptcouz1yiz7n6m', 'httptcoijwar15h16', 'universityoflaw', 'httptcoeg1fskqbv6', 'httptcoobix79ncxn', 'tomclancy', 'cochisecollege', 'httptcoldx9ukngsk', 'httptcov0nf1uc1ow', 'httptco9q9rk3fof7', 'sputnikint', 'httptcog0q0bzbjli', 'httptcoexyr6c5qpu', 'militarydotcom', 'worseits', 'sterlingscott', 'httpstcoma4ra7atql', 'httptcocg579wldne', 'peterknox', 'gemmasterful', 'doretts', 'marcholl', 'nennicook', 'aitchkaycee', 'vixstuart', 'benjbeckwith', 'paulhollywood', 'httptco534q3jg2ov', 'sophiewisey', 'dorette', 'rabidmonkeys1', 'httptcozt5ofbiwtd', 'brobread', 'lollyknickers', 'vaginaorcake', 'hazelannmac', 'hatman', 'urufusanragu', 'newhart2010', 'httptcosbfglqjzfs', 'mariankeyes', 'httptcokgxnwziuxd', 'gbbo2015', 'nikistitz', 'httptco35jyap0ul9', 'doylech', 'httptcobgytmqj3oo', 'cali74142290', 'disasterhospital', 'httptcoq4gl3dvhu1', 'httptcoemrzicb004', 'twoptwips', 'httptcoavvsoino8z', 'httptcovoyruxcrin', 'httptcotb8gzembxu', 'httptcov2yxurne2p', 'roblox', 'httptcocwz37lndvk', 'unsensibly', 'connorfranta', 'askconnor', 'hazardsdisaster', 'booktubeathon', 'httptcojdx9ox2kik', 'httptcoqhtoerhdkm', 'httptcoo9dzgzqemf', 'httptcou2njpor39k', 'httptcofgvn2vcrrx', 'httptcokftvnu7nvf', 'httptcov6h97k688j', 'httptcotjw9bseipw', 'nonucleariran', 'badirandeal', 'jebbush', 'httptcoz7phpjtqud', 'disasteramp', 'httptcomacob5xlsu', 'httptco7y2gnva2ev', 'japanjapan', 'standardanonymous', 'httptcox5jgkjv6ma', 'jishine', 'minamisoma', 'httptcogam7otgisw', 'dalailama', 'httptcoe0lugbl6pb', 'irannucleardeal', 'httptcozsdvweglf5', 'httptcogvj7slbelp', 'httptcoftunlh6ddg', 'worldlets', 'damage\\x89û\\x9d', 'httptcoy3zfqjsvpz', 'httptcoumjprrwruu', 'drvox', 'agw', 'httptcoyrvgykdbm6', 'httptco7ufnxxavqs', 'httptcozisuwlqrhf', 'httptcopsi35au3pc', 'mailonline', 'whackamole', 'httptco6exs23muy3', 'httptcol9idherotj', 'httptcoikpngs3dti', 'httptcoljhgsdraez', '\\x89û÷nuclear', 'disasterrelated', 'deaths\\x89ûª', 'httptcojssmmlnaq7', 'httptcoow4gexynbh', 'annonymous', 'httptcoytnnnd631z', 'httpstcoghucazjsxb', 'err509', 'httptcohrc3oxquik', 'httptcownptvbm5t7', 'securedgt', 'httptcouhkxmxab9l', 'httptco74jppek6o7', 'httptcoqadufo8zxg', 'httptco5hkgxzjlmx', 'httptcov1mtr517ue', 'httptcoguvtizyche', 'defensenewscomus', 'subsd', 'httptcosy2whxt0k5', 'gwatt', 'httptcoleczolkmsv', 'httptcookamsczbwg', 't1000s', 'robertharding', 'repjohnkatko', 'uk\\x89ûªs', 'httptcoe9d9lk5fdw', 'nucleardeal', 'indojapan', 'reactorbased', 'httptcoxkurdr3yev', 'httptcoys3nmwwyvc', 'httptcoalpotnb7q3', 'httptcodbaujp29ub', 'reator', 'willieami', 'justthebottle', 'winechat', 'httptcoem5opytbpg', 'stunckle', 'gordonr74', 'crazydoctorlady', 'httptcofrkodestuk', 'httptcogpvzv0249y', 'httptco9wqixgmhfh', 'sandunes', 'httptcox9cuihib5n', 'httptcod8awx2okke', '40mln', 'httptco0dxvz7fdh3', 'sonyprousa', 'lumixusa', 'djiglobal', 'profbriancox', 'httpstco2gljhvead9', 'httptcolqjjy1ptwt', 'httptcovb3vfm76ke', 'httptco98o2kc3a1z', 'httptcotgdonttkty', 'httptcomqmcolwbzc', 'httptcopztbqimpuw', 'snowywolf5', 'thegreenparty', 'hamptonroadsforme', 'httptco9qnq45zduw', 'httptcodhyljllrhl', 'dicehateme', 'puppyshogun', 'httpstcopd14gsrfsc', 'changepilipinas', 'richhomeydon', 'instagramers', 'httptcom3njvvtygn', 'bu\\x89û', 'kneelbot', 'klavierstuk', 'httpstcoreffbkvg9r', '\\x89û÷let\\x89ûªs', 'litter\\x89ûª', 'httptcogdrssjbh8q', 'combining\\x89û', 'httptcoxfccvmxuwb', 'josebasedgod', 'mccainenl', 'httptcodm0uupqgwy', 'skynews', 'httptco0oms8ri3l1', 'themthen', 'gymflow', 'gymtime', 'assassins\\x89û', 'httpstcomuhj8cbdqb', 'gargron', 'holymileyray', 'mooniighthunty', 'httptcoxomi4zqzgp', 'httptco0m1tw3datd', 'httptcofqmyprlg9g', 'httptcocilo9pmleb', 'macbreck', 'meansit', 'presbad', 'httptcosayzt2oagm', 'horiikawa', 'damnnnn', 'gmcr', 'breakingnewslh', 'breemars', 'cnns', 'wackoes', 'httptcobabmf0w2yw', 'httptcoqvs7o10bg3', 'httptcom19ivwrdkk', 'rzimmermanjr', 'renewsit', 'httptcoybshleie3p', 'byebyesoundcloud', 'httptcowj0u59mppb', 'silverhusky', 'shtap', 'whensoever', 'sizygwwf', 'theevilolives', 'httptcojlput7va3s', 'kevinbacon', 'kontrolled', 'ww3', 'interestingwhy', 'httptcoxqmjhiozxg', 'laurenjauregui', 'httptconckogwjq61', 'teamhennessy', 'tprimo24', 'djeddygnj', 'festival\\x89û', 'httpstcomrv54fidfn', 'thatsabinegirl', 'labourleadership', 'auntiedote', 'rioslade', 'lockewiggins', 'akarb74', 'httptcoikuggvbyei', 'tiggr', 'httptconlk1dyd2tp', 'eganator2000', 'ashberxo', 'mindmischief', 'httptcosf2vwqvjya', 'httptcohz4lkffc59', 'worldnetdailyhomosexuality', 'httptco1vjalja1sx', 'truthsof', 'ibeto', 'httptcoxjb0dcaahf', 'httptcopq3ipugkuy', 'oldtimey', 'httptcopkkcdwjyg0', 'httpstcoz8ij8ktkyk', 'littledeath', 'atgrannyshouse', 'kylewappler', 'thisishavehope', 'httptco1pdnlsp8xw', 'sb57', 'httptcodkpsrkg6pc', 'httptcoxwxbyhtuzc', 'httptcowzedxefblg', 'httptcoyhmregauxz', 'httptcog37hujx6et', 'httptco6cx46e7qb7', 'httptco41l8tqcaey', 'httptcorqu5ub8plf', 'httptcoosjurfddkt', 'httptcolzob8qoh1b', 'httptcobieyguqpb1', 'sydtraffic', 'trafficnetwork', 'ksbynews', 'lilitan', 'httptcopegibiqk2w', 'httptcotzyhdbw9f5', 'httptcotn1ax1xmbb', 'disclos', 'httptcowbi7laq18e', 'httptcopdosrg8cf7', 'httptcoap30pszkvx', 'httptcotcsolvwhxq', 'httptcozqihnhdwpv', 'osi2016', 'httptcogthddzavhg', 'losangelestimes', 'httptcohtxai05y7b', 'httptcowezjqc4cf2', 'cantwont', 'cityofkamloops', 'httptcota6n9szyfp', 'troyslaby22', 'httptcoccvcte3lcw', 'httptcoxcolwugfjg', 'httptcofpaoulwu3n', 'httptcosqoa1wv4um', 'httptcogusramzp1s', 'httptco7l6bhexixv', 'httpstcoemosrmuvqa', 'httptcoefcn9ivnfg', 'httptcozdtcw9fsx1', 'httptco1ct0pugz69', 'httptcomfsbwpj0ce', 'httptcozdpa4dbtsu', 'httptco02elqlopfk', 'httptco8lcbdw7m2z', 'httptcoajzy19vepu', 'httptcojtzefipdbo', 'httptcovsoxiooy78', 'httptcojgdlx4faw8', 'httptcoivwtynoujk', 'httptco2mwc9ywjzy', 'wowthe', 'legionnairesdisease', 'americanlegion', '197629', 'httptcofftokd0vts', 'httptco81hvv3n3rs', 'httptco2ao97o2a9d', 'httptco3snyoohseq', 'httptcovbsj8tniv1', 'httptcoso81ab3a1x', 'httptcoucbfgibfor', 'muhamadjabal', 'legionna', 'httptcorsv9atj9vh', 'senatemajldr', 'httptcoojyw7jkuh5', 'httptcorv9dv6joew', 'httptcocxi82rfifs', 'httptco1h7zk6uyze', 'dratomic420', 'httptcomnsy1qr7bq', 'httptcokkdx8zmv4g', 'httptco13w8cyukkz', 'httptcohkxyzhvmqe', 'httptcofjdm8qhyai', 'sebee', 'worstever', 'httptco0ubg9wfyge', 'httptcoza4axfjsvb', 'httptcorm6cnzkszl', 'httptcozfyqsawvrk', 'httptco3htj2pypsg', 'httptconq77efmf88', 'httptcolfbdhtgqwg', 'httptco7evyelw4lc', 'httptcopaje5mxn1z', 'bivideo', 'httptcoerj7yanjxm', 'httptcovbrpeujanl', 'httptcotxrswi0efg', 'httptcolyxnjlxl8s', 'httptcocxyfqn3ue4', 'hashtagteaclub', 'httptcoc5u9qshhnb', 'j3lyon', 'ffvii', 'arreat', 'soonpandemonium', 'httptcorw8b50xz9m', 'joegoodmanjr', 'copalibertadores', 'httpstco8tygo0kizz', 'httptcowrqf6u55hh', 'pandemoniumiso', 'httptcohbpnfoawii', 'httptco6whugaem3c', 'httptcoacfi2rhz4n', 'httptcoxrp0rtkffj', 'httptcoiwcu3dgi1a', 'httptcocplyrewfz3', 'httptcohzhoa6vzas', 'khalidkkazi', 'httptcodi5arr6hq6', 'gidiexclusixe', '\\x89û÷faceless\\x89ûª', 'httptcorgtyzbnkeo', 'bennycapricon', 'httptcoc5u9qsysej', 'drbaseball41', 'granttamane8', 'drewwtaylor', 'dtop77', 'httptcolq4lxgs2xu', 'shestooyoung', 'httptcojbxbi93clu', 'httptcoy9w0v6te9o', 'cumshot', 'httptcoykdsp0nrdq', 'httptco8j4rdwyjwu', 'httptco9mkzpzfkl2', 'httptco36gccapaak', 'httptconqjzs6wkun', 'pbohanna', 'justaguess', 'deadgirltalking', 'unfortunemelody', 'jaylenejoybeligan', 'tarynel', 'dredougie', 'santanicopandemonium', 'httptcopvkgo79jni', 'faceåêphotos', 'httptcobm0sxzbnke', 'catovitch', 'httptcopmhmmkspaq', 'raredealsuk', 'httptco0gknpy4lua', 'brokenscnecal', 'raptorsbeg', 'goodlookrunning', 'autismawareness', 'httpstcor4utnewlna', 'timmicallef', 'troubleonmymind', 'jetixrestored', 'teamo', 'httpstcowblimlmt2x', 'httpstcoorxdqfz0j0', 'httptcoqsekoeubmd', 'girlsgirlsboys', 'elielcruz', 'welladjusted', 'httptcocy0ciu2u1c', 'httptco4914njpio3', 'httptcovcq2icptki', 'headdesk', 'savs', 'jamesjustus', 'nolesfan05', 'nutsandboltssp', 'audreyp77', 'teena797', 'darrylbrooks', 'elitesportsny', 'lopezandthelion', 'natsnation', 'biggangvh1', 'httptco073izwx0lb', 'httptcookmlagvkjv', 'httptcoyi9bbbx3fe', 'afycso', 'httptcovxegcmmvbv', 'laughtraders', 'quotesttg', 'dirknomissski', 'httptcopkfv8lksld', 'istg', 'ianbartlett', 'astroturfers', 'httptcodf9fjonvep', 'httptcobbjls1fsad', 'adumbbb', 'beauscoven', 'tindering', '20mins', 'ushiocomics', 'httptcohsdbgciyrs', 'httptco4h8qyvvd0e', 'romanticsuspense', 'fundwhen', 'httptcoranefihbuk', 'httptcomflrvbh4qa', 'cpinto001', 'httptcow6o0uizf8p', 'jeannathomas', 'vichardy', 'httptcolcnw4ead8v', 'ogtomd', 'httpstcozvre6ffnyd', 'httpstcogiyaad7dcc', 'ar15', 'httptcokqvn1utpmm', 'breaking411', 'httptcoonlvf2fyoy', 'httptcomsgnndxoek', 'suicidebycop', 'aåêmiddleaged', 'manåêarmed', 'httptcotyd47nfl5x', 'vj44', 'jbouie', 'mmfa', 'dh30000', 'httptcoy35qtvdsoh', 'httpstcoqhujajctr5', 'httptcoyvv1rlghft', 'smartnews', 'httptcoqpwotugui9', 'httptcoup30aqgnlf', 'informant\\x89ûªs', 'httptco93infxzhx0', 'httptcolhw4vtbhzg', 'richelieusaintlaurent', 'httptcohmuyzmv8qh', 'randpaul', 'httpstcoxb8nfxabum', 'evilempire', 'jadehelm15', 'pp15000266818', 'httptcorg4jishybs', 'httptcoyprjwmighl', 'httptco3rrkrcjyw7', 'httptcohu5cxqnobf', 'georgegalloway', 'galloway4mayor', 'httptcovxin1goq4q', 'brandonmulcahy', 'fpine', 'httptcotgxutuoyhl', 'kill\\x89û', 'httptcok8bexkgwr2', 'httptcou30n3ffx8y', 'robbiewilliams', 'asswipe', 'police\\x89û', 'httptcocedjdlpdan', 'arizonadot', 'httptco7mlcd0l0b8', 'wasnamp8217t', 'httptcondcy8q7r6i', 'lastma', 'httptco8vzsftr1bg', 'helpme', 'httptcopf8dxwibdp', 'httptcodi8elzswnr', 'httptcodgelj8ryt9', 'slosheriff', 'quarantine\\x89û', 'httptcopkuamxw6pm', 'httptcopawvnj4sap', 'httptcou9bkqt6xhr', 'httptco8s0mtwrumq', 'technews', 'puledotechupdate', 'httptcoehgtzhkan4', 'httptcothnexicgqe', 'httptcoh0xunj3c7c', 'httptcouuew4mjles\\x89û', 'httptcowosypvqufi', 'httptcoxw8sds1tjp', 'httptcoew5wzc07fo', 'httptcoof3q75fgeu', 'httptcokmtwa3n1gf', 'aannnnd', 'httpstcop1jlurgwbu', 'httptcocnshlnjuqx', 'httptcovygh2ni4ah', 'httptcowvn6griypq', 'httptcorei3puwp84\\x89û', 'httptcoljmgdpdlvs', 'httptcopmcp8czpnd', 'httptcozhzvprzbgq', 'httptcozlagv1u5za', 'httptcofeikc9fxed', 'httptcoabyhrgss1s', 'missambear', 'httptcoe90j3vjolc', 'httptcopg4y3i5ciu', 'httptcotdeukjzzii', 'offensive\\x89û', 'httptcowjwyjbncat', 'httptco0erisq25kt', 'httptcot7ge0j3cay', 'httptconas3ipm5vh', 'httptcounnx71v8qc', 'httptcogllawb2fsk', 'httptco3kaafuoztc', 'httptcoplmiwofpom', 'httptcolodormtfsq', 'httpstcomjbiuvbmo6', 'httptcoi5cdtd8ftj', 'httptcoltmgdp6jaf', 'httptcou9ao3a4ogc', 'httptcoohbv7yvtl5', 'httptcoymuti3nd9r', 'httptcoo8xvtlp4mf', 'httptcouisnqiu3if', 'httptcouyugfg3k1h', 'httptcoalgtcn8baf', 'httptcom4tczaawpt', 'aaarrrgghhh', 'httptcog2uimbekge', 'httptcozsxqbduzbn', 'httptco6ncfjxploy', 'rantipozi', 'cucks', 'httptcongkrzpza45', 'httptcolfw4kuukem', 'httptcok3mnk9hnz5', 'httptco9nly2tovud', 'httptcorb2s0jmlej', 'scrambledeggs', 'httptcoqnij2p8zv6', 'gmtty', 'httptcobjvfk1ete9', 'httptco4onvxncz8w', 'httptcotnggxnm6k8', 'httptcozcp5cszsll', 'httptcoztonvgubvm', 'bluehand', 'ebolatrends', 'httptcoihvmtmzxne', 'httptcojliemrsnnj', 'rconspiracy', 'bathroomits', 'louderthings', 'httptcohzpx6vaqpz', 'httptcol4w0pcorbs', '0npzp', 'httptcoy2jt1amyfj', 'httptcohqdczzdmbn', 'httptcogix1gaynxz', 'httptcop93s2rfhx6', 'httptcobiigd1leq3', 'oc73x', 'httptco0lpu0gr2j0', 'httptcocd2ng2awql', 'httptcovhrlswvzql', 'httptcox5xumtoeke', 'httptcov57nugmgkt', 'sejorg', 'northwestproof', 'israel\\x89ûªs', 'emittin', 'httptcoswq5lmydka', 'httptcorffpqbaz2f', 'httptcohxwfbpp1b3', 'ccot', 'httptcokf74o2mcsc', 'httpstcon2zhrchcgv', 'httptcoearonlwifh', 'capeann', 'triciaoneill', 'triciaoneillphoto', 'httpstcools6qdi9um', 'myrtlegroggins', 'ltgaspgt', 'aampb', 'pipeliners', 'httptcopst5bbq0av', 'damatu', 'httptcorzxqssun02', 'httptcofejs0bu0sq', 'newrelease', 'lapaka', 'httptco4l8h2fklno', 'httptcozitqkdfxjy', 'httptcohaxj6go2ac', 'httptcouzwxjbg0zh', 'ireporter', 'httpstco0rny349unt', 'bebacksoon', 'httptcoboygbp0jw9', 'rolling\\x89û', 'httpstcodlvyfvnqee', 'httptco50vdq7a1m5', 'httptcoqh6oxft9ir', '600\\x89û', 'httptcobbqnk76qus', 'httptcosmkznf52za', 'httptcojqfcy9guqv', 'httptcotn65puhfhw', 'nathanfillion', 'httptcodrvm8isote', 'imsort', 'lizzie363', 'cstsmith', 'floodrainstorm', 'thnk', 'deadgrassandflowers', 'httptconu0d3uannz', 'italianåêalps', 'httpstco8bhvxx2xl9', 'httptco4ou8s82hxj', 'surfspa', 'httptcoex6jzqj3ni', 'httptcoaknbtuyaef', 'office\\x89ûªs', 'razedåê\\x89ûò', 'ikpeazu', 'httptcoakzzoe5ce6', 'httptco0keh2treny', 'httptcontswuayeji', 'httptcowgefbuk4jk', 'httptcozbzc8905gl', 'httptcoly8x7rqbwn', 'httptcoixiybap8qa', 'httptcozepzqydby4', 'httptco5kbrzzmf8c', 'tafs', 'fb100', 'httptcod1vjoyg52a', 'httptcodofrh5yb01', 'httptco2nip3d15dx', 'httptcoegyfnlaoqv', 'httptcobsgr67dywy', 'httptcondggr6xyqd', 'httptco5fcjvml520', 'httptcofvyrwhux8p', 'petereallen', 'huffpostuk', 'bbc5live', 'httptco3tnuaciv3c', 'httptcosakorgdqul', 'httptcop3g3bqbczu', 'httptcorpbxdfnx5k', 'httptcox1xj0xvtj7', 'httptcorg9yaybosa', 'httptco2872j5d4hb', 'httptcoecxmoinzgu', 'httptcontwwdwednb', 'httptcou52rw9ji2r', 'httptcogx75w3q9ye', 'httptcoywkk26arag', 'dualcom', 'imrazed', 'httptcobksyymvisg', 'httptcorlpttkbg4w', 'httptco6acswzo7cw', 'httptcohckxj8eukt', 'northerncalifornia', 'httptcomonijjth7v', 'httptco0yxbb5dzw5', 'httptcor1cnsjuayq', 'httptcodq1ylcrf9k', 'httptcous8r6qsn0p', 'httptcoirqujaesck', 'httptcoqdweknrmi9', 'httptcoauezxza5ak', 'petelmcguire', 'httptcouuewccdtow', 'httptcoibed3xg7fy', 'httptco1wcofmlub9', 'freedomoutpost', 'httptcoo1enhjrkjd', 'httptcoarkmc7vcln', 'refugeesvictimiserdutton', 'evangelicalliarabbott', 'choppergatebronwynbishopauspol', 'httptcowvvgmeja7l', 'httptcoqu8s89pvvt', 'httptcoytw9slwvmg', 'httptcobae0ap4g9y', 'httptcoi1vpkq9yag', 'httptcoty5gavn7uk', 'reaad', 'plsss', 'refugees\\x89û', 'httptcoa2tiivnjdy', 'httptcofw2xifj6ec', 'httptcoavwe1lbvhn', 'tonyabbottmhr', 'httptco6nqru2q5tz', 'christianvalues', 'httpstcokp5dpoaf58', 'marrie', 'httptcoigll3ph6o1', 'httptco9qpg0z3rh9', 'httptcohuhwpmrywz', 'httptco96p3hujntj', 'httptcoehlq3zsptd', 'httptcodjx5elbrv1', 'fadelurker', 'dalinthanelan', 'httptcoegcv7ybjae', 'httpstcojojnq2oopi', 'httptcodskui6mmgl', 'kristindavis', 'httpstcoypvjgzqqqb', 'httptcoxzv0lt9zzk', 'httptcoehklp12yip', 'pacic', 'httptcoms8e8mnddb', 'thedailybeast', 'chpsre', 'rezaphotography', 'httptcorpmtropsvr', 'httptcoe4dvi9vuxz', 'httptcojycpf8iyhg', 'kelbytomlinson', 'httptcohujvgsflus', 'httptcop85nwcmkqu', 'blackwhite', 'httptcooqb7dasmvy', 'newbeginningsanimalrescue', 'ppact', 'httptco35qwnglkos', 'racco', 'httptcot8q6dzvgwx', 'psychrewatch', 'httptcoamrox4y4nx', 'httptcof1tcbg1mki', 'httptcokiildu8gpo', 'peaceloverescue', 'httpstcocic7h64qv8', 'rainforestresq', 'httpstcorosvxqelqj', 'floodzone', 'httptco1eb2dauyfn', 'lisavanderpump', 'httptco2jxkmkpalp', 'httpstcoec46lyqqc6', 'httptco1k2phqcuw8', 'httptcowgrxly9pdo', 'httptcobj4haavaye', 'httptco59p3aoiqus', 'httptcoxyyev89wiz', 'httptcoz8xiqngulc', 'tennoatax', 'summervibes', 'pitmix', 'mybabies', 'httpstco7vovktxspo', 'httptcosahq5uoahw', '10monthold', 'httptcokjuzjc6igd', 'skyrim', 'rescuedagain', 'httptconekm1rpohu', 'enkelbiljett', 'menolippu', 'smugglersåênabbed', 'httptcoe7fn5g5ruu', 'httptcorjrmw7nzy5', 'httptco45twhj0l6m', 'romanatwoodvlogs', 'httptcokepznhxhxd', 'inspi', 'httpstcojywfygclhm', 'httptcoqhfqlui6ry', 'reshareworthy', 'brittanypetko', 'httptcoyhyy3o609u', 'httptcoqgyn2u1up3', 'rescued\\x89û', 'httptcowis3h9tqrm', 'httptcopmggavtokp', 'httptcokot9zvd2h7', 'irishtimesworld', 'httptcog03dkpoonp', 'httptcogo0hpi0b4c', 'httptcorqbspucjdf', 'httptcopa5sslefec', 'offtrackhorse', '4422', 'httptcofnpdjwvw1j', 'httptcovaunps6wja', 'onegreenplanet', 'disembarkment', 'tconnellyr\\x89û', 'httpstcoaim5cyhl0y', 'httptcop4doa5yyje', 'httptcobs6pjt09tc', 'httptcos5nuegswyj', 'httptcociwwuqthin', 'httptcogeu4h46csz', 'httptcoyhqu5uv6ok', 'httptco6ds67xai5e', 'durbanknight', 'httptcocwcvbubs01', 'nosybe', 'childhooddefined', 'roddypiperautos', 'httptco97b8avgewu', 'andygilder', 'rescuersthe', 'woman\\x89ûªs', 'httptcouojy4e2sv4', 'httptcozg1yddywa5', 'httptcopuezv6bd37', 'httptcoawtscucbbv', 'httptcooekucq4zl0', 'favori', 'httptco6hhmbdk9yo', 'httptcozfwmjh6slh', 'httptcoxlfi7ovhfj', 'hundreds\\x89û', 'httptcoraq4zpdvke', 'ahmazing', 'httptcoficd5qbqwl', 'httptcotx51oybrn6', 'thenewshype', 'httptcopspm3ahgkq', 'httptcoyvo6q6w442', 'httptcovecmsiuuh1', 'httptcogx9skuau9j', 'sfgate', 'httptcoiz9u8bhfaa', 'httptcov9ftyb30ei', 'httptcoi8sj1kws1d', '37yearold', 'httptcogaehr9bhek', 'httptcoixfne5jlep', 'httptcouymxocfs33', 'httptcokmndkfa7me', 'piprhys', 'teamvodg', 'httptcoum3wtl5r7k', 'httptco2lqyxzq5dn', 'httptcocxb55h37jn', 'concertaugust', '20152', 'httptcoh6tyysgr30', 'hasåêarrived', 'httptcoudqa53kfqu', 'daniriot', 'daysweeks', 'httptcohxox7o42rq', 'liveworkshop', 'acaciapenn', 'shidddd', 'autumnwinter', 'urbanfashion\\x89û', 'httpstcoccwzdtfbus', 'abrancaballero', 'httptco5fr41tpzte', 'thorins', 'careerbest', 'httptcozgsjwxdrcm', 'sarahksilverman', 'httptcotiost8okvx', 'teemo', 'httptcotytpbc4gwi', 'httptcolamsdzkcuz', 'bytorrecilla', '600000', 'transwomen', 'eac4au', 'httptcofvp3wnid4l', 'httptcobwdhibtiks', 'httptcoqelroci7by', 'ravioliåêwith', 'ricotta\\x89û', 'httptcon6mcpgvwq2', 'httptcos8oinfgxyx', 'httptcoskaausjpo4', 'oliviamiles01', 'davidjordan88', 'stephanenny', 'trollkrattos', 'championsblackfoot', 'httptcov9i4pfxo0c', 'httptco6ndbfopk5m', '\\x89û¢', 'httptcoskvnmtzgeg', 'jwalkerlyle', 'httptcocc7d0wxk0m', 'plantcovered', 'doco', 'saintsfc', 'rio2016', 'httptco9mtrq5jf4d', 'runjewels', 'loveislove', 'httpstco6ce1vwovhs', 'httptcowspuxorewb', 'embra', 'cloydrivers', 'evacide', 'amp163163millions', 'contr', 'bhramabull', 'httptcold5p1sia2n', 'justiceno', 'justicepeace', 'jasalhad', 'brianboru67', 'jimskiv92', 'hijinks1967', 'ryleedowns02', 'nevaehburton33', 'gr\\x89û', 'httptcogjfd85vuf2', 'davidolszak', 'aelinrhee', 'nffc', 'dontpanic', 'georgous', 'halljh1720', 'point\\x89û', 'usamisan', 'uknews', 'httptcoq5mp2q6hy8', 'httptcojmzcaqydfa', 'insurers163millions', 'fa07af174a71408', 'expirehc', 'httptcokabk3tcjnl', 'httptcos0eyq1wehe', 'httptcogo0pkrfzmf', 'crazyideascollege', 'httptcodh0s4buuk7', 'httptcoeatfro3d5x', 'httptcoq4grdpajr5', 'httptcoc0slabbp7j', 'd\\x89û', 'httptco1yggzziz9o', 'jasonpope2', 'johnfugelsang', 'httptco3pbfyjx0ya', 'httptco9naw3qoqol', 'san\\x89ûªa', 'httptco11juzhlgmt', 'httptcoj4ggmkiney', 'forbesasia', 'firefightr', 'workd', '12hr', 'lookg', 'httptcol9fjpnszuo', 'httptcoo6onsjhcsd', 'httptcope2r3ln16o', 'httptco9lo0hzwjpz', 'httptcobqblwiw08g', 'roimentor', 'yycwalks', 'httptcoox3qb15lwq', 'httpstco8u07foqjzw', 'httptcotg5fqc8zey', 'httptcoaod2ftbmgu', 'httptco6cadrhioxp', 'httptco2oqsgzqlbz', 'postapocalypticflimflam', 'httptcobgy4i47j70', 'httptcogqskwqzuul', 'okgabby', 'httpstcoslc27emugm', 'chrisdyson16', 'sorrybutitstrue', 'httpstcot2kk8fya77', 'savannahross4', 'httptcozu9yydf5di', 'wordk', 'zmne', 'httptcorc6eejme17', '9tarbox', 'freezerdummy', 'httpstcos107ee7cyc', 'connormidd', 'httptcokrsy54xmmc', 'httpstconmtlpo4b58', 'juliechen', 'clnv', 'ctaztrophe31', 'httptcomkwyvm3i8r', 'httptcoazl4xydvzk', 'hienshi', 'gbay99', 'httptcoz2ph0arzyi', 'httptcoxr3xjj8gjb', 'httptcobrctmnybjy', 'httptconx2d83a4du', 'httptcogaotrg4mtr', 'httptcorku0idm6aq', 'httptco7ijlz6bcsp', 'east\\x89ûªs', 'httptcohvjmuualxv', 'httptcot8nz6h9zz4', 'httptcovzpkn23rx4', 'httptcorm50vcvjsh', 'httptco1tr2kvxctw', 'httptcoq0x7e84r4e', 'socialwots', 'globiinclusion', 'nrcmiddleeast', 'httptcoxbnlsbzzgi', 'httptcoh84r1tih8j', 'httptcosequwmvfx4', 'httptcoaknynpv461', 'httptcoc9t2f6dltm', 'httptcoxszicdwxq0', 'sundercr', 'betweensong', 'httptcoqr6btdcqcj', 'httptcowd9odwjj9l', 'httpstcoefkcoegjck', 'httptco87h5mba3n1', 'httptco8l4rffzd0p', 'httptcotvyqczgjdy', '3430pm', '4306pm', 'httptcobb7ttdvjwe', 'villicanaalicia', 'airhorns', 'httptcodudairbbpo', 'httptcopadosfyxnm', 'httptcobgm4csrbvd', 'ahahahga', 'infinitegrace7', 'sidjsjdjekdjskdjd', 'httpstco0vcsafx9by', 'godofmischief', 'httptcovzcvadkcqp', 'tbh', 'mogacola', 'zamtriossu', 'cryibg', 'higuains', 'cortezera', 'femnism', 'httptcor7pvtsduma', 'twentysix', 'cedarglade2015', 'httpstcoldjet9tfmk', 'oamsgajagahahah', 'laighign', 'httptcoetkbw1rcrv', 'httpstcopc3h1ne4g0', 'httptcogxyivswki7', 'realliampayne', 'addtexastonext1dtour', 'thatwitchem', 'emmachosenone', 'jessienovoarp', 'jessienovoa', 'liananovoa', 'toddyrockstar', 'httptcojdtpirnm76', 'gtlt', 'httpstcomsuy4qtpk9', 'slsp', 'phandom', 'fangirling', 'httpstcowdvqlewybs', 'jariana', 'bizzlemahomie', 'estellasrevenge', 'swiming', 'smelltaste', 'mariahcarey', 'httptcoxxzd1nmb1i', 'lhh', 'httpstcobiexwdldwc', 'noahshack', 'httpstcojwdfpyg3nt', 'httptcoprontouo91', 'httptcocp7c1ch0zu', 'tyleroakley', 'scalpium', 'camilas', 'stvmlly', 'safferoonicle', 'httptcoaxvq80rbyj', 'funnydadcoach', 'missdaoh', '22days', 'wdym', 'kamkasteiiano', 'bluntedjayt', 'nochilllukehammings', 'blanksocietyx', 'httptcordfaakkbnj', 'httptcoy678xsnvj6', 'omgggg', 'trombonetristan', 'ooooohshit', 'ooohshit', 'danemillar1', 'httptcocfe9huqn0h', 'worstoverdose', 'jaileens', 'httptcopu7c4hhbxj', 'himeruisu', 'uhmmmm', 'drag0nking0201', 'screamsdont', 'realjaxclone', 'itscreams', 'sakuuchiha', 'yaboiluke', 'heyot6', 'lawsonofficial', '4tiles', 'zacb', 'win10', 'ollymursaus', 'tunesblake', 'queenwendy', 'wisdc', 'death2usa', 'httptcoserarcnrby', 'harveymaine', 'roomr', 'httptcogbepdi0wzt', 'httptcopckf0nl2yn', 'powerwow', 'httptcohmrtqeykyi', 'hebrooon', 'httptcokltit88as3', 'httptcoqamgvqafzc', 'worldoil', 'httptcokqvevuutdj', '08062015', 'alabamaquake', 'httptcozm6vczqvwk', 'httptcodknlznom6n', 'httptcozqmtrbkas0', 'httpstcoyeqq3bzx3g', 'httptcokmvrzasxy4', 'marek1330', 'qty', 'httptco2jbibeib9g', 'httptcop5ktaqw5qg', '010156', 'seismicresistant', 'httptcocx5ojh2dr4', '182245', 'httptcobekrpjnyhs', 'kakajambori', '010217', 'httptco9vd6x4wdoy', 'httptcoa8nmdkd3rv', 'oilandgas', 'httptcoohholj9vev', 'httptcoltf6jl5keu', 'httptcozlq8thctkw', 'seismicsoftware', 'httptcokwmrcekvtf', 'httptcomuwmfjgzyh', 'w\\x89û', 'httptcow0xr5gp8cw', '063243', 'httptcoa3b5n3rcr5', 'mrw', 'ifunny', 'httptcoxiydyfptru', 'httptcozdpvqmeezs', 'sinkhole\\x89û', 'httptcobcldqmmehg', 'occasion2b', '10news', 'httptcopaug7a68i0', 'httptco6tvvlg2fni', 'httptcogkprvzq6lk', 'azimel', 'httptco0xa6fcjyec', '\\x89ûïfdny', 'onscene', 'nycbuildings', 'httptcom78ir0ik01\\x89û\\x9d', 'wctv35', 'httptcowkpzp1jcau', 'accidentalprophecy', 'httptco3glyoyf6oc', 'moorlandschmbr', 'httptcoxvco7slxhw', 'httptcojbvmgeg522', 'httptco0yaxrjicrr', 'httptcorvmmut3gvc', 'httptcoqwo7q1amh8', 'httptcoesrkmazeq9', 'httptcon3ow73oasw', 'httptcogs9bmplbhh', 'lomasvisto', 'intersectio', 'httptcoqwtk1b2fmc', 'cadenadeseguidores', 'httptcocbaxcuba0h', 'httptco9tb82zmr2x', 'httptco1ybe5mgzl4', 'httptco7zog3dpdu9', 'httptcokff8ojrzp4', 'httptcojob4ggtpal', 'twitsandiego', 'sa\\x89û', 'httptcoanriombhqn', 'httptcooyy9mgw7hn', 'hinterestin', 'httptcosjnyfszcu1', 'davidcovucci', 'httptcos7grbznwlr', 'httptcocpeqv52lna', 'presinkhole', 'httptcoheiekfchdm', 'independent3', 'httptcodwu8qqys0v', 'mtsalert', 'large\\x89û', 'httptcohvbj30aj9s', 'httptcojvjalyg2n1', 'httptcoqxmweljbc0', 'httptco4ceeuzwhvf', 'httptcoorjb3j803f', 'httptcomwdhxyfrag', 'publicityalthough', 'supernovalester', 'httptcoqymalttvzp', 'httptco9stlkh59fb', 'abandonedpics', 'abbandoned', 'darsena', 'scaligero', 'sirmione', 'dfljev', 'paydayprison', 'sinkingfund', 'jbumzqpk', 'onnnn', 'httpstcozv60chjclf', 'sinkingshipindy', 'stonebrewingco', '\\x89û¢\\x89û¢if', 'onå¡å¡', 'destinationimpact', 'httptcobjojvm0pjx', 'httptcowhoc7lhb5f', 'thirdquarter', 'httptcogtdnw1spvi', 'wccorosen', 'corycove', 'httptcob1bx0eruep', 'xkdrx', 'httptcoj43nwkx0x3', 'httptcobtjpeo0bto', 'httptcoclyj32l333', 'edsheeran', 'httptcot0c1f2ledv', 'httptcou0mexo4uhh', 'ofnsixjks', 'corii', 'httptcol3gizrucy4', 'httptcohgedwxtdjn', 'ma3route', 'imeshika', 'ambulancewe', 'bonnieg434', 'piga', 'kijan', 'stacedemon', 'ibeyiofficial', 'httpstcoolnk1ti1nm', 'horrormoviesca', 'httptcow9cd6offcj', 'j2bone', 'foxysiren', 'httpstconv7rk63pgc', 'healingreviving', 'this\\x89û', 'httpstconps3xpbkaq', '295ss100', 'httptcoa5iwus8evq', 'httptcogi82n2juwn', 'httptcoa0v1ybysod', 'sirenvoice', 'liveonstreamate', 'httptco00cy9vxeff', 'marriedfoxysiren', 'httpstcotui9uwbvvp', 'herei', 'tomarse99', 'arenanone', 'httptcolaftj2gyly', 'httptco612bsbvw8k', 'gameplaywalkthrough', 'optich3cz', 'askh3cz', 'elgato', 'bday', 'themayhoka', 'longfoxysiren', 'envyseven', 'queenmy', 'overturesplease', 'songfor', 'sirensong21', 'heavydirtysoul', 'serephina', 'httptcok6uetsnlht', 'lasiren', 'vvorm', 'soonermagic', 'indyfest', 'breachgamingorg', '012032', 'gmt0000', 'millcityio', '20150613', 'theramin', 'raychielovesu', 'sirensamp', 'httptcolqjmuaxjuu', 'dangdaddy', 'httptcoqaqqrjv9gu', 'httptcobnwygx6luh', 'sirensicebreaker', 'httpstcohpljur0obo', 'kiro7seattle', 'marketforce', 'httptcoggperglvki', 'travelelixir', 'goooooooo', 'httptcofz5ew4ihmb', 'sonisoner', 'httpstcodevffptcvj', 'hakogaku', 'åêi', 'httptcoobp595w7tm', 'ik4len', 'abc7eyewitness', 'hometownglory', 'gostei', 'vìdeo', 'christinartnd', 'httptcobwe9kjcept', 'marketforce\\x89ûªs', '\\x89ûïcat', 'shark\\x89û\\x9d', 'httptco6f9afql6wp', 'httptcof2tqmfh1yb', 'halfhourhotel', 'edgarsgift', 'httptcozrn30a78ir', 'lifeaintfairkid', 'brooo', 'buddz', 'radneck', 'sidelinesavage', 'crqck', 'becyme', 'youngins', 'pianohands', '55436', 'magnetraction', 'httptcoxezbs3sq0y', 'httptcoc2x0qokgly', 'sammysosita', 'ciggs', 'toooooo', 'thetshirtkid', 'trynna', 'billmccabe', 'httptcoumzkc9azwd', 'httptco79upydcemp', 'bremorrow', 'splifs', 'mentaltwitter', 'teamatowinner', '36x36', 'httptcorczalru05o', 'sorryi', 'rtirishirr', 'mchapmanwsaz', 'wsazbrittany', 'kellyannwx', 'httptconkkctttsd9', 'grouponuk', 'httptcohk9yf72ova', 'lalaloopsy', 'httptconyty7fcqo6', 'httptcohyypspn0yq', 'matchwood', 'httptcozdj2hyf6ro', 'dirktrossen', 'snowstormhailstorm', 'httptcopnaqxprweg', '\\x89ûïlordbrathwaite', 'growingupincolorado\\x89û\\x9d', 'cacheadvance', '18wheelers', '\\x89ûïmake', 'stop\\x89û\\x9d', 'amssummer', 'httptcohdjs9rntj4', 'pyrbliss', 'longll', 'httptco5kjy8g0i4y', 'httptcojhscgda2g8', 'treescape', 'httptcoz8cp77lvza', 'mothernaturenetwork', 'thundersnow', 'httptcoeydapaupvg', 'lakeeffect', 'go\\x89û', 'httpstcotxtpx4umqh', 'he\\x89ûªs', '\\x89ûïsippin\\x89ûª', 'prablematicla', 'snowstormdespite', 'gamefeed', 'httptcogx1kz3c2tc', 'httptcodggm5b0w4l', 'httptcoeyr2xx5l1p', 'funko', 'httptcokjbxieypma', 'httptcoenpjcfma8l', 'httptcokhyqqsi6my', 'httptcog6vs3xeinb', 'kesabaran', 'membuahkan', 'tepat', 'jenniferarri', 'comeeeee', 'tonyhsieh', 'httptcooiywrzl79z', 'stormfree', 'httptcohuzrhgmksy', 'eventspalmbeach', 'httptco8qc8bcxoko', 'httptcojvai5vkmsy', 'sportinggoods', 'httptconr8jjmpmos', 'hawaiianpaddlesports', 'httptcolgpgajgomy', 'httptcofkd1mbtb68', 'mypillowstudio', 'httptcom4pqkkeevc', 'johngreen', 'robthieren', 'httptcowz55nbyao3', 'httptcol7pmdmejs1', 'httptcomdp2ni1pqu', 'twcnews', 'ncwx', 'httptcodgbeh5l9ds', 'httptcofkfa9vsssz', 'finna', 'boutta', 'tstorm', '345pm', 'httptcoxwoevmk0aa', 'th\\x89û', 'httptcoksxto8nknl', 'lesleymariiee', 'httptcocm5u55miol', 'pt4', 'httptcoxjtpv4oydl', 'today\\x89ûªs', 'tomorrow\\x89ûªs', 'coachkeith44', 'hannomottola', 'trpreston01', 'mlrydalch', 'httptcob231ul1o1k', 'ouwbball', 'ferno', 'httptcogted6ldwho', 'httptcomhl7pfr7kb', 'httptcolou8lbla1f', 'httptconvzdilrfgj', 'httptcou9cd0txe7z', 'ofentsetsie', 'httpstcoq5mdsnbcmh', 'httptcomet0mtpr3s', 'httptcoyzazf4ceoa', 'httptcox5rc5nuamh', '1pack', '2pack', '3pack', 'httptconatz5ipv1x', 'httptcoleaeby6cr2', 'httptcofblnifda1c', 'stretcherbearer', 'favorited', 'mxaaaa', 'httptco8cpcz2xohb', 'httptco0yo2l38ozr', 'niqqa', 'stretcherbearers', 'httptcoyerct4j244', 'httptcordxzsl5eac', 'httptcoqwijrriyif', 'daretotaha', 'httptco7qpg80ud7v', 'httptcolvizo9cssr', 'lizbon', 'kidicalmassdc', 'httptcokp1hdchfnz', 'failure\\x89û', 'httptcoimawvmzs3a', 'httptcofprt7nwrot', 'sirtitan45', 'httpstcodvieablofz', 'httptcoocmcvfdzkv', 'httptcognorijnsva', 'co\\x89û', '9058778591', 'galactics', 'httptcoeysblyx6l6', 'httptcopnhpljho8e', 'httptcoadz8kburt7', 'httptcowc69xajis4', 'sirtophamhat', 'scynic1', 'nafeezahmed', 'jeremyduns', 'httptcocdxe5vmzoj', 'sabcnewsroom', 'sabotagei', 'catoinstitute', 'httptcoh2xcax4jbu', 'stopevictions', 'httptcobgrab7lk8d', 'whvholst', 'leashless', 'httptcoqu1iug3e9r', 'httptcox3vqxdouvt', 'httptcocy1lfenyv8', 'httptcoiknyok9zzr', 'httptcoqckqcx4hw9', 'foxnewsinsider', 'rembr', 'httptco1yb8sizarg', 'httptco69iizvyqyc', 'httptcouwfvwmjepu', 'httptcopxonlrqusm', 'alfapedia', 'httptcoujnrgfangj', 'httptcotmipegqyev', 'httptcopol92mn8yz', 'httptcotuvbr4lep3', 'httptcoiuh718kcy0', 'httptco9pqyx4xool', 'trench\\x89û', 'httptcozdieodwbog', 'msoreo', 'httptcov6nylvdped', 'httptcosj57boksib', 'httptcofqsk7qcawo', 'httptco6jzcedayrg', 'alwsl', 'httptcov8juc5ek1a', 'httptcomgzslzz1wf', 'httptco5ortb8p51c', 'httptcon7yst76ku3', 'httptcognynjhne6j', 'httptco1funemes7m', 'httptco5v29w19tfx', 'httptcofvxhopdf3w', 'hashd', 'httptco2ag9auabr3', 'httptcoqna4tubnwh', 'llll', 'httptcouonebahh3h', 'httptcommklapx2ok', 'grupdates', 'httptcofqcdphccg7', '17jul2015', 'timesap', 'httptcoo2cdkpsdfp', 'httptcoh3sxfv5mtc', 'httptcoiewdrenauk', 'httptcolwdcrpehtn', 'httptcoetyzy8gb2a', 'httptcooz1ds3xu0d', 'explosivesrigged', 'httptcowpilp4mymf', 'httptco8nhd9idajs', 'httptcoaxhclfersu', 'httptcojlmicj6je5', 'httptcompoaefql6k', 'josephjett', 'saudiarabia', 'httptcolwane9vupg', 'httptcocpqgufzb28', 'canadasuicide', 'httptcoktd5ig9m5o', 'httptcoyytkp1z5kg', 'httptcovijfnhl630', 's\\x89ûªarabia', 'aseer', 'httptcopmtqhivsxx', 'httptcogigw51izpk', 'httptcoke6djxanmm', 'httptcoxyckgxzv9s', 'httptcofy0r9o7xsl', 'httptco37dqvjhncv', 'httptcolgpne5hkao', 'httptco9k1tqsaarm', 'httptcoev3nx9scx3', 'deai', 'httptcosqydkslfzp', 'httptcopioy1o54f4', 'saudiåêmosque', 'httptcoh99bhb29xt', 'httptcoaxk9xno6yz', 'httptcodn5buo7gsk', 'bbclaurak', 'noahj456', 'httptcoxnto3jmmts', 'thursd', 'httptcoibype1kaz5', 'httptcoguaj2t910b', 'httptcotxg7k2do9v', 'daisycuttertz', 'grogparty', 'tonyburke', 'sonofbobbob', 'shimmyfab', 'trickxie', 'httpstcogs0km0vlgk', 'httptcoetitgpsrun', 'jewhaditm', 'httptcoibazrhlsur', 'httptcob6wwq2nyqi', 'httptcowd7s6s0vci', 'httptcouvaojzcycz', 'saadthe', 'kpdied', '2007he', 'kppolice', 'httptcozoipkpbd6o', 'httptcoo6armcgvbs', 'rayquazaerk', 'httptconvp6wrkl1e', 'httptco7cibxls55f', 'httptcotmz6x1n2gq', 'hajihunter762', 'middleeasteye', 'muzzies', 'httpstcoopjwunuvg8', 'erdogans', 'httptcoz6xauidrxu', 'shareaholic', 'httptcoghghqm9e6d', 'nbcpolitics', '911bombing', 'httptcozfivvxydzy', 'httptco7old5mjwph', 'httptcouo0aqk9kr8', 'safsufa', 'httptcohfzk09mcen', 'backty', 'jeepåêsunk', 'httptcoqp3gvvfofq', 'httptco0kccg1bt06', 'httptcokncm9jc8i9', 'httptcoswviazsphk', 'aphyr', 'long\\x89û', 'somethin\\x89ûª', 'httptcoaq5zlim7l4', 'httptcofvr9jdq71a', 'blaaaaaaa', 'resolutevanity', 'codemew', 'sunk\\x89û1', 'side\\x89û', 'pull\\x89ûone\\x89ûyou', 'httpstcoii2spvp89b', 'saintrobinho86', 'untameddirewolf', 'benaffleck', 'mraffleck', 'arrestpastornganga', 'time4mesews', 'lonelyness', 'httptconosa8jjjin', 'httptcowukvdavuju', 'court\\x89ûªs', 'httptcoh09nydbzov', 'resoluteshield', 'shekhargupta', 'mihirssharma', 'bonhomme37', 'unrealtouch', 'silverstar58200', 'httptcogn3whnsfib', 'httptcofwpof5twoc', 'httpstcoyou7wn9xvs', 'httptcon9c3i9v8go', 'lucypalladino', 'ayhhhhhdjjfjrjjrdjjeks', 'httptcobiuey7buts', 'httptcojwqybe4ep1', 'httptcolnzi7o166y', 'httptcotmpfwjpi6i', 'thruuu', 'tootrue', 'httptcomcwd37iof9', 'httptcokpmyqujsue', 'thomassmonson', 'oktaviana', 'httpstcohukjz1wt36', 'wildlooking', 'httptco0q040stkcv', 'httptcoau3dbci7nf', 'httptcobovjrf62t7', 'httpstcokgswhsr7mn', 'teamsurvivors', 'zombiefunrun2014', 'mochichiiiii', 'hikagezero', 'ddnewslive', 'nitishkumar', 'arvindkejriwal', 'adriennetomah', 'healthinsurance', 'driverlesscars', 'buchana', 'httptcoemtwirknyq', 'httptcom9k08oazve', 'thedailyshow', 'holomua', 'thoutaylorbrown', 'taaylordarr', 'httptcopnssia5e46', 'httptcolsvsyspdxx', 'hotbox', 'thesmallclark', 'daubt', 'chubychux', 'httptco71vdjhjnwv', 'rjkrraj', 'karnakarank', 'vimvith', 'thalapathi', 'httptcojszzqst3xs', 'makinmemories', 'httptcogm8p0bd8mt', 'httptcojid4ro34gb', 'tsutomi', 'otd', 'httptcodaalpenzp0', '12step', 'httptcoxsx26oo16s', 'chronicillness', 'mylifestory', 'httptcofyjwjdkm5i', 'httpstcosudkk1weez', 'pixeljanosz', 'angelheartnight', 'thrarchives', 'httptcowpkl2qniqw', 'httptcobd52fxdvhq', 'duchovbutt', 'starbuckscully', 'madmakny', 'davidduchovny', 'httpstcoiniqzfyioi', '\\x89ûïbbcwomanshour', 'httptcocvjyml7krm', 'httptcofph01u3eii\\x89û\\x9d', 'httptcoqmif0blwoa', 'httptcol6pif3lpen', 'ì¢', 'httptcoglzmgbm7w0', 'httptcoljeryhitwh', 'patientreported', 'httptco5yl4dc1tqt', 'humanityi', 'survivorsr', 'sojapan', 'nuclearweapons', 'httptcotwykzn4rlc', 'coppednews', 'httptcowx11d69gez', 'kotowsa', 'sudan\\x89ûªs', 'httpstcomexwohd3tg', 'httptcogb46fid2we', 'httptcopraro2owia', 'httptcoe7shtylbnl', 'httptcoijobz3mzp0', 'mithitennis', 'crackedgem', 'httptcolqd1wefpqd', 'httptcoggnbvzohwu', 'httptcopcjbvrs7xw', 'lungcancer', 'httptcotwi3pym7us', 'httptcoqt8jmd9pi1', 'httptcouo8grdauat', 'httptcouvm975yha2', 'arovolturi3000', 'fedporn', '\\x89û÷faceless', 'sister\\x89ûª', 'httptco918eqmtkrl', 'httptco1ki8lgvay4', 'lawfulsurvivor', 'tdog', 'arizzo44', 'jlester34cubs', 'httptcoxgnjgle9eq', 'httptcowj7ujfs8fd', 'httptcooobscfoktq', 'httptcoii4ewe1qir', 'httptcoh3vusqzyqo', 'httpstcoh6amecx5k7', 'httptcob8iwrdxcm0', 'news786uk', 'httptcou7bbenxwyk', 'robpulsenews', 'huyovoetripolye', 'ldnrterrorists', 'httptcoxwnjysv9v9', 'httpstconxs3z1kxid', 'httptcoudkmadkuzy', 'httptcodaplllfuqk', 'httptco1w58ehv9s1', 'httptcop8ih0hni3l', 'httptco2y5morpugt', 'democracy\\x89ûªs', 'dawabsha', 'httptcoq8n5tn8wme', 'httpstcobejftygjil', 'httptcojlczidz7vu', 'httpstcoutc7pdidfo', 'httptcoudj50j3mv4', 'httptcole4brduau9', 'httpstcogevrmbvznb', 'diretube', 'fightåêterrorism', 'httptcov6ijxccd2i', 'httptcoysxhfwmgod', 'muslimsterrorism', 'catholicismhomophobia', 'protostates', 'httptcod5h4jif1y3', '\\x89û÷islamic', 'terrorism\\x89ûª', 'httptcou8rgb51d22', 'httptco2tnu95vgfe', 'httptcoajpbdcalew', 'httptcohfgjgfgfel', 'httptcoot2oooedts', 'httptcohr88cwxpgz', 'adamnibloe', 'httpstco2y4rgob7pj', 'httptcomves6vssyn', 'httptcohhpvpael4n', 'httpstcop5zicjudxo', 'httptcokzhb8zx6yc', 'httptcoeqjcpwilvn', 'httpstcok44tl3rfmy', 'httptcoipt0honoti', 'httptcoszeapueuvy', 'pakistan\\x89ûªs', 'httpstcomrospd9878', 'httpstco4zqrsaqrrt', 'httptco6ar3ukvsxw', 'httptcouiqsfgzoox', 'httptco0fs9ksv5xk', 'officialmqm', 'convivted', 'httptco3mtwh0jjns', 'httptcom5rjekvddp', 'httptcof7wqpcekg2', 'jampampk', 'httptcooef123l5rc', 'httptcovsoxkbt6nq', 'httptcofy30fv0qbx', 'httptcoogzjokd7sv', 'achedin', 'bjpsamvad', 'warra', 'rahulkanwal', 'httptcocwgcciw3v6', 'an\\x89û', 'httptcohgdrk81sn4', 'kasabwe', 'shipsxanchors', 'idek', 'httptcoximpnczxth', 'swiftycommissh', 'taoistinsight', 'immortaltech', 'mccain\\x89ûªs', 'isis\\x89û', 'httptcojnromse1z2', 'acmilan', 'httptcow6yu7qs4cv', 'httptcoph2xli8nve', 'httptco22fuxhn7el', 'httptcou4gsbnu8wc', 'httptcosu4zvwadj7', 'udhampuragain', 'lovemywife1983', 'shedid', '4the', 'washard', 'httptco9tyucdwh3g', 'alipaper', 'keepingtheviginaclean', 'threatconnect', 'httptcohrl4xnj9k7', 'dfir', 'threatintel', 'httptcote5tdlyimn', 'newscomauhq', 'kinggerudo', 'moblins', 'httpstco7paovyzttw', '\\x89û÷british', 'schism\\x89ûª', 'httptcodqtmtpqmbr', 'httptcodmsnyptscy', 'bhusa', '\\x89ûïall', 'islamaphobe', 'httptcohwnyxxkczz', 'dmassa5', 'drake\\x89ûªs', 'httptcoqqskybarng', 'illusoria', 'httptcoe2wgreicmz', 'playingnow', 'bloodbound', 'httptcodly6ruusqk', 'kristyleemusic', 'httpstcob7zwevsrgo', 'devinjoslyn', 'httpstcoetuuyislhw', 'atlevents', 'nlwx', 'lightumupbeast', '12u', 'joestrong', 'gokitgo', 'httptcoesk4yvzvap', 'heheh', 'httptcokqjevyqzlv', 'httptcohmwhob7prs', 'httptcoslqnph34nt', '8960', 'soothmyslumber', 'watermeloann', 'populardemand', 'thewebbeffect19', 'httpstcof0qirs5lja', 'httptcoos1wjrvx5c', 'weebly', 'l9udest', 'asimtanvir', 'nemesiskpes', 'kevr7', 'aaaaaand', 'leonalewis', 'essenceofme', 'wthat', 'httptcox4ecggvnsn', 'httptcot81oayjowc', 'haydnexists', 'didn\\x89ûªt', 'httptco2hv2y2m2oz', 'lorr', '1040pm', 'httptcotq1ruqd4lg', '931pm', '1015pm', 'httptcoh9i6mozask', 'httptcobti8jamfiu', 'httptcoepzgg4uqji', 'museawayfic', 'beenghosting', 'xylodemon', 'rachelrofe', 'httptco5cwuylnfum', 'httptco1tyyqfz13d', 'httptcokjsvw06gbv', 'inws', 'spsgsp', 'httptcoldcwkyuaff', 'fforecast', '933pm', 'httptco1eof1wxnpj', 'skywarn', 'httptcon844h1aspj', 'httptcokea5l3b1ae', 'httptcorsdkwzrc8g', 'vivaargentina', 'httptcotsaletftkt', 'httptcooim6po8xcu', 'httptcoogxsy4gwd1', 'httptcouzwlgjqzns', '05th', 'httptcoyqyiwjn8ez', 'httptcomjstefggu5', 'lightningstrike', 'helsinki\\x89û', 'httpstcorjjxucx5pm', 'httptco7huen4rwrn', 'soonergrunt', 'brrookkllyynnr', 'tornadogiveaway', 'thebookclub', 'httptcoljomctuzfy', 'httpstco2zgvslox5p', 'ticklemeshawn', 'evebrigid', 'laudner', 'httptcopgkbt3mbap', '912pm', '945pm', 'httptcoayfdjeb7hy', 'sunday\\x89ûªs', 'httptcoffnzit7kgn', '829pm', '915pm', 'httptcoo8x4m5er6b', 'httptcoitnkbxgwlh', 'sakhalintribune', 'httptcox8zqbwnfo1', 'thunderstormtornado', 'httptcoy8h5v1j2y7', 'kunalkapoor', 'httptco4wjy7sehmw', 'rebelmage2', 'brinx', 'subtornado', 'httpstcofd9dzspugk', 'ayshuntornado', 'end\\x89û', 'httptcost9jpz8y24', 'httptcop4kofytkdx', 'httptcoizjk6kpwiz', 'toocodtodd', 'wyattb23', '20homers', 'httptcottb9oil8r2', 'timesofindia', 'maaaaan', 'httpstcogajtugaui7', 'httpstcophfoeozyps', 'httptco72ix7vm87w', 'httpstco86v81dv00e', 'httptcocalk5nv5vc', 'homeworldgym', 'thisisperidot', '\\x89û÷vulnerable\\x89ûª', 'httptcoub1jzskmrc', 'toiindianews', 'ofcourse', 'caued', 'httptcos43we7oe2i', 'httptcovscpgmsjxy', 'tanehisicoates', 'httptcowk63tm34a0', 'sriramk', 'dlin71', 'httptcoeyorbmf3o3', 'itssselenaluna', 'httptco0xh758onup', 'httptcocar5qeuvhh', 'httptcohipklxphnp', 'my\\x89û', 'httptcogdjtzkpchk', 'httptcojhupogbvs8', 'httptcozkgqspwyj3', 'httptco21hsrrqzou', 'httptcoxtljz7bjgl', 'hirochii0', 'httptcoand1btizao', 'csaresu', 'httptcosdmrzgeryx', 'leitchfield', 'rescueadoptionlocal', 'homessponsorships', 'httptcoajay0snplg', 'almusafirah', 'innit', 'prettyboyshyflizzy', 'httptcofkxcsztezb', 'httptcokk8cnppzmk', 'onihimedesu', 'battleroyalemod', 'httptcoyeljpqhmed', 'httptcor18autnlsd', 'httptcocnqae9foj6', 'blakeschmidt', 'httptcogbqtc7sp9c', 'httptcous1dmdxzvb', 'hollyw', 'httptcoc22ecvl4hw', 'httptcoexqkmlg4nj', 'dramaallama', 'lilourry', 'narry', 'httptcoqkrltrd39b', 'httptcogrlxurko8d', 'httptcox8moyevjsj', 'httptcofk1vyh5qlk', 'newsdict', 'boyinahorsemask', 'httptcotyyfg4qqvm', 'httptco0ajisa5531', 'hugomatz', 'lilithsaintcrow', 'httptcoeswnsetftf', 'httptco0f8xa4ih1u', 'httptco3yu26v19zh', 'httptcojjl89f9o3v', 'httptcoxe0ee1fzfh', 'httptcodmb6xp966d', 'httptcoknbv2ytnwc', 'qz', 'taraswart', 'viviangiang', 'nissannews', '2car', 'httptco9dwyjqvfy4', 'raabchar28', 'drphil', 'morganlawgrp', 'selfinflict', 'agdq', 'kororinpa', 'tloz', 'crazyindapeg', 'vets78734', 'eightynine', 'httptcospe7u8t40k', 'httptcou2es0uk1u3', 'httptco0dqjeretxu', 'rosenthalauthor', 'gravitychat', 'ashghebranious', 'thetimepast', 'saalon', 'fricken', 'httptcot6fuahfp7p', 'hempoil', 'marijuana\\x89û', 'httptcorhe7dxm7ey', 'intragenerational', 'httptcozweygphpf7', 'arobotlegion', 'keithboykin', 'randallpinkston', 'pozarmy', 'httptcogxq1auzb18', 'httptcofmj8mxjy8a', 'paeds', 'foamcc', 'mustachemurse', 'dateswhitecoats', 'pioneerpress', 'httptcozl7fhucxhl', 'uchicago', 'httptcota1yqclpsc', 'httptcoxtohi1hexy', 'oneborn', 'sadtraumatised', 'ruddyyyyyy', 'jamiegriff97', 'httptcovzgslepkkh', 'annmarieronan', 'niamhosullivanx', 'pyramidhead76', 'ianokavo96', 'httptcodja4relcns', 'mprnews', 'yessum', 'perkpearl', 'viennabutcher', 'wrongdejavu', 'malabamiandsons', 'disneyirh', 'httptcotatzfk63ch', 'snapchatselfie', 'wrongperson', 'emily4everever', 'alrightbut', 'httptcoefg8rth9rb', 'judemugabi', '\\x89ûïkeits', 'livagotta', 'understand\\x89û\\x9d', 'ciaramckendry', 'httptcoagqo1479xm', 'vickybrush', 'kushwush', 'cwheate', 'megancoopy', 'laurathorne97', 'httptcomesqtvdu63', 'argentaelite', 'brookesddl', 'varagesale', 'candacedx', 'httptcoshaznlmsfe', 'leftleaning', 'learni', 'httptcowgl4lubnw1', 'lucysforsale', 'afrikaan', 'thebargain', 'httptcouml5jztmcb', 'canagal', 'badastronomer', 'smoakqueen', 'jusstdoitgirl', 'comcastcares', 'happing', 'annajhm', 'jcomanse', 'paulstaubs', 'rslm72254', 'blanktgt', 'mustve', 'fartanxiety', 'httptcoadip0unxhu', 'httptco3ugfpwmy2x', 'detroitnews', 'httptcomqydxrlae7', 'httptcoepjjkb4be9', '\\x89ûïymcglaun', 'juliekragt', 'wildwestsixgun', 'way\\x89û\\x9dyeah', 'buffetts', 'httptcoj4dqpflmkr', 'caaaaaall', 'troubleniallhariss', 'simplyvain', 'httptcoiahjj0agq6', 'charleyisqueen', 'kerrykatona7', 'tjrobertson2', 'charlieputh', 'httptcoyo3t8qho9h', 'nkulw', 'httptco8odtzmvqar', 'princeoffencing', 'httptcoxaermbmvlv', 'nopower', 'heleneyancey', 'freefromwolves', 'httpstcoudp10frxrl', 'bbshelli', 'crptotech', 'httptcokhztevedja', 'bitcoing', 'blockchain', 'httptcoukqybhxmqi', 'httptcoidws2zgysa', 'httptcoeyevziopg1', 'httptcotjyyft6nv0', 'dvbbs', 'borgeous', 'arceen', 'httpstco743joqazrt', 'httptcoia44nczlif', 'httptcoogtuv1plht', 'httptcotyewzf3hqa', 'httptcosjh0hsrp4s', 'httptcoy518jyrzav', 'tsunaminopeach', 'authormike', 'httptco1rreo2jg9u', 'kamunt', 'youuu', 'httptco0h7oua1pns', 'campanha', 'brinco', 'httptconxkum9h7wd', 'greenlacey', 'erictsunami', 'dalroy', 'httptco3vfkedgrso', 'httptco964dk4rwwe', '\\x89û÷nother\\x89û\\x9d', 'other\\x89û\\x9d', 'tonguetwister', 'todayim', 'bitchruns', 'oktxduo', 'homefolk', 'omw', 'friend59', 'httptcot94lnfwf34', 'httptcorocyyei2dm', 'hardside', 'httptcofxk3zsj2pe', 'httpstcoqct6fb8won', 'edcxo', 'sarahmcpants', 'justjon', 'httptcolbpx8bucnv', 'c720', '3dc', 'itrawcwb', 'httptco3geroq49o1', 'httptcozqoscqd64h', 'httptcoylvvf139bb', 'tittie', 'noemotion', 'edk', 'httptco9odqryjncf', 'ellenfromnowon', '7speed', 'å£9', 'httptcorjpjbwvfck', 'toosoon', 'friend50', 'gthttptcohy5pbe12tm', 'httptcoc1njpli5or', 'briannafrost', 'carolinagutierr', 'httpstcottq9ilhp8w', 'httptcocj76k0yayj', 'httptcoagycutkbnn', 'elianaraquel', 'llegaste', 'm6x100', 'httptcosqpshaws0w', 'httptcoudlebh88uz', 'httptcobcsxyec4ji', 'httptcodfxi76kvx0', 'rodarmer21', 'mrsbinker', 'emiliorivera48', 'davidlabrava', 'thebuffshow', 'thetwisterokc', 'shaniatwain', 'twisterlovesshania', 'httptcoo61h2taae4', 'repped', 'thejonesesvoice', 'liguistic', 'jrlallo', 'breaking144', 'declarat', 'httptcom8ciks60bx', 'acenewsdesk', 'httptcojdvsgvhlis', 'devpeace', 'httptcojwxrx1lsqo', 'httptcosqn4girdvz', 'httptcousvyhdg9og', 'httptco20dncthr4d', 'httptcoq3dtoqo04c', 'httptcoqjuu0wcwpx', 'mrobama', '2slow2report', 'httptcocwzhgezaj4', 'httptco9i6crcrq2m', 'rtcom', 'httpstcofc3bxrthpg', 'httptcobiu4kowglz', 'httptco3ac5wuy1r0', 'httptcoigcetumkcw', 'httptcocaneyttwev', 'nbanews', 'typhoon\\x89û', 'httptcopc8bvuflfj', 'httptcobhzr9ugus2', 'httptcovts9cayibc', 'httptcogei58vhbw6', 'httptcoyvafi3zujx', 'andåêchina', 'httptco3og66nfsig', 'httptcovbhu2t8wgb', 'httptcona2ey64vsg', 'httptco7vcezi6cbb', 'httptcomvsrjd4x3d', 'httptco0xcb7yeqmw', 'httptcopiveupirky', '4yygb', 'httptcodobzc3pitm', 'httptcoleyjwnnah8', 'httptcosa5cdwvdxt', 'httptcogzekqwzijq', 'uncertaintyeconomic', 'rlyeh', 'httptco829n4hjhol', 'httptcog5zsru0zvq', 'answer\\x89û', 'httptcolzasr05ljo', 'httptcoiemxgse2be', 'chestertweetsuk', 'httptcobraoubgec2', 'httptcoawpu0gae0b', 'httptcoayp6zvhm2a', 'httptcoxh4dz1gpyw', 'httptcog0hsyh7yav', 'httptco0blkwcupzq', 'httptcotbqsqtmqv4', 'entershikari', 'jhmnye', 'httptcogw0cxoojyv', 'ontejc', 'httptcoqp6q8rs8on', 'postexistence', 'brzjc', 'httptcoim6m4xaen2', 'httptcowqikqx9e3w', 'httptcogfs7usulgq', 'livescience', 'httptcodpgdnaoy4p', 'httptco4fcjfdkdzs', '1600yearold', 'httptcoglpfu0uriz', 'httpstcom4tui0p9nt', 'httptcolmumzkltln', 'httptcoyebxxarybf', 'httptcosrruqfffr6', 'httptcocadzxagmsi', 'httptcogk4unpznhn', 'httptcoqwsbvflpe1', 'httptcoef4swp9sxz', 'httptconb7maaaofs', 'httptcoje86vetdxh', 'httptcostpoda901u', 'orcot', 'orpol', 'httptcodazqamoo0c', 'httptcovxuftvt9au', 'httptconqxqyi70w4', 'httptco3zasz6wxjj', 'httptcoalumrgl40e', 'httptco8h2kctfb8i', 'httptcoenrpgrgtts', 'httptco2lbtshxi3c', 'httptco0jmkdtcymj', 'httptco6peeip4y7w', 'httptcoi5k3vjicmg', 'httptcocizjafnm4e', 'httptconeqw47e1uj', 'badchoices', 'bantrophyhunting', 'scourgue', 'uspacific', 'skarletan', 'vickie627', 'httptcokxewlhh7uw', 'httptcoi0tvl15coz', 'httptcoigtxhapo0k', 'teafrystlik', 'httptcooq0lnf2yug', 'httptcotzdbcgpsag', 'httptcoxrgpdlswfd', 'httptcofkv5qxdcy3', 'httptconkaw9ezqgg', 'iateyourfood', 'uprootin', 'httptcofhvokmphed', 'httptcocgvuy3rcxo', 'httpstcoj3di85ist5', 'httptcorj9gkjkjjn', 'httptcoseshqn5dsk', 'httptcobyj5dfa2rv', 'httptcojtjofltms4', 'nside', 'å©daniel', 'korzhonov', 'httptco8t36hwgoqd', 'httptcooegfqbiqiq', 'httptcoetswuod3om', 'maailiss', 'httptco4o460fm8hn', 'httptcoauf4j4owj1', 'httptco7mug2kahl7', 'httptcons1aggfnxz', 'httptcood250zshfy', 'httptco3rrght4ewp', 'httptcodisrwhqgym', 'mrmikeeaton', 'muazimusprime', 'httptco7uf7tst9zx', 'httptco3nuih6pkui', 'httptco2ufcc6gh3m', 'songhey89', 'httptcoy2mt6v13e8', 'alextucker', 'faried', 'httptco20twgpmm7d', 'west\\x89ûªs', 'httpstcomusbik7ejf', 'lexipurduee', 'volcanotornado', 'httptcortuetdfbqb', 'csismica', 'httptcor3pddjpiee', 'latechwatch', 'cityofmemphis', 'mgs2', 'dpagexxi', 'scegnews', 'httptcoojus08yzrq', '1preview', 'httptco6sdgz5dxnt', 'littlewomenla', 'seasonfrom', 'onshit', 'thugging', 'worldwatchesferguson', 'govjaynixon', 'clairecmc', 'kasiakosek', 'robertoneill31', 'httptcopty9hrcuzh', 'decision\\x89û', 'httpstco2lgtzkwmqw', 'httptcon9snjmevi6', 'roguewatson', 'junsuisengen', 'dwarfonjetpack', 'httptconmaumydke1', 'httptcosdogef3kft', 'httptcox0giy85bs8', 'rosemarytravale', 'weaponxmusic', 'muttatek', 'kwwwkwwwk', 'jiahahahha', 'yeyeulala', 'httptcosnqfhpym3o', 'httptcorjcaxjp4os', 'astrologian', 'httptcouwobuuw2mk', 'httptcot6obvwaphw', 'insanelimits', '400t', 'camilla33', 'craykain', 'choppas', 'slosher', 'splatdown', 'splatling', 'thatrussianman', 'splatoon', 'splattershot', 'httptcoqr1l2jyuez', 'salmanmydarling', 'snazzychipz', 'powerhiroshima', '030811', '41yearold', 'servicin', 'lurkin', 'httptcocgfzk8ha1r', 'danagould', 'waynesteratl', 'hendrixonfire', 'blackcats', 'kdr', 'argus99', 'heidia1438', 'httptcohgb1mc3irk', 'httpstco6ysxghc8gz', 'å£100bn', 'chemicalweapons', '96355', 'httptcolknu8902je', 'httpstco7qrepylluk', 'ineedexposure', 'httptcoaauizggc9q', 'httpstcondxrk2ncln', 'uswarcrimes', 'wooooooo', 'gamerant', 'httptco76ehhmqq6r', 'httptcoumtffa9jjb', 'httptcovn0accf6d4', 'ojoubot', 'pelosis', 'httptcojnn0krnxvy', 'httptco5loiwuyv5r', 'dorismatsui', 'httptcon4neuiyt2k', 'httpstcocyu8zxw1oh', 'httptcovxxmvgtzvg', 'eyecuts', 'erasuterism', 'httptcoxbmm7ite9q', 'httptcol2nmywrmq2', 'bigbrother', 'x37bs', '66m', 'httptco0migwcmtje', 'httptcocbxnhhz6kd', 'davidhurn', 'tokteacher', 'httptco73umw2igrz', 'httptcomtgfx3efiv', 'httptcoad38kwoglh', 'kirstiealley', 'animaladvocate', 'otherwisethey', 'finsup', 'httptcoi1eeuxxz3a', 'glosblue66', 'httptcokmdqm3nlns', 'httptcopyvrprnhop', 'httptcohddbmu2yca', 'httptco4fynq1hwwb', 'httpstcoj3cirxjfa6', '14hours', 'httpstcoto0bpieyms', 'httpstcorukjyjg9oq', 'jaiden', 'httptcoy7o55by36f', 'httptcolayzba9y8h', 'httptco9ckgggyvou', 'httptcou0vdbrxfia', 'drmartyfox', 'httptcoqwhinbni8e', 'vixmeldrew', 'httptcoeaslgea1b7', 'httptcomxkalmqpdb', 'httptco8kznhtytt9', 'baekhyun', 'suho', 'syjexo', 'httptcooazjpwueyr', 'byuwnbeki', 'south\\x89û', 'httpstcogeht4ski86', 'httptcowmoyibwec1', 'lucymayofficial', 'httptco0rsverlztm', 'httptcokrnw0wxhe5', '30pcs', 'alexhammerstone', 'kttape', 'ktfounder', 'remymarcel', 'frofrofro\\x89û', 'httpstcob19z8vi3td', 'httptcol8w30wfw3r', 'theemobrago', 'ckosova', 'edfringe', 'm00nf00l', 'summerhallery', 'httpstcoiiaigzkbnj', 'whedonesque', 'httptcoq0jhdcu6ly', 'cantwaittoplayinminneapolis', 'picthis', 'httptcobr7gmmh5ek', 'amazingness', 'finall\\x89û', 'quals', 'httptcomligpuhvoh', 'httptcotcs2cd5y6y', 'httpstcoi2lwty5yup', 'articals', 'httptcoqd3dssfwue', 'brothernlaw', 'riooooos', 'httpstco463p0ys0eb', 'httptco2m1gneaifl', 'httptcouqh85mip0v', 'httptco0x8jaqtowm', 'httptcom1rosi2wcs', 'httptcoqcyqhvn2ha', 'httptcocmsgexm4fc', 'sanonofre', 'httptcoj2pykyo0en', 'foxdebatequestions', 'jennife29916207', 'prisonplanet', 'warningwild', 'httptco0szwlwl9qu', 'senfeinstein', 'httptcoqwpuxpywbf', 'httptco8jlxz6fkxy', 'httptcoqkz2sp06xn', 'thedayct', '080215', 'httptco9ikhdyhvnc', 'farmr', 'martsunmushroom', 'foragesecret', 'randerson62', 'enzasbargains', 'profittothepeople', 'wbcshirl2', 'doessnt', 'fingerrockfire', 'httptcoex8a5jyzm5', 'azwx', 'httptcodeeekobmxa', 'kc5kh', 'httptcodjufkrrtft', 'httptcons5lbs5zup', 'httptcoezeisasm0c', 'mattkroschel', 'httptcoswwylrk0fv', 'httpstcoof3td6dglb', 'httptcoanodgxzr3e', '75000', 'httptcod2veppeh8s', 'httptcolzml1xb2nh', 'httptco7xq8jrtl7i', 'httptcoj90dt2qnxb', 'httptcozggpacjp7d', 'httptco6agmkx2ww4', 'httptcolec1vms7x2', 'httptcou2do2mc2ri', 'httptco3om3xw6cz8', '\\x89ûïnumbers', 'trend\\x89û\\x9d', 'smem', 'httptcoanlhw2izkz', 'httptcoh9v4howtip', 'httptco8icseshbj3', 'httptcogzgpwsqymw', 'firenews', 'httptcoay49mtyyl8', 'httptcouci8stqug1', 'httptcospt54kfa9q', 'httptco4esbsa8int', 'utfire', 'lancasteronline', 'httptcoph7wllkrfi', 'httptcoqwrrfdgxcc', 'httptcosstj2bepqn', 'easternoregon\\x89û', 'httpstcov6qxnfhrxf', 'calwildfires', 'httptcowwxbgubww5', 'httptcouorxff0nfx', 'httptcop0gos5urxg', 'signin', 'httptcoablz20mgzv', 'wqow', 'httptcohj26sfddfi', 'httptco2ppzgpxybi', 'httptcods9khkffwc', 'galvnews', 'httpstcocm9tve2vsq', 'lastingness', 'ziuw', 'httptcoirt4kkgsjx', 'bampn', 'httptcodde8gxaqrp', 'thebachelorette', 'httptcojiomnrcygt', 'httptcoei8qqhregz', 'httptcoh132iul7mu', 'niiiice', 'windstormåêinsurer', 'httptco92fwtobi3u', 'wsvr1686b', 'vhull', 'eurostyle', 'httptco8prnhrhb2t', 'httptcooahlthrozy', 'rainwindstorm', 'odeekiti', 'gbonyin', 'httptcoetgqf28mge', 'httptcobyvubg0wye', 'wzbt', 'httptcoai6kworbbt', 'txlege', 'httptcowal4frtfka', 'diegt', 'chriscesq', 'bigtent', 'hailstormwindstorm', 'charlesadler', 'httptcobp6mfjhars', 'httptcoqzrcinaf5z', 'httptcobnnidfzwbd', 'battleanother', 'httptcon00dvxega2', 'httptcokoch8slasq', 'httpstcogcdxydbsc4', 'calmstillness', 'eyecenter', 'httptcooskfyj8ck7', 'besafe', 'upwindstorm', 'httptcokkeh8qcgc3', 'httptcoe1kbludwh5', 'httptcorb02svlppu', 'damnwas', 'httpstcodhggxo7mcc', 'blakeshelton', 'windstormfollow', 'httptcoesemjrn5cc', 'httptcobz07c9wthx', 'ijournal', 'httptco5koho39oje', 'datingtips', 'rangerkaitimay', 'jacksoncalm', 'httptcotwpl0nl8cx', 'httptcoxqiadg9h2w', 'httptcoypeelmjdzy', 'httptcor8k6rxw6d6', 'httptcoxxfk4khbiw', 'nomorehandouts', 'httptcopz56zjssft', 'bit\\x89û', 'httptcocrcn8rwvkj', 'httptcokaky4mpco4', 'httptcom9d2elimzi', 'httptcoznptdicqxe', 'kindlecountdown', 'mfrwauthor', 'mgtab', '\\x89ûïthat\\x89ûªs', 'wounded\\x89û\\x9d', 'httptco3ife1zsop7', 'httptcorz7fbr10xw', 'httptcocntwb6sczj', 'claimin', 'httptco8acdf4zui6', 'httptcohfvnyft78c', 'httptcobjycrgfh5y', 'asterpuppet', 'httptcoy0qqs2l7bs', 'httptcoiphazv47g7', 'httptcobre2lgmn7c', 'an247', 'httptcooioecbsh1f', 'officerrelated', 'httptcokmxzho5tfm', 'httptcoalbvdnwjtg', 'httptco5uftrxppv0', 'httptcozdhwrn6czc', 'httptcohworb1n6vn', '75k', '52k', 'oifoef', 'httptcoshhlv4dplz', 'httptcoia1hngnhvb', 'httptcoazovgv4sb6', 'aampw', '2pmclose', 'senzu', 'gohan\\x89ûªs', 'httptcoqi2bdvkab7', 'httptcow0r8eaoka0', 'charlesdagnall', 'rubbin', 'httptcom8ufjdtlsm', 'endoccupation', 'endconflict', 'freekashmir', 'morethan', 'kashmirconflict', 'dianneg', 'httpstco6vyyer6py0', 'selfesteem', 'httptcotu6scrsxvg', 'httptcoidhj4jbq05', 'httptcoyaqrsximph', 'ferrells', 'twcnewsclt', 'httptconnbexhklhr', 'mattmosley', 'celebrety', '79yearold', 'httptconu3xxn55vs', 'httptcoxngrfnqsx3', 'enemity', 'bishopfred', 'didbut', 'neverforget', 'egoresolution', 'icymagistrate', '\\x89ûóher', 'arm\\x89ûò', 'projectiles\\x89ûò', 'more\\x89ûó', 'httptcogopsicp8bm', 'nicolaclements4', 'dauntedpsyche', 'httptcoobsz45ybaj', 'sorrower', 'httptcol056yj2ioi', 'httptcoutmwmjirty', 'squeaver', 'captainnmorgan', 'destiel', 'httpstcomkx6ux4ozt', 'httptcojhc2rt0v9f', 'aquahttptcoscghl0piq6', 'memenaar', 'kindof', 'restrospect', 'pokemoncards', 'icequeenfroslas', 'artectura', 'pop2015', 'nå¼36', 'httpstco9le0b19lvf', 'newave', 'httptcox0qlgwoymt', 'httptcohqnx8qmeg3', '\\x89ûïnews\\x89û\\x9d', 'livestreaming', 'girlthatsrio', 'georgefoster72', 'httptcow3rga0nkom', 'httptco0tzsqe8esd', 'shoalstraffic', 'misscharleywebb', 'httptcouu64wfg17m', 'httptcon2qzbmzuly', 'amazondeals', 'skylanders', 'httptcopmbuzfgin3', 'httptcoei9x4h8thm', 'titortau', 'factchecking', 'ombudsmanship', 'raineishida', 'lolim', 'amazon\\x89ûªs', 'httptcodbdwtocgxf', 'httptcosfakqnveta', 'httptcoyopeypjkb2', 'httptcogrh7zlk979', 'httptcocarmqivkwu', 'httptcocs8myauna4', 'janeenorman', 'httptcocdohgnjmst', 'httptcov5ogr3f5n9', 'httptco4xb4zwyhct', 'httptcouqva3dfbca', 'httptcokacrlpjc0l', 'httptcoyjjbntcazy', 'httptcokfzvmxj9st', 'httptcoptevy815mt', 'ajabrown', 'httptcowmnb5ita5p', 'httptco4sf0rgn8wo', 'httptcoledmvezcol', 'ministersays', 'httptcoqsipl1c9fa', 'httptcobptzamjl2k', 'httptcoljylxz1fbi', 'firstever', 'httptcovazpg0ftmu', 'httptcoqnvxj2palj', 'httptcodtfswnjzil', 'httptcoedekrmqtpq', 'httptcoiidkc0jsbx', 'najibrazak', 'malaysiaairlines', 'httptcoub3woz2ut1', 'httptcoz2vdgiyowf', 'httptco2jr3yo55dr', 'httptcorp2dxfkhdq', 'httpstcoakmihlris1', 'httptcokukmal605a', 'httptcoyi54xrhqgb', 'httptcomssq0svnbm', 'httptconn6y0fd3l0', 'httptco1yixfg1hdy', 'yahoonewsdigest', 'httptco5ebpybfh4d', 'julianlage', 'grantgordy', 'rossmartin7', 'pastie', 'httptcodtdidinqyf', 'iger\\x89ûªs', 'disney\\x89ûªs', '\\x89ûòåêcnbc', 'httptcopnlucerp0x', 'oliviaapalmerr', 'thatswhatfriendsarefor', 'httpstcog0r3zr1nqj', 'httptcosf5jdnvdw9', 'httptcoac6i3te8mt', 'residualincome', 'httptcowq0jlshw1g', 'httptcodeqqopsp4f', 'httptcolbkvfqrpgt', 'httptco3rva5uvt0p', 'httptcosijnbmczij', 'httptcoj49xeuj7ps', 'tuneswgg', 'ohhmyjoshh', 'stevenrulles', 'httptcoqvx0vqtpz0', 'httptcovuwbsrsnry', 'earlyexit', 'marynmck', 'httptco3g79prayyc', 'topnews', 'caitsroberts', 'kirafrog', 'mountwario', 'httptcoda9lzton1c', 'httptcoud7xobyua1', 'httptcouea0txrhys', 'httptcoy46isyzkc8', 'widda16', 'jtruff23', 'cameronhacker', 'httptco7ennullkzm', 'engineshed', 'httptcoomnbatjeao', 'httptcon6rbnhmtd4', 'httptcoaawzxykles', 'httptcorsmvgdxriv', 'gameofkittens', 'explodingkittens\\x89û', 'httpstcotfgrayudc5', 'httptcorln09wke9g', '154107', 'httptcogmoul9zq2q', 'httptcovz640xoswj', 'httptcom2hpnoak8b', 'httptcothhjjw51pe', 'ayyo', 'explosivespacked', 'httptconz7ackrrji', 'tnwx', 'httptcofwqfckncqw', 'httptco5b7qt2yxda', 'fatherofthree', 'bathandnortheastsomerset', 'httptcofa3fcnln86', 'httptco5uecmcv2pk', 'httptcorqkk15uhey', 'httptconf4iculoje', 'httptcostfmbbzfb5', 'httptcoymy4rskq3d']\n"
          ]
        }
      ]
    },
    {
      "cell_type": "code",
      "source": [
        "import tensorflow as tf\n",
        "from keras.models import Sequential\n",
        "from keras.layers import Embedding,LSTM,Dense,SpatialDropout1D\n",
        "from keras.initializers import Constant\n",
        "embedding_layer = tf.keras.layers.Embedding(num_words, 300, embeddings_initializer=Constant(embedding_matrix),\n",
        "                                            input_length=MAX_LEN,trainable=False)\n",
        "dropout = tf.keras.layers.SpatialDropout1D(0.2)\n",
        "lstm = tf.keras.layers.Bidirectional(tf.keras.layers.LSTM(64, dropout=0.2, recurrent_dropout=0.2))\n",
        "#lstm = tf.keras.layers.Bidirectional(tf.keras.layers.LSTM(64, return_sequences=True))\n",
        "lstm = tf.keras.layers.LSTM(64, dropout=0.2, recurrent_dropout=0.2)\n",
        "dense = tf.keras.layers.Dense(200, activation='relu')\n",
        "normalize = tf.keras.layers.BatchNormalization()\n",
        "\n",
        "final_dropout = tf.keras.layers.Dropout(0.2)\n",
        "\n",
        "dense_100 = tf.keras.layers.Dense(50, activation='relu')\n",
        "\n",
        "output_layer = tf.keras.layers.Dense(1, activation='sigmoid')\n",
        "\n",
        "embedding_model = tf.keras.Sequential([\n",
        "    embedding_layer,\n",
        "\n",
        "    lstm,\n",
        "\n",
        "\n",
        "    dense_100,\n",
        "    output_layer\n",
        "])\n",
        "embedding_model.summary()"
      ],
      "metadata": {
        "colab": {
          "base_uri": "https://localhost:8080/"
        },
        "id": "CjRsEtJ5jvxo",
        "outputId": "0cc865b5-3112-45b2-a34d-5f1b549210ff"
      },
      "execution_count": 83,
      "outputs": [
        {
          "output_type": "stream",
          "name": "stdout",
          "text": [
            "Model: \"sequential_5\"\n",
            "_________________________________________________________________\n",
            " Layer (type)                Output Shape              Param #   \n",
            "=================================================================\n",
            " embedding_5 (Embedding)     (None, 40, 300)           6381600   \n",
            "                                                                 \n",
            " lstm_8 (LSTM)               (None, 64)                93440     \n",
            "                                                                 \n",
            " dense_16 (Dense)            (None, 50)                3250      \n",
            "                                                                 \n",
            " dense_17 (Dense)            (None, 1)                 51        \n",
            "                                                                 \n",
            "=================================================================\n",
            "Total params: 6478341 (24.71 MB)\n",
            "Trainable params: 96741 (377.89 KB)\n",
            "Non-trainable params: 6381600 (24.34 MB)\n",
            "_________________________________________________________________\n"
          ]
        }
      ]
    },
    {
      "cell_type": "code",
      "source": [
        "train_texts, test_texts, train_labels, test_labels = train_test_split(tweet_pad, labels, test_size=0.2, random_state=42)"
      ],
      "metadata": {
        "id": "g4X4zI3-krXr"
      },
      "execution_count": 74,
      "outputs": []
    },
    {
      "cell_type": "code",
      "source": [
        "embedding_model.compile(optimizer = 'adam',\n",
        "              loss='categorical_crossentropy',\n",
        "              metrics=['accuracy'])"
      ],
      "metadata": {
        "id": "PuxJ_c7wlCq8"
      },
      "execution_count": 84,
      "outputs": []
    },
    {
      "cell_type": "code",
      "source": [
        "try:\n",
        "\n",
        "    history = embedding_model.fit( train_texts, train_labels, batch_size=32,\n",
        "                    epochs=5, verbose=1, steps_per_epoch=len(train_texts) // 32, validation_data=(test_texts, test_labels))\n",
        "except RuntimeError as e:\n",
        "  print(e)"
      ],
      "metadata": {
        "colab": {
          "base_uri": "https://localhost:8080/"
        },
        "id": "MSbF33sLk5r4",
        "outputId": "9a352fd7-94f8-49a1-bd5d-a1d3eec142de"
      },
      "execution_count": 85,
      "outputs": [
        {
          "output_type": "stream",
          "name": "stdout",
          "text": [
            "Epoch 1/5\n"
          ]
        },
        {
          "output_type": "stream",
          "name": "stderr",
          "text": [
            "/usr/local/lib/python3.10/dist-packages/tensorflow/python/util/dispatch.py:1260: SyntaxWarning: In loss categorical_crossentropy, expected y_pred.shape to be (batch_size, num_classes) with num_classes > 1. Received: y_pred.shape=(None, 1). Consider using 'binary_crossentropy' if you only have 2 classes.\n",
            "  return dispatch_target(*args, **kwargs)\n"
          ]
        },
        {
          "output_type": "stream",
          "name": "stdout",
          "text": [
            "190/190 [==============================] - 19s 78ms/step - loss: 0.0000e+00 - accuracy: 0.5701 - val_loss: 0.0000e+00 - val_accuracy: 0.5739\n",
            "Epoch 2/5\n",
            "190/190 [==============================] - 14s 75ms/step - loss: 0.0000e+00 - accuracy: 0.5693 - val_loss: 0.0000e+00 - val_accuracy: 0.5739\n",
            "Epoch 3/5\n",
            "190/190 [==============================] - 14s 76ms/step - loss: 0.0000e+00 - accuracy: 0.5703 - val_loss: 0.0000e+00 - val_accuracy: 0.5739\n",
            "Epoch 4/5\n",
            "190/190 [==============================] - 14s 75ms/step - loss: 0.0000e+00 - accuracy: 0.5680 - val_loss: 0.0000e+00 - val_accuracy: 0.5739\n",
            "Epoch 5/5\n",
            "190/190 [==============================] - 14s 76ms/step - loss: 0.0000e+00 - accuracy: 0.5705 - val_loss: 0.0000e+00 - val_accuracy: 0.5739\n"
          ]
        }
      ]
    }
  ]
}